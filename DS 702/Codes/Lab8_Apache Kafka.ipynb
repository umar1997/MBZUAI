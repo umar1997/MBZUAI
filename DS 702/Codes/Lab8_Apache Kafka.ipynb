{
 "cells": [
  {
   "cell_type": "markdown",
   "metadata": {},
   "source": [
    "# Apache Kafka\n",
    "\n",
    "http://cloudurable.com/blog/kafka-architecture/index.html"
   ]
  },
  {
   "cell_type": "markdown",
   "metadata": {},
   "source": [
    "The documentation on Kafka is available here: [https://kafka.apache.org/.](https://kafka.apache.org/)\n",
    "\n",
    "\n",
    "Apache Kafka is a distributed event store and stream-processing platform\n",
    "\n",
    "\n",
    "Kafka is primarily used to build real-time streaming data pipelines and applications that adapt to the data streams. It combines messaging, storage, and stream processing to allow storage and analysis of both historical and real-time data."
   ]
  },
  {
   "cell_type": "markdown",
   "metadata": {},
   "source": [
    "### Running a Kafka Broker"
   ]
  },
  {
   "cell_type": "markdown",
   "metadata": {},
   "source": [
    "#### Installation"
   ]
  },
  {
   "cell_type": "markdown",
   "metadata": {},
   "source": [
    "`Installation` The first step to use Kafka is to download the archive including all binary files and\n",
    "extracting this archive:\n",
    "```\n",
    "wget https://archive.apache.org/dist/kafka/2.7.0/kafka_2.12-2.7.0.tgz\n",
    "tar zxvf kafka_2.12-2.7.0.tgz\n",
    "```"
   ]
  },
  {
   "cell_type": "markdown",
   "metadata": {},
   "source": [
    "It's better to work on terminals. "
   ]
  },
  {
   "cell_type": "code",
   "execution_count": null,
   "metadata": {},
   "outputs": [],
   "source": [
    "!wget https://archive.apache.org/dist/kafka/2.7.0/kafka_2.12-2.7.0.tgz\n",
    "!tar zxvf kafka_2.12-2.7.0.tgz\n",
    "\n",
    "\n",
    "# A kafka folder will be made in the current folder"
   ]
  },
  {
   "cell_type": "markdown",
   "metadata": {},
   "source": [
    "At this point, Kafka is ready to be used. "
   ]
  },
  {
   "cell_type": "markdown",
   "metadata": {},
   "source": [
    "#### Starting a Zookeeper"
   ]
  },
  {
   "cell_type": "markdown",
   "metadata": {},
   "source": [
    "Kafka relies on Zookeeper to reliably store information about the configuration of a Kafka Cluster, about the messages that have been delivered to clients, etc.\n",
    "\n",
    "In a realistic setup, the Zookeeper service should be run on multiple nodes, that are not the ones\n",
    "where Kafka is going to execute. However, in this lab, we are going to simply make some tests\n",
    "with a local deployment. As such, we are going to run a single-node Zookeeper instance, as\n",
    "follows:"
   ]
  },
  {
   "cell_type": "markdown",
   "metadata": {},
   "source": [
    "Go to the bin folder of kafka_2.12-2.7.0"
   ]
  },
  {
   "cell_type": "markdown",
   "metadata": {},
   "source": [
    "```\n",
    "bin/zookeeper-server-start.sh config/zookeeper.properties\n",
    "```"
   ]
  },
  {
   "cell_type": "code",
   "execution_count": null,
   "metadata": {},
   "outputs": [],
   "source": [
    "# !bin/zookeeper-server-start.sh config/zookeeper.properties"
   ]
  },
  {
   "cell_type": "code",
   "execution_count": null,
   "metadata": {},
   "outputs": [],
   "source": [
    "sh zookeeper-server-start.sh ./../config/zookeeper.properties # Run this in bin\n",
    "#  client port address is 0.0.0.0:2181"
   ]
  },
  {
   "cell_type": "markdown",
   "metadata": {},
   "source": [
    "#### Starting a Kafka Broker"
   ]
  },
  {
   "cell_type": "markdown",
   "metadata": {},
   "source": [
    "Here, we are going to work with a single Kafka broker. To launch the broker, run in a new terminal:"
   ]
  },
  {
   "cell_type": "markdown",
   "metadata": {},
   "source": [
    "```\n",
    "bin/kafka-server-start.sh config/server.properties\n",
    "```"
   ]
  },
  {
   "cell_type": "code",
   "execution_count": null,
   "metadata": {},
   "outputs": [],
   "source": [
    "# !bin/kafka-server-start.sh config/server.properties"
   ]
  },
  {
   "cell_type": "code",
   "execution_count": null,
   "metadata": {},
   "outputs": [],
   "source": [
    "sh kafka-server-start.sh ./../config/server.properties"
   ]
  },
  {
   "cell_type": "markdown",
   "metadata": {},
   "source": [
    "### Working with Kafka"
   ]
  },
  {
   "cell_type": "markdown",
   "metadata": {},
   "source": [
    "Messages in Kafka are published in a topic. The following command can be used to obtain the list\n",
    "of topics that already exist in a Kafka cluster: \n",
    "```sh\n",
    "bin/kafka-topics.sh --list --zookeeper localhost:2181\n",
    "```"
   ]
  },
  {
   "cell_type": "code",
   "execution_count": null,
   "metadata": {},
   "outputs": [],
   "source": [
    "# !bin/kafka-topics.sh --list --zookeeper localhost:2181\n",
    "# In bin file\n",
    "sh kafka-topics.sh --list --zookeeper localhost:2181\n",
    "    \n",
    "# Will be empty"
   ]
  },
  {
   "cell_type": "markdown",
   "metadata": {},
   "source": [
    "At the beginning, you should observe that no topics exist. Hence we are going to create one:"
   ]
  },
  {
   "cell_type": "markdown",
   "metadata": {},
   "source": [
    "```\n",
    "bin/kafka-topics.sh --create --bootstrap-server localhost:9092 \\\n",
    "    --replication-factor 1 --partitions 1 \\\n",
    "    --topic kafka-topic\n",
    "```"
   ]
  },
  {
   "cell_type": "code",
   "execution_count": null,
   "metadata": {},
   "outputs": [],
   "source": [
    "# Create a topic\n",
    "# In bin file\n",
    "sh kafka-topics.sh --create --bootstrap-server localhost:9092 --replication-factor 1 --partitions 1 --topic kafka-topic"
   ]
  },
  {
   "cell_type": "markdown",
   "metadata": {},
   "source": [
    "You can then verify that this new topic exists. "
   ]
  },
  {
   "cell_type": "code",
   "execution_count": null,
   "metadata": {},
   "outputs": [],
   "source": [
    "sh kafka-topics.sh --list --zookeeper localhost:2181\n",
    "\n",
    "# You will get kafka-topic as output"
   ]
  },
  {
   "cell_type": "markdown",
   "metadata": {},
   "source": [
    "It is now time to publish the first messages in the topic. To publish messages, we are going to use\n",
    "the Kafka client console. To start the console, run:\n",
    "\n",
    "```\n",
    "bin/kafka-console-producer.sh --broker-list localhost:9092 \\\n",
    "    --topic kafka-topic\n",
    "```\n",
    "\n",
    "From this point on, you can start publishing messages on the topic by entering messages in the\n",
    "console. However, the setup is not yet very interesting as there are no processes reading the\n",
    "messages published on the topic. "
   ]
  },
  {
   "cell_type": "code",
   "execution_count": null,
   "metadata": {},
   "outputs": [],
   "source": [
    "sh kafka-console-producecd.sh --broker-list localhost:9092 --topic kafka-topic"
   ]
  },
  {
   "cell_type": "markdown",
   "metadata": {},
   "source": [
    "To read the messages published on the topic, we are going to start a consumer console: \n",
    "\n",
    "```\n",
    "bin/kafka-console-consumer.sh --bootstrap-server localhost:9092 \\\n",
    "    --topic kafka-topic --from-beginning\n",
    "```\n",
    "\n",
    "Note that since we used the flag -from-beginning, the consumer receives all the messages\n",
    "published since the topic has been created. To create a client that only receives messages published\n",
    "after it connected, simply remove this flag."
   ]
  },
  {
   "cell_type": "markdown",
   "metadata": {},
   "source": [
    "### Cleaning"
   ]
  },
  {
   "cell_type": "code",
   "execution_count": null,
   "metadata": {},
   "outputs": [],
   "source": [
    "cd to / (root) then\n",
    "rm -rf /tmp/zookeeper/* /tmp/kafka-logs/*\n",
    "\n",
    "# Keep the folders I guess for later"
   ]
  },
  {
   "cell_type": "markdown",
   "metadata": {},
   "source": [
    "If you're going to create a new environment: \n",
    "\n",
    "- first, stop the existing Kafka broker by sending a `SIGINT` (`Ctrl + C`). \n",
    "- then, stop the Zookeeper service by sending a `SIGINT` signal to the process. (note that it is important to stop the Kafka broker first) \n",
    "- delete the logs of Zookeeper and Kafka using the following command: \n",
    "```\n",
    "rm -rf /tmp/zookeeper/* /tmp/kafka-logs/*\n",
    "```"
   ]
  },
  {
   "cell_type": "markdown",
   "metadata": {},
   "source": []
  }
 ],
 "metadata": {
  "kernelspec": {
   "display_name": "Python 3 (ipykernel)",
   "language": "python",
   "name": "python3"
  },
  "language_info": {
   "codemirror_mode": {
    "name": "ipython",
    "version": 3
   },
   "file_extension": ".py",
   "mimetype": "text/x-python",
   "name": "python",
   "nbconvert_exporter": "python",
   "pygments_lexer": "ipython3",
   "version": "3.8.10"
  }
 },
 "nbformat": 4,
 "nbformat_minor": 2
}
