{
 "cells": [
  {
   "cell_type": "markdown",
   "metadata": {
    "id": "scyE4k8gpwl0"
   },
   "source": [
    "# 1 - BiLSTM for PoS Tagging\n",
    "\n",
    "## Introduction\n",
    "\n",
    "In this series we'll be building a machine learning model that produces an output for every element in an input sequence, using PyTorch and TorchText. Specifically, we will be inputting a sequence of text and the model will output a part-of-speech (PoS) tag for each token in the input text. This can also be used for named entity recognition (NER), where the output for each token will be what type of entity, if any, the token is.\n",
    "\n",
    "In this notebook, we'll be implementing a multi-layer bi-directional LSTM (BiLSTM) to predict PoS tags using the Universal Dependencies English Web Treebank (UDPOS) dataset.\n",
    "\n",
    "## Preparing Data\n",
    "\n",
    "First, let's import the necessary Python modules."
   ]
  },
  {
   "cell_type": "code",
   "execution_count": 27,
   "metadata": {
    "id": "9osUMmompwl2"
   },
   "outputs": [],
   "source": [
    "import torch\n",
    "import torch.nn as nn\n",
    "import torch.optim as optim\n",
    "\n",
    "from torchtext.legacy import data\n",
    "from torchtext.legacy import datasets\n",
    "\n",
    "import spacy\n",
    "import numpy as np\n",
    "\n",
    "import time\n",
    "import random"
   ]
  },
  {
   "cell_type": "markdown",
   "metadata": {
    "id": "-5OZxOjBpwl3"
   },
   "source": [
    "Next, we'll set the random seeds for reproducability."
   ]
  },
  {
   "cell_type": "code",
   "execution_count": 28,
   "metadata": {
    "id": "egSkC0DDpwl4"
   },
   "outputs": [],
   "source": [
    "SEED = 1234\n",
    "\n",
    "random.seed(SEED)\n",
    "np.random.seed(SEED)\n",
    "torch.manual_seed(SEED)\n",
    "torch.backends.cudnn.deterministic = True"
   ]
  },
  {
   "cell_type": "markdown",
   "metadata": {
    "id": "oTuoKelVpwl4"
   },
   "source": [
    "One of the key parts of TorchText is the `Field`. The `Field` handles how your dataset is processed.\n",
    "\n",
    "Our `TEXT` field handles how the text that we need to tag is dealt with. All we do here is set `lower = True` which lowercases all of the text.\n",
    "\n",
    "Next we'll define the `Fields` for the tags. This dataset actually has two different sets of tags, [universal dependency (UD) tags](https://universaldependencies.org/u/pos/) and [Penn Treebank (PTB) tags](https://www.sketchengine.eu/penn-treebank-tagset/). We'll only train our model on the UD tags, but will load the PTB tags to show how they could be used instead.\n",
    "\n",
    "`UD_TAGS` handles how the UD tags should be handled. Our `TEXT` vocabulary - which we'll build later - will have *unknown* tokens in it, i.e. tokens that are not within our vocabulary. However, we won't have unknown tags as we are dealing with a finite set of possible tags. TorchText `Fields` initialize a default unknown token, `<unk>`, which we remove by setting `unk_token = None`.\n",
    "\n",
    "`PTB_TAGS` does the same as `UD_TAGS`, but handles the PTB tags instead."
   ]
  },
  {
   "cell_type": "code",
   "execution_count": 29,
   "metadata": {
    "id": "fidoBBJfpwl5"
   },
   "outputs": [],
   "source": [
    "TEXT = data.Field(lower = True)\n",
    "UD_TAGS = data.Field(unk_token = None)\n",
    "PTB_TAGS = data.Field(unk_token = None)"
   ]
  },
  {
   "cell_type": "code",
   "execution_count": 30,
   "metadata": {},
   "outputs": [
    {
     "data": {
      "text/plain": [
       "<torchtext.legacy.data.field.Field at 0x24d7b470460>"
      ]
     },
     "execution_count": 30,
     "metadata": {},
     "output_type": "execute_result"
    }
   ],
   "source": [
    "TEXT"
   ]
  },
  {
   "cell_type": "markdown",
   "metadata": {
    "id": "Te5ZU7FPpwl5"
   },
   "source": [
    "We then define `fields`, which handles passing our fields to the dataset.\n",
    "\n",
    "Note that order matters, if you only wanted to load the PTB tags your field would be:\n",
    "\n",
    "```\n",
    "fields = ((\"text\", TEXT), (None, None), (\"ptbtags\", PTB_TAGS))\n",
    "```\n",
    "\n",
    "Where `None` tells TorchText to not load those tags."
   ]
  },
  {
   "cell_type": "code",
   "execution_count": 31,
   "metadata": {
    "id": "Iqya4Ki-pwl6"
   },
   "outputs": [],
   "source": [
    "fields = ((\"text\", TEXT), (\"udtags\", UD_TAGS), (\"ptbtags\", PTB_TAGS))"
   ]
  },
  {
   "cell_type": "code",
   "execution_count": 32,
   "metadata": {},
   "outputs": [
    {
     "data": {
      "text/plain": [
       "(('text', <torchtext.legacy.data.field.Field at 0x24d7b470460>),\n",
       " ('udtags', <torchtext.legacy.data.field.Field at 0x24d7b45b640>),\n",
       " ('ptbtags', <torchtext.legacy.data.field.Field at 0x24d7b470160>))"
      ]
     },
     "execution_count": 32,
     "metadata": {},
     "output_type": "execute_result"
    }
   ],
   "source": [
    "fields"
   ]
  },
  {
   "cell_type": "markdown",
   "metadata": {
    "id": "6AHzDh46pwl7"
   },
   "source": [
    "Next, we load the UDPOS dataset using our defined fields."
   ]
  },
  {
   "cell_type": "code",
   "execution_count": 33,
   "metadata": {
    "id": "eI_RLyzzpwl7"
   },
   "outputs": [],
   "source": [
    "train_data, valid_data, test_data = datasets.UDPOS.splits(fields)"
   ]
  },
  {
   "cell_type": "code",
   "execution_count": 34,
   "metadata": {},
   "outputs": [
    {
     "data": {
      "text/plain": [
       "<torchtext.legacy.datasets.sequence_tagging.UDPOS at 0x24d5982a370>"
      ]
     },
     "execution_count": 34,
     "metadata": {},
     "output_type": "execute_result"
    }
   ],
   "source": [
    "train_data"
   ]
  },
  {
   "cell_type": "markdown",
   "metadata": {
    "id": "6cHlSTlEpwl7"
   },
   "source": [
    "We can check how many examples are in each section of the dataset by checking their length."
   ]
  },
  {
   "cell_type": "code",
   "execution_count": 35,
   "metadata": {
    "colab": {
     "base_uri": "https://localhost:8080/"
    },
    "id": "qCznT-c3pwl8",
    "outputId": "01c721a3-0051-43c0-c14a-d1c06c316fbc"
   },
   "outputs": [
    {
     "name": "stdout",
     "output_type": "stream",
     "text": [
      "Number of training examples: 12543\n",
      "Number of validation examples: 2002\n",
      "Number of testing examples: 2077\n"
     ]
    }
   ],
   "source": [
    "print(f\"Number of training examples: {len(train_data)}\")\n",
    "print(f\"Number of validation examples: {len(valid_data)}\")\n",
    "print(f\"Number of testing examples: {len(test_data)}\")"
   ]
  },
  {
   "cell_type": "markdown",
   "metadata": {
    "id": "ZIY61Z5Cpwl9"
   },
   "source": [
    "Let's print out an example:"
   ]
  },
  {
   "cell_type": "code",
   "execution_count": 36,
   "metadata": {},
   "outputs": [
    {
     "name": "stdout",
     "output_type": "stream",
     "text": [
      "{'text': ['[', 'this', 'killing', 'of', 'a', 'respected', 'cleric', 'will', 'be', 'causing', 'us', 'trouble', 'for', 'years', 'to', 'come', '.', ']'], 'udtags': ['PUNCT', 'DET', 'NOUN', 'ADP', 'DET', 'ADJ', 'NOUN', 'AUX', 'AUX', 'VERB', 'PRON', 'NOUN', 'ADP', 'NOUN', 'PART', 'VERB', 'PUNCT', 'PUNCT'], 'ptbtags': ['-LRB-', 'DT', 'NN', 'IN', 'DT', 'JJ', 'NN', 'MD', 'VB', 'VBG', 'PRP', 'NN', 'IN', 'NNS', 'TO', 'VB', '.', '-RRB-']}\n"
     ]
    }
   ],
   "source": [
    "print(vars(train_data.examples[1]))"
   ]
  },
  {
   "cell_type": "code",
   "execution_count": 9,
   "metadata": {
    "colab": {
     "base_uri": "https://localhost:8080/"
    },
    "id": "MpadMDOCpwl9",
    "outputId": "704ee46f-a052-4b93-bbb2-e4fe299bd39e"
   },
   "outputs": [
    {
     "name": "stdout",
     "output_type": "stream",
     "text": [
      "{'text': ['al', '-', 'zaman', ':', 'american', 'forces', 'killed', 'shaikh', 'abdullah', 'al', '-', 'ani', ',', 'the', 'preacher', 'at', 'the', 'mosque', 'in', 'the', 'town', 'of', 'qaim', ',', 'near', 'the', 'syrian', 'border', '.'], 'udtags': ['PROPN', 'PUNCT', 'PROPN', 'PUNCT', 'ADJ', 'NOUN', 'VERB', 'PROPN', 'PROPN', 'PROPN', 'PUNCT', 'PROPN', 'PUNCT', 'DET', 'NOUN', 'ADP', 'DET', 'NOUN', 'ADP', 'DET', 'NOUN', 'ADP', 'PROPN', 'PUNCT', 'ADP', 'DET', 'ADJ', 'NOUN', 'PUNCT'], 'ptbtags': ['NNP', 'HYPH', 'NNP', ':', 'JJ', 'NNS', 'VBD', 'NNP', 'NNP', 'NNP', 'HYPH', 'NNP', ',', 'DT', 'NN', 'IN', 'DT', 'NN', 'IN', 'DT', 'NN', 'IN', 'NNP', ',', 'IN', 'DT', 'JJ', 'NN', '.']}\n"
     ]
    }
   ],
   "source": [
    "print(vars(train_data.examples[0]))"
   ]
  },
  {
   "cell_type": "markdown",
   "metadata": {
    "id": "S39xsVtxpwl9"
   },
   "source": [
    "We can also view the text and tags separately:"
   ]
  },
  {
   "cell_type": "code",
   "execution_count": 10,
   "metadata": {
    "colab": {
     "base_uri": "https://localhost:8080/"
    },
    "id": "UULauMEBpwl-",
    "outputId": "b200c814-28a5-4495-f595-c8b1c9845b26"
   },
   "outputs": [
    {
     "name": "stdout",
     "output_type": "stream",
     "text": [
      "['al', '-', 'zaman', ':', 'american', 'forces', 'killed', 'shaikh', 'abdullah', 'al', '-', 'ani', ',', 'the', 'preacher', 'at', 'the', 'mosque', 'in', 'the', 'town', 'of', 'qaim', ',', 'near', 'the', 'syrian', 'border', '.']\n"
     ]
    }
   ],
   "source": [
    "print(vars(train_data.examples[0])['text'])"
   ]
  },
  {
   "cell_type": "code",
   "execution_count": 11,
   "metadata": {
    "colab": {
     "base_uri": "https://localhost:8080/"
    },
    "id": "ACWgCsPqpwl-",
    "outputId": "55f4e5ca-30bb-4308-cf71-fd6cdfe09847"
   },
   "outputs": [
    {
     "name": "stdout",
     "output_type": "stream",
     "text": [
      "['PROPN', 'PUNCT', 'PROPN', 'PUNCT', 'ADJ', 'NOUN', 'VERB', 'PROPN', 'PROPN', 'PROPN', 'PUNCT', 'PROPN', 'PUNCT', 'DET', 'NOUN', 'ADP', 'DET', 'NOUN', 'ADP', 'DET', 'NOUN', 'ADP', 'PROPN', 'PUNCT', 'ADP', 'DET', 'ADJ', 'NOUN', 'PUNCT']\n"
     ]
    }
   ],
   "source": [
    "print(vars(train_data.examples[0])['udtags'])"
   ]
  },
  {
   "cell_type": "code",
   "execution_count": 12,
   "metadata": {
    "colab": {
     "base_uri": "https://localhost:8080/"
    },
    "id": "ko_hI-Fgpwl-",
    "outputId": "e351c398-01b1-4289-de33-537be2359941"
   },
   "outputs": [
    {
     "name": "stdout",
     "output_type": "stream",
     "text": [
      "['NNP', 'HYPH', 'NNP', ':', 'JJ', 'NNS', 'VBD', 'NNP', 'NNP', 'NNP', 'HYPH', 'NNP', ',', 'DT', 'NN', 'IN', 'DT', 'NN', 'IN', 'DT', 'NN', 'IN', 'NNP', ',', 'IN', 'DT', 'JJ', 'NN', '.']\n"
     ]
    }
   ],
   "source": [
    "print(vars(train_data.examples[0])['ptbtags'])"
   ]
  },
  {
   "cell_type": "markdown",
   "metadata": {
    "id": "0TYUko-Bpwl-"
   },
   "source": [
    "Next, we'll build the vocabulary - a mapping of tokens to integers. \n",
    "\n",
    "We want some unknown tokens within our dataset in order to replicate how this model would be used in real life, so we set the `min_freq` to 2 which means only tokens that appear twice in the training set will be added to the vocabulary and the rest will be replaced by `<unk>` tokens.\n",
    "\n",
    "We also load the [GloVe](https://nlp.stanford.edu/projects/glove/) pre-trained token embeddings. Specifically, the 100-dimensional embeddings that have been trained on 6 billion tokens. Using pre-trained embeddings usually leads to improved performance - although admittedly the dataset used in this tutorial is too small to take advantage of the pre-trained embeddings. \n",
    "\n",
    "`unk_init` is used to initialize the token embeddings which are not in the pre-trained embedding vocabulary. By default this sets those embeddings to zeros, however it is better to not have them all initialized to the same value, so we initialize them from a Normal/Gaussian distribution.\n",
    "\n",
    "These pre-trained vectors are now loaded into our vocabulary and we will initialize our model with these values later."
   ]
  },
  {
   "cell_type": "code",
   "execution_count": 17,
   "metadata": {
    "id": "MGKCnORWpwl_"
   },
   "outputs": [
    {
     "name": "stderr",
     "output_type": "stream",
     "text": [
      "100%|███████████████████████████████████████████████████████████████████████▉| 399999/400000 [00:42<00:00, 9366.96it/s]\n"
     ]
    }
   ],
   "source": [
    "MIN_FREQ = 2\n",
    "\n",
    "TEXT.build_vocab(train_data, \n",
    "                 min_freq = MIN_FREQ,\n",
    "                 vectors = \"glove.6B.100d\",\n",
    "                 unk_init = torch.Tensor.normal_)\n",
    "\n",
    "\n",
    "UD_TAGS.build_vocab(train_data)\n",
    "PTB_TAGS.build_vocab(train_data)"
   ]
  },
  {
   "cell_type": "markdown",
   "metadata": {
    "id": "Lt76JMgPpwmA"
   },
   "source": [
    "We can check how many tokens and tags are in our vocabulary by getting their length:"
   ]
  },
  {
   "cell_type": "code",
   "execution_count": 18,
   "metadata": {
    "colab": {
     "base_uri": "https://localhost:8080/"
    },
    "id": "Y0meSOCKpwmB",
    "outputId": "d8440999-07a7-4c38-9f60-ca0167915f0b"
   },
   "outputs": [
    {
     "name": "stdout",
     "output_type": "stream",
     "text": [
      "Unique tokens in TEXT vocabulary: 8866\n",
      "Unique tokens in UD_TAG vocabulary: 18\n",
      "Unique tokens in PTB_TAG vocabulary: 51\n"
     ]
    }
   ],
   "source": [
    "print(f\"Unique tokens in TEXT vocabulary: {len(TEXT.vocab)}\")\n",
    "print(f\"Unique tokens in UD_TAG vocabulary: {len(UD_TAGS.vocab)}\")\n",
    "print(f\"Unique tokens in PTB_TAG vocabulary: {len(PTB_TAGS.vocab)}\")"
   ]
  },
  {
   "cell_type": "markdown",
   "metadata": {
    "id": "W-jeBfsSpwmG"
   },
   "source": [
    "Exploring the vocabulary, we can check the most common tokens within our texts:"
   ]
  },
  {
   "cell_type": "code",
   "execution_count": 13,
   "metadata": {
    "colab": {
     "base_uri": "https://localhost:8080/"
    },
    "id": "jFHRIvpMpwmH",
    "outputId": "5fddecae-d778-4754-89d5-77d3a2e70db5"
   },
   "outputs": [
    {
     "name": "stdout",
     "output_type": "stream",
     "text": [
      "[('the', 9076), ('.', 8640), (',', 7021), ('to', 5137), ('and', 5002), ('a', 3782), ('of', 3622), ('i', 3379), ('in', 3112), ('is', 2239), ('you', 2156), ('that', 2036), ('it', 1850), ('for', 1842), ('-', 1426), ('have', 1359), ('\"', 1296), ('on', 1273), ('was', 1244), ('with', 1216)]\n"
     ]
    }
   ],
   "source": [
    "print(TEXT.vocab.freqs.most_common(20))"
   ]
  },
  {
   "cell_type": "markdown",
   "metadata": {
    "id": "dJQYwhqgpwmH"
   },
   "source": [
    "We can see the vocabularies for both of our tags:"
   ]
  },
  {
   "cell_type": "code",
   "execution_count": 14,
   "metadata": {
    "colab": {
     "base_uri": "https://localhost:8080/"
    },
    "id": "_8y_7x1epwmH",
    "outputId": "b3e6c42f-280f-4c25-ebc6-3f84f0c27686"
   },
   "outputs": [
    {
     "name": "stdout",
     "output_type": "stream",
     "text": [
      "['<pad>', 'NOUN', 'PUNCT', 'VERB', 'PRON', 'ADP', 'DET', 'PROPN', 'ADJ', 'AUX', 'ADV', 'CCONJ', 'PART', 'NUM', 'SCONJ', 'X', 'INTJ', 'SYM']\n"
     ]
    }
   ],
   "source": [
    "print(UD_TAGS.vocab.itos)"
   ]
  },
  {
   "cell_type": "code",
   "execution_count": 15,
   "metadata": {
    "colab": {
     "base_uri": "https://localhost:8080/"
    },
    "id": "lNoqu4mlpwmI",
    "outputId": "a6612011-ac28-44ac-eb64-204f63be5ff1"
   },
   "outputs": [
    {
     "name": "stdout",
     "output_type": "stream",
     "text": [
      "['<pad>', 'NN', 'IN', 'DT', 'NNP', 'PRP', 'JJ', 'RB', '.', 'VB', 'NNS', ',', 'CC', 'VBD', 'VBP', 'VBZ', 'CD', 'VBN', 'VBG', 'MD', 'TO', 'PRP$', '-RRB-', '-LRB-', 'WDT', 'WRB', ':', '``', \"''\", 'WP', 'RP', 'UH', 'POS', 'HYPH', 'JJR', 'NNPS', 'JJS', 'EX', 'NFP', 'GW', 'ADD', 'RBR', '$', 'PDT', 'RBS', 'SYM', 'LS', 'FW', 'AFX', 'WP$', 'XX']\n"
     ]
    }
   ],
   "source": [
    "print(PTB_TAGS.vocab.itos)"
   ]
  },
  {
   "cell_type": "markdown",
   "metadata": {
    "id": "1e4zYvDgpwmI"
   },
   "source": [
    "We can also see how many of each tag are in our vocabulary:"
   ]
  },
  {
   "cell_type": "code",
   "execution_count": 16,
   "metadata": {
    "colab": {
     "base_uri": "https://localhost:8080/"
    },
    "id": "o9tF5JAdpwmI",
    "outputId": "299f754d-1f60-4131-dfce-c9ea2c7186dd"
   },
   "outputs": [
    {
     "name": "stdout",
     "output_type": "stream",
     "text": [
      "[('NOUN', 34781), ('PUNCT', 23679), ('VERB', 23081), ('PRON', 18577), ('ADP', 17638), ('DET', 16285), ('PROPN', 12946), ('ADJ', 12477), ('AUX', 12343), ('ADV', 10548), ('CCONJ', 6707), ('PART', 5567), ('NUM', 3999), ('SCONJ', 3843), ('X', 847), ('INTJ', 688), ('SYM', 599)]\n"
     ]
    }
   ],
   "source": [
    "print(UD_TAGS.vocab.freqs.most_common())"
   ]
  },
  {
   "cell_type": "code",
   "execution_count": 17,
   "metadata": {
    "colab": {
     "base_uri": "https://localhost:8080/"
    },
    "id": "i5qAQz76pwmI",
    "outputId": "1a16db14-7a85-4923-b49b-16eada6b4c70"
   },
   "outputs": [
    {
     "name": "stdout",
     "output_type": "stream",
     "text": [
      "[('NN', 26915), ('IN', 20724), ('DT', 16817), ('NNP', 12449), ('PRP', 12193), ('JJ', 11591), ('RB', 10831), ('.', 10317), ('VB', 9476), ('NNS', 8438), (',', 8062), ('CC', 6706), ('VBD', 5402), ('VBP', 5374), ('VBZ', 4578), ('CD', 3998), ('VBN', 3967), ('VBG', 3330), ('MD', 3294), ('TO', 3286), ('PRP$', 3068), ('-RRB-', 1008), ('-LRB-', 973), ('WDT', 948), ('WRB', 869), (':', 866), ('``', 813), (\"''\", 785), ('WP', 760), ('RP', 755), ('UH', 689), ('POS', 684), ('HYPH', 664), ('JJR', 503), ('NNPS', 498), ('JJS', 383), ('EX', 359), ('NFP', 338), ('GW', 294), ('ADD', 292), ('RBR', 276), ('$', 258), ('PDT', 175), ('RBS', 169), ('SYM', 156), ('LS', 117), ('FW', 93), ('AFX', 48), ('WP$', 15), ('XX', 1)]\n"
     ]
    }
   ],
   "source": [
    "print(PTB_TAGS.vocab.freqs.most_common())"
   ]
  },
  {
   "cell_type": "markdown",
   "metadata": {
    "id": "5pj_pOsqpwmJ"
   },
   "source": [
    "We can also view how common each of the tags are within the training set:"
   ]
  },
  {
   "cell_type": "code",
   "execution_count": 18,
   "metadata": {
    "id": "Ee-Hm4E-pwmJ"
   },
   "outputs": [],
   "source": [
    "def tag_percentage(tag_counts):\n",
    "    \n",
    "    total_count = sum([count for tag, count in tag_counts])\n",
    "    \n",
    "    tag_counts_percentages = [(tag, count, count/total_count) for tag, count in tag_counts]\n",
    "        \n",
    "    return tag_counts_percentages"
   ]
  },
  {
   "cell_type": "code",
   "execution_count": 19,
   "metadata": {
    "colab": {
     "base_uri": "https://localhost:8080/"
    },
    "id": "u2sFxAAHpwmJ",
    "outputId": "ffa2bf90-f758-4e41-e883-9bc48fb2e44f"
   },
   "outputs": [
    {
     "name": "stdout",
     "output_type": "stream",
     "text": [
      "Tag\t\tCount\t\tPercentage\n",
      "\n",
      "NOUN\t\t34781\t\t17.0%\n",
      "PUNCT\t\t23679\t\t11.6%\n",
      "VERB\t\t23081\t\t11.3%\n",
      "PRON\t\t18577\t\t 9.1%\n",
      "ADP\t\t17638\t\t 8.6%\n",
      "DET\t\t16285\t\t 8.0%\n",
      "PROPN\t\t12946\t\t 6.3%\n",
      "ADJ\t\t12477\t\t 6.1%\n",
      "AUX\t\t12343\t\t 6.0%\n",
      "ADV\t\t10548\t\t 5.2%\n",
      "CCONJ\t\t6707\t\t 3.3%\n",
      "PART\t\t5567\t\t 2.7%\n",
      "NUM\t\t3999\t\t 2.0%\n",
      "SCONJ\t\t3843\t\t 1.9%\n",
      "X\t\t847\t\t 0.4%\n",
      "INTJ\t\t688\t\t 0.3%\n",
      "SYM\t\t599\t\t 0.3%\n"
     ]
    }
   ],
   "source": [
    "print(\"Tag\\t\\tCount\\t\\tPercentage\\n\")\n",
    "\n",
    "for tag, count, percent in tag_percentage(UD_TAGS.vocab.freqs.most_common()):\n",
    "    print(f\"{tag}\\t\\t{count}\\t\\t{percent*100:4.1f}%\")"
   ]
  },
  {
   "cell_type": "code",
   "execution_count": 20,
   "metadata": {
    "colab": {
     "base_uri": "https://localhost:8080/"
    },
    "id": "GfhpCJILpwmK",
    "outputId": "1af76429-a08e-48b2-bc6d-e19d3df6ae52"
   },
   "outputs": [
    {
     "name": "stdout",
     "output_type": "stream",
     "text": [
      "Tag\t\tCount\t\tPercentage\n",
      "\n",
      "NN\t\t26915\t\t13.2%\n",
      "IN\t\t20724\t\t10.1%\n",
      "DT\t\t16817\t\t 8.2%\n",
      "NNP\t\t12449\t\t 6.1%\n",
      "PRP\t\t12193\t\t 6.0%\n",
      "JJ\t\t11591\t\t 5.7%\n",
      "RB\t\t10831\t\t 5.3%\n",
      ".\t\t10317\t\t 5.0%\n",
      "VB\t\t9476\t\t 4.6%\n",
      "NNS\t\t8438\t\t 4.1%\n",
      ",\t\t8062\t\t 3.9%\n",
      "CC\t\t6706\t\t 3.3%\n",
      "VBD\t\t5402\t\t 2.6%\n",
      "VBP\t\t5374\t\t 2.6%\n",
      "VBZ\t\t4578\t\t 2.2%\n",
      "CD\t\t3998\t\t 2.0%\n",
      "VBN\t\t3967\t\t 1.9%\n",
      "VBG\t\t3330\t\t 1.6%\n",
      "MD\t\t3294\t\t 1.6%\n",
      "TO\t\t3286\t\t 1.6%\n",
      "PRP$\t\t3068\t\t 1.5%\n",
      "-RRB-\t\t1008\t\t 0.5%\n",
      "-LRB-\t\t973\t\t 0.5%\n",
      "WDT\t\t948\t\t 0.5%\n",
      "WRB\t\t869\t\t 0.4%\n",
      ":\t\t866\t\t 0.4%\n",
      "``\t\t813\t\t 0.4%\n",
      "''\t\t785\t\t 0.4%\n",
      "WP\t\t760\t\t 0.4%\n",
      "RP\t\t755\t\t 0.4%\n",
      "UH\t\t689\t\t 0.3%\n",
      "POS\t\t684\t\t 0.3%\n",
      "HYPH\t\t664\t\t 0.3%\n",
      "JJR\t\t503\t\t 0.2%\n",
      "NNPS\t\t498\t\t 0.2%\n",
      "JJS\t\t383\t\t 0.2%\n",
      "EX\t\t359\t\t 0.2%\n",
      "NFP\t\t338\t\t 0.2%\n",
      "GW\t\t294\t\t 0.1%\n",
      "ADD\t\t292\t\t 0.1%\n",
      "RBR\t\t276\t\t 0.1%\n",
      "$\t\t258\t\t 0.1%\n",
      "PDT\t\t175\t\t 0.1%\n",
      "RBS\t\t169\t\t 0.1%\n",
      "SYM\t\t156\t\t 0.1%\n",
      "LS\t\t117\t\t 0.1%\n",
      "FW\t\t93\t\t 0.0%\n",
      "AFX\t\t48\t\t 0.0%\n",
      "WP$\t\t15\t\t 0.0%\n",
      "XX\t\t1\t\t 0.0%\n"
     ]
    }
   ],
   "source": [
    "print(\"Tag\\t\\tCount\\t\\tPercentage\\n\")\n",
    "\n",
    "for tag, count, percent in tag_percentage(PTB_TAGS.vocab.freqs.most_common()):\n",
    "    print(f\"{tag}\\t\\t{count}\\t\\t{percent*100:4.1f}%\")"
   ]
  },
  {
   "cell_type": "markdown",
   "metadata": {
    "id": "rOu9Uv6ZpwmL"
   },
   "source": [
    "The final part of data preparation is handling the iterator. \n",
    "\n",
    "This will be iterated over to return batches of data to process. Here, we set the batch size and the `device` - which is used to place the batches of tensors on our GPU, if we have one. "
   ]
  },
  {
   "cell_type": "code",
   "execution_count": 26,
   "metadata": {},
   "outputs": [
    {
     "data": {
      "text/plain": [
       "<torchtext.legacy.datasets.sequence_tagging.UDPOS at 0x24d59826190>"
      ]
     },
     "execution_count": 26,
     "metadata": {},
     "output_type": "execute_result"
    }
   ],
   "source": [
    "train_data"
   ]
  },
  {
   "cell_type": "code",
   "execution_count": 21,
   "metadata": {
    "id": "78DjTNiJpwmL"
   },
   "outputs": [],
   "source": [
    "BATCH_SIZE = 128\n",
    "\n",
    "device = torch.device('cuda' if torch.cuda.is_available() else 'cpu')\n",
    "\n",
    "train_iterator, valid_iterator, test_iterator = data.BucketIterator.splits(\n",
    "    (train_data, valid_data, test_data), \n",
    "    batch_size = BATCH_SIZE,\n",
    "    device = device)"
   ]
  },
  {
   "cell_type": "markdown",
   "metadata": {
    "id": "X-KCF_thpwmO"
   },
   "source": [
    "## Building the Model\n",
    "\n",
    "Next up, we define our model - a multi-layer bi-directional LSTM. The image below shows a simplified version of the model with only one LSTM layer and omitting the LSTM's cell state for clarity.\n",
    "\n",
    "![](https://github.com/bentrevett/pytorch-pos-tagging/blob/master/assets/pos-bidirectional-lstm.png?raw=1)\n",
    "\n",
    "The model takes in a sequence of tokens, $X = \\{x_1, x_2,...,x_T\\}$, passes them through an embedding layer, $e$, to get the token embeddings, $e(X) = \\{e(x_1), e(x_2), ..., e(x_T)\\}$.\n",
    "\n",
    "These embeddings are processed - one per time-step - by the forward and backward LSTMs. The forward LSTM processes the sequence from left-to-right, whilst the backward LSTM processes the sequence right-to-left, i.e. the first input to the forward LSTM is $x_1$ and the first input to the backward LSTM is $x_T$. \n",
    "\n",
    "The LSTMs also take in the the hidden, $h$, and cell, $c$, states from the previous time-step\n",
    "\n",
    "$$h^{\\rightarrow}_t = \\text{LSTM}^{\\rightarrow}(e(x^{\\rightarrow}_t), h^{\\rightarrow}_{t-1}, c^{\\rightarrow}_{t-1})$$\n",
    "$$h^{\\leftarrow}_t=\\text{LSTM}^{\\leftarrow}(e(x^{\\leftarrow}_t), h^{\\leftarrow}_{t-1}, c^{\\leftarrow}_{t-1})$$\n",
    "\n",
    "After the whole sequence has been processed, the hidden and cell states are then passed to the next layer of the LSTM.\n",
    "\n",
    "The initial hidden and cell states, $h_0$ and $c_0$, for each direction and layer are initialized to a tensor full of zeros.\n",
    "\n",
    "We then concatenate both the forward and backward hidden states from the final layer of the LSTM, $H = \\{h_1, h_2, ... h_T\\}$, where $h_1 = [h^{\\rightarrow}_1;h^{\\leftarrow}_T]$, $h_2 = [h^{\\rightarrow}_2;h^{\\leftarrow}_{T-1}]$, etc. and pass them through a linear layer, $f$, which is used to make the prediction of which tag applies to this token, $\\hat{y}_t = f(h_t)$.\n",
    "\n",
    "When training the model, we will compare our predicted tags, $\\hat{Y}$ against the actual tags, $Y$, to calculate a loss, the gradients w.r.t. that loss, and then update our parameters.\n",
    "\n",
    "We implement the model detailed above in the `BiLSTMPOSTagger` class.\n",
    "\n",
    "`nn.Embedding` is an embedding layer and the input dimension should be the size of the input (text) vocabulary. We tell it what the index of the padding token is so it does not update the padding token's embedding entry.\n",
    "\n",
    "`nn.LSTM` is the LSTM. We apply dropout as regularization between the layers, if we are using more than one.\n",
    "\n",
    "`nn.Linear` defines the linear layer to make predictions using the LSTM outputs. We double the size of the input if we are using a bi-directional LSTM. The output dimensions should be the size of the tag vocabulary.\n",
    "\n",
    "We also define a dropout layer with `nn.Dropout`, which we use in the `forward` method to apply dropout to the embeddings and the outputs of the final layer of the LSTM."
   ]
  },
  {
   "cell_type": "code",
   "execution_count": 19,
   "metadata": {
    "id": "w-Wa3Tp5pwmO"
   },
   "outputs": [],
   "source": [
    "class BiLSTMPOSTagger(nn.Module):\n",
    "    def __init__(self, \n",
    "                 input_dim, \n",
    "                 embedding_dim, \n",
    "                 hidden_dim, \n",
    "                 output_dim, \n",
    "                 n_layers, \n",
    "                 bidirectional, \n",
    "                 dropout, \n",
    "                 pad_idx):\n",
    "        \n",
    "        super().__init__()\n",
    "        \n",
    "        self.embedding = nn.Embedding(input_dim, embedding_dim, padding_idx = pad_idx)\n",
    "        \n",
    "        self.lstm = nn.LSTM(embedding_dim, \n",
    "                            hidden_dim, \n",
    "                            num_layers = n_layers, \n",
    "                            bidirectional = bidirectional,\n",
    "                            dropout = dropout if n_layers > 1 else 0)\n",
    "        \n",
    "        self.fc = nn.Linear(hidden_dim * 2 if bidirectional else hidden_dim, output_dim)\n",
    "        \n",
    "        self.dropout = nn.Dropout(dropout)\n",
    "        \n",
    "    def forward(self, text):\n",
    "\n",
    "        #text = [sent len, batch size]\n",
    "        \n",
    "        #pass text through embedding layer\n",
    "        embedded = self.dropout(self.embedding(text))\n",
    "        \n",
    "        #embedded = [sent len, batch size, emb dim]\n",
    "        \n",
    "        #pass embeddings into LSTM\n",
    "        outputs, (hidden, cell) = self.lstm(embedded)\n",
    "        \n",
    "        #outputs holds the backward and forward hidden states in the final layer\n",
    "        #hidden and cell are the backward and forward hidden and cell states at the final time-step\n",
    "        \n",
    "        #output = [sent len, batch size, hid dim * n directions]\n",
    "        #hidden/cell = [n layers * n directions, batch size, hid dim]\n",
    "        \n",
    "        #we use our outputs to make a prediction of what the tag should be\n",
    "        predictions = self.fc(self.dropout(outputs))\n",
    "        \n",
    "        #predictions = [sent len, batch size, output dim]\n",
    "        \n",
    "        return predictions"
   ]
  },
  {
   "cell_type": "markdown",
   "metadata": {
    "id": "JTjQq-Eqpwmi"
   },
   "source": [
    "## Training the Model\n",
    "\n",
    "Next, we instantiate the model. We need to ensure the embedding dimensions matches that of the GloVe embeddings we loaded earlier.\n",
    "\n",
    "The rest of the hyperparmeters have been chosen as sensible defaults, though there may be a combination that performs better on this model and dataset.\n",
    "\n",
    "The input and output dimensions are taken directly from the lengths of the respective vocabularies. The padding index is obtained using the vocabulary and the `Field` of the text."
   ]
  },
  {
   "cell_type": "code",
   "execution_count": 20,
   "metadata": {
    "id": "crDf8hTHpwmi"
   },
   "outputs": [],
   "source": [
    "INPUT_DIM = len(TEXT.vocab)\n",
    "EMBEDDING_DIM = 100\n",
    "HIDDEN_DIM = 128\n",
    "OUTPUT_DIM = len(UD_TAGS.vocab)\n",
    "N_LAYERS = 2\n",
    "BIDIRECTIONAL = True\n",
    "DROPOUT = 0.25\n",
    "PAD_IDX = TEXT.vocab.stoi[TEXT.pad_token]"
   ]
  },
  {
   "cell_type": "code",
   "execution_count": 21,
   "metadata": {},
   "outputs": [
    {
     "data": {
      "text/plain": [
       "1"
      ]
     },
     "execution_count": 21,
     "metadata": {},
     "output_type": "execute_result"
    }
   ],
   "source": [
    "PAD_IDX"
   ]
  },
  {
   "cell_type": "code",
   "execution_count": 24,
   "metadata": {},
   "outputs": [
    {
     "data": {
      "text/plain": [
       "defaultdict(<bound method Vocab._default_unk_index of <torchtext.legacy.vocab.Vocab object at 0x0000024D7B49F1C0>>,\n",
       "            {'<unk>': 0,\n",
       "             '<pad>': 1,\n",
       "             'the': 2,\n",
       "             '.': 3,\n",
       "             ',': 4,\n",
       "             'to': 5,\n",
       "             'and': 6,\n",
       "             'a': 7,\n",
       "             'of': 8,\n",
       "             'i': 9,\n",
       "             'in': 10,\n",
       "             'is': 11,\n",
       "             'you': 12,\n",
       "             'that': 13,\n",
       "             'it': 14,\n",
       "             'for': 15,\n",
       "             '-': 16,\n",
       "             'have': 17,\n",
       "             '\"': 18,\n",
       "             'on': 19,\n",
       "             'was': 20,\n",
       "             'with': 21,\n",
       "             'this': 22,\n",
       "             'be': 23,\n",
       "             'are': 24,\n",
       "             'they': 25,\n",
       "             'not': 26,\n",
       "             'as': 27,\n",
       "             'we': 28,\n",
       "             \"'s\": 29,\n",
       "             'my': 30,\n",
       "             ')': 31,\n",
       "             '(': 32,\n",
       "             'do': 33,\n",
       "             'will': 34,\n",
       "             'he': 35,\n",
       "             'at': 36,\n",
       "             '?': 37,\n",
       "             'but': 38,\n",
       "             'if': 39,\n",
       "             'or': 40,\n",
       "             'your': 41,\n",
       "             'from': 42,\n",
       "             \"n't\": 43,\n",
       "             'by': 44,\n",
       "             'can': 45,\n",
       "             'would': 46,\n",
       "             'me': 47,\n",
       "             ':': 48,\n",
       "             'there': 49,\n",
       "             'so': 50,\n",
       "             '!': 51,\n",
       "             'all': 52,\n",
       "             'has': 53,\n",
       "             'an': 54,\n",
       "             'had': 55,\n",
       "             'one': 56,\n",
       "             'out': 57,\n",
       "             'about': 58,\n",
       "             'what': 59,\n",
       "             'their': 60,\n",
       "             'like': 61,\n",
       "             'time': 62,\n",
       "             'were': 63,\n",
       "             'when': 64,\n",
       "             'up': 65,\n",
       "             'get': 66,\n",
       "             'just': 67,\n",
       "             'his': 68,\n",
       "             'our': 69,\n",
       "             'some': 70,\n",
       "             'who': 71,\n",
       "             'them': 72,\n",
       "             'know': 73,\n",
       "             'which': 74,\n",
       "             'been': 75,\n",
       "             'also': 76,\n",
       "             'am': 77,\n",
       "             'us': 78,\n",
       "             'very': 79,\n",
       "             'any': 80,\n",
       "             'more': 81,\n",
       "             'no': 82,\n",
       "             'good': 83,\n",
       "             'did': 84,\n",
       "             'could': 85,\n",
       "             'him': 86,\n",
       "             'go': 87,\n",
       "             'new': 88,\n",
       "             'other': 89,\n",
       "             'she': 90,\n",
       "             'only': 91,\n",
       "             'please': 92,\n",
       "             '$': 93,\n",
       "             'how': 94,\n",
       "             'should': 95,\n",
       "             'people': 96,\n",
       "             'may': 97,\n",
       "             \"'\": 98,\n",
       "             'then': 99,\n",
       "             'back': 100,\n",
       "             'now': 101,\n",
       "             'said': 102,\n",
       "             '...': 103,\n",
       "             'even': 104,\n",
       "             'after': 105,\n",
       "             'work': 106,\n",
       "             'bush': 107,\n",
       "             'want': 108,\n",
       "             'well': 109,\n",
       "             'her': 110,\n",
       "             'great': 111,\n",
       "             '/': 112,\n",
       "             'because': 113,\n",
       "             'way': 114,\n",
       "             'see': 115,\n",
       "             'best': 116,\n",
       "             'than': 117,\n",
       "             'place': 118,\n",
       "             'these': 119,\n",
       "             \"'m\": 120,\n",
       "             'into': 121,\n",
       "             'take': 122,\n",
       "             'going': 123,\n",
       "             'over': 124,\n",
       "             'service': 125,\n",
       "             'need': 126,\n",
       "             'thanks': 127,\n",
       "             'make': 128,\n",
       "             'many': 129,\n",
       "             'before': 130,\n",
       "             'year': 131,\n",
       "             'here': 132,\n",
       "             'number': 133,\n",
       "             'day': 134,\n",
       "             'think': 135,\n",
       "             'two': 136,\n",
       "             'food': 137,\n",
       "             'much': 138,\n",
       "             'let': 139,\n",
       "             'first': 140,\n",
       "             's': 141,\n",
       "             'its': 142,\n",
       "             'call': 143,\n",
       "             'does': 144,\n",
       "             '2': 145,\n",
       "             '--': 146,\n",
       "             'help': 147,\n",
       "             'years': 148,\n",
       "             'being': 149,\n",
       "             'never': 150,\n",
       "             'really': 151,\n",
       "             \"'ll\": 152,\n",
       "             'most': 153,\n",
       "             'pm': 154,\n",
       "             'use': 155,\n",
       "             'made': 156,\n",
       "             'still': 157,\n",
       "             'same': 158,\n",
       "             'world': 159,\n",
       "             'right': 160,\n",
       "             'got': 161,\n",
       "             'say': 162,\n",
       "             'another': 163,\n",
       "             'give': 164,\n",
       "             'last': 165,\n",
       "             'off': 166,\n",
       "             'since': 167,\n",
       "             '3': 168,\n",
       "             \"'ve\": 169,\n",
       "             'those': 170,\n",
       "             'find': 171,\n",
       "             'too': 172,\n",
       "             'where': 173,\n",
       "             'around': 174,\n",
       "             'put': 175,\n",
       "             'again': 176,\n",
       "             'iraq': 177,\n",
       "             'sure': 178,\n",
       "             '1': 179,\n",
       "             'down': 180,\n",
       "             'little': 181,\n",
       "             'long': 182,\n",
       "             'al': 183,\n",
       "             'better': 184,\n",
       "             'price': 185,\n",
       "             '&': 186,\n",
       "             'both': 187,\n",
       "             'told': 188,\n",
       "             'through': 189,\n",
       "             'called': 190,\n",
       "             'next': 191,\n",
       "             'few': 192,\n",
       "             'while': 193,\n",
       "             'days': 194,\n",
       "             'look': 195,\n",
       "             'enron': 196,\n",
       "             '4': 197,\n",
       "             'come': 198,\n",
       "             'home': 199,\n",
       "             'used': 200,\n",
       "             'always': 201,\n",
       "             'feel': 202,\n",
       "             \"'re\": 203,\n",
       "             ';': 204,\n",
       "             'business': 205,\n",
       "             'car': 206,\n",
       "             '5': 207,\n",
       "             'change': 208,\n",
       "             'name': 209,\n",
       "             'such': 210,\n",
       "             'every': 211,\n",
       "             'family': 212,\n",
       "             'own': 213,\n",
       "             'lot': 214,\n",
       "             'money': 215,\n",
       "             'took': 216,\n",
       "             'ca': 217,\n",
       "             'however': 218,\n",
       "             'keep': 219,\n",
       "             'week': 220,\n",
       "             'between': 221,\n",
       "             'ever': 222,\n",
       "             'done': 223,\n",
       "             'experience': 224,\n",
       "             'love': 225,\n",
       "             'something': 226,\n",
       "             'states': 227,\n",
       "             'try': 228,\n",
       "             'already': 229,\n",
       "             'company': 230,\n",
       "             'united': 231,\n",
       "             'anyone': 232,\n",
       "             'office': 233,\n",
       "             '10': 234,\n",
       "             'doing': 235,\n",
       "             'night': 236,\n",
       "             'things': 237,\n",
       "             'job': 238,\n",
       "             'looking': 239,\n",
       "             'end': 240,\n",
       "             'iran': 241,\n",
       "             'recommend': 242,\n",
       "             'staff': 243,\n",
       "             'thing': 244,\n",
       "             'under': 245,\n",
       "             'm': 246,\n",
       "             'went': 247,\n",
       "             'came': 248,\n",
       "             'each': 249,\n",
       "             'attached': 250,\n",
       "             'life': 251,\n",
       "             'might': 252,\n",
       "             'room': 253,\n",
       "             'china': 254,\n",
       "             'group': 255,\n",
       "             'old': 256,\n",
       "             'away': 257,\n",
       "             'anything': 258,\n",
       "             'found': 259,\n",
       "             'nice': 260,\n",
       "             'against': 261,\n",
       "             'getting': 262,\n",
       "             'order': 263,\n",
       "             'nt': 264,\n",
       "             'once': 265,\n",
       "             'power': 266,\n",
       "             'problem': 267,\n",
       "             'questions': 268,\n",
       "             'hope': 269,\n",
       "             'point': 270,\n",
       "             'water': 271,\n",
       "             'american': 272,\n",
       "             'during': 273,\n",
       "             'military': 274,\n",
       "             'thank': 275,\n",
       "             'though': 276,\n",
       "             'able': 277,\n",
       "             'amount': 278,\n",
       "             'bad': 279,\n",
       "             'meeting': 280,\n",
       "             'phone': 281,\n",
       "             'state': 282,\n",
       "             'nothing': 283,\n",
       "             'president': 284,\n",
       "             'times': 285,\n",
       "             '!!': 286,\n",
       "             'care': 287,\n",
       "             'deal': 288,\n",
       "             'email': 289,\n",
       "             'far': 290,\n",
       "             'having': 291,\n",
       "             'today': 292,\n",
       "             '..': 293,\n",
       "             'agreement': 294,\n",
       "             'person': 295,\n",
       "             'actually': 296,\n",
       "             'asked': 297,\n",
       "             'left': 298,\n",
       "             'yes': 299,\n",
       "             'big': 300,\n",
       "             'else': 301,\n",
       "             'excellent': 302,\n",
       "             'high': 303,\n",
       "             'information': 304,\n",
       "             'live': 305,\n",
       "             'without': 306,\n",
       "             'country': 307,\n",
       "             'sent': 308,\n",
       "             'three': 309,\n",
       "             'gas': 310,\n",
       "             'house': 311,\n",
       "             'per': 312,\n",
       "             'small': 313,\n",
       "             'someone': 314,\n",
       "             'trying': 315,\n",
       "             'until': 316,\n",
       "             'war': 317,\n",
       "             'why': 318,\n",
       "             'working': 319,\n",
       "             'date': 320,\n",
       "             'india': 321,\n",
       "             'john': 322,\n",
       "             'must': 323,\n",
       "             'part': 324,\n",
       "             'area': 325,\n",
       "             'government': 326,\n",
       "             'believe': 327,\n",
       "             'enough': 328,\n",
       "             'least': 329,\n",
       "             'ok': 330,\n",
       "             'review': 331,\n",
       "             'hard': 332,\n",
       "             'probably': 333,\n",
       "             'qaeda': 334,\n",
       "             'read': 335,\n",
       "             'says': 336,\n",
       "             'everything': 337,\n",
       "             'horse': 338,\n",
       "             'later': 339,\n",
       "             'list': 340,\n",
       "             'oil': 341,\n",
       "             'percentage': 342,\n",
       "             'send': 343,\n",
       "             'tell': 344,\n",
       "             'wanted': 345,\n",
       "             '6': 346,\n",
       "             'months': 347,\n",
       "             'school': 348,\n",
       "             'different': 349,\n",
       "             'due': 350,\n",
       "             'forward': 351,\n",
       "             'international': 352,\n",
       "             'leave': 353,\n",
       "             'national': 354,\n",
       "             'start': 355,\n",
       "             '!!!': 356,\n",
       "             '....': 357,\n",
       "             '20': 358,\n",
       "             'below': 359,\n",
       "             'free': 360,\n",
       "             'yet': 361,\n",
       "             'case': 362,\n",
       "             'line': 363,\n",
       "             'possible': 364,\n",
       "             'received': 365,\n",
       "             'stay': 366,\n",
       "             'bit': 367,\n",
       "             'george': 368,\n",
       "             'letter': 369,\n",
       "             'real': 370,\n",
       "             'thought': 371,\n",
       "             'friday': 372,\n",
       "             'friendly': 373,\n",
       "             'month': 374,\n",
       "             'needs': 375,\n",
       "             'pretty': 376,\n",
       "             'report': 377,\n",
       "             'second': 378,\n",
       "             'security': 379,\n",
       "             'set': 380,\n",
       "             'taking': 381,\n",
       "             'talk': 382,\n",
       "             \"'d\": 383,\n",
       "             'check': 384,\n",
       "             'customer': 385,\n",
       "             'dr.': 386,\n",
       "             'fact': 387,\n",
       "             'full': 388,\n",
       "             'pay': 389,\n",
       "             'system': 390,\n",
       "             'energy': 391,\n",
       "             'highly': 392,\n",
       "             'hours': 393,\n",
       "             'within': 394,\n",
       "             '2005': 395,\n",
       "             'couple': 396,\n",
       "             'everyone': 397,\n",
       "             'pakistan': 398,\n",
       "             'places': 399,\n",
       "             'understand': 400,\n",
       "             'using': 401,\n",
       "             'open': 402,\n",
       "             'september': 403,\n",
       "             'show': 404,\n",
       "             'soon': 405,\n",
       "             'space': 406,\n",
       "             '<<': 407,\n",
       "             'ask': 408,\n",
       "             'cost': 409,\n",
       "             'friend': 410,\n",
       "             'friends': 411,\n",
       "             'hotel': 412,\n",
       "             'less': 413,\n",
       "             'making': 414,\n",
       "             'mark': 415,\n",
       "             'question': 416,\n",
       "             'return': 417,\n",
       "             'run': 418,\n",
       "             'several': 419,\n",
       "             '2003': 420,\n",
       "             '>>': 421,\n",
       "             'close': 422,\n",
       "             'early': 423,\n",
       "             'following': 424,\n",
       "             'front': 425,\n",
       "             'mind': 426,\n",
       "             'process': 427,\n",
       "             'wait': 428,\n",
       "             'wo': 429,\n",
       "             'based': 430,\n",
       "             'children': 431,\n",
       "             'comments': 432,\n",
       "             'either': 433,\n",
       "             'guys': 434,\n",
       "             'issue': 435,\n",
       "             'means': 436,\n",
       "             'plan': 437,\n",
       "             'services': 438,\n",
       "             'visit': 439,\n",
       "             'whole': 440,\n",
       "             'almost': 441,\n",
       "             'along': 442,\n",
       "             'americans': 443,\n",
       "             'april': 444,\n",
       "             'buy': 445,\n",
       "             'fax': 446,\n",
       "             'gave': 447,\n",
       "             'global': 448,\n",
       "             'hand': 449,\n",
       "             'happy': 450,\n",
       "             'including': 451,\n",
       "             'kind': 452,\n",
       "             'message': 453,\n",
       "             'mr.': 454,\n",
       "             'prices': 455,\n",
       "             'problems': 456,\n",
       "             'quite': 457,\n",
       "             'store': 458,\n",
       "             '*': 459,\n",
       "             '2004': 460,\n",
       "             'become': 461,\n",
       "             'eat': 462,\n",
       "             'game': 463,\n",
       "             'helpful': 464,\n",
       "             'issues': 465,\n",
       "             'jeff': 466,\n",
       "             'monday': 467,\n",
       "             'outside': 468,\n",
       "             'restaurant': 469,\n",
       "             'together': 470,\n",
       "             'town': 471,\n",
       "             'whether': 472,\n",
       "             '2001': 473,\n",
       "             'above': 474,\n",
       "             'ago': 475,\n",
       "             'although': 476,\n",
       "             'cat': 477,\n",
       "             'clean': 478,\n",
       "             'important': 479,\n",
       "             'july': 480,\n",
       "             'legal': 481,\n",
       "             'minutes': 482,\n",
       "             'others': 483,\n",
       "             'remember': 484,\n",
       "             'top': 485,\n",
       "             'add': 486,\n",
       "             'file': 487,\n",
       "             'fine': 488,\n",
       "             'likely': 489,\n",
       "             'market': 490,\n",
       "             'maybe': 491,\n",
       "             'quality': 492,\n",
       "             'texas': 493,\n",
       "             'weeks': 494,\n",
       "             '>': 495,\n",
       "             'available': 496,\n",
       "             'credit': 497,\n",
       "             'given': 498,\n",
       "             'large': 499,\n",
       "             'members': 500,\n",
       "             'morning': 501,\n",
       "             'program': 502,\n",
       "             'provide': 503,\n",
       "             '<': 504,\n",
       "             'air': 505,\n",
       "             'dog': 506,\n",
       "             'draft': 507,\n",
       "             'earlier': 508,\n",
       "             'hair': 509,\n",
       "             'houston': 510,\n",
       "             'indian': 511,\n",
       "             'late': 512,\n",
       "             'sara': 513,\n",
       "             'test': 514,\n",
       "             'tried': 515,\n",
       "             'zawahiri': 516,\n",
       "             'answer': 517,\n",
       "             'b': 518,\n",
       "             'death': 519,\n",
       "             'discuss': 520,\n",
       "             'especially': 521,\n",
       "             'form': 522,\n",
       "             'fun': 523,\n",
       "             'meet': 524,\n",
       "             'nasa': 525,\n",
       "             'north': 526,\n",
       "             'note': 527,\n",
       "             'peace': 528,\n",
       "             'reason': 529,\n",
       "             'regards': 530,\n",
       "             'south': 531,\n",
       "             'worth': 532,\n",
       "             '’s': 533,\n",
       "             '2000': 534,\n",
       "             'afghanistan': 535,\n",
       "             'anthrax': 536,\n",
       "             'charge': 537,\n",
       "             'coming': 538,\n",
       "             'doctor': 539,\n",
       "             'etc': 540,\n",
       "             'further': 541,\n",
       "             'general': 542,\n",
       "             'iraqi': 543,\n",
       "             'kids': 544,\n",
       "             'law': 545,\n",
       "             'rate': 546,\n",
       "             'support': 547,\n",
       "             'word': 548,\n",
       "             'according': 549,\n",
       "             'canada': 550,\n",
       "             'easy': 551,\n",
       "             'former': 552,\n",
       "             'guy': 553,\n",
       "             'israel': 554,\n",
       "             'mean': 555,\n",
       "             'regarding': 556,\n",
       "             'request': 557,\n",
       "             'stop': 558,\n",
       "             'tank': 559,\n",
       "             'young': 560,\n",
       "             '#': 561,\n",
       "             '11': 562,\n",
       "             'bill': 563,\n",
       "             'cage': 564,\n",
       "             'city': 565,\n",
       "             'continue': 566,\n",
       "             'local': 567,\n",
       "             'move': 568,\n",
       "             'needed': 569,\n",
       "             'news': 570,\n",
       "             'points': 571,\n",
       "             'professional': 572,\n",
       "             'started': 573,\n",
       "             ':)': 574,\n",
       "             'changes': 575,\n",
       "             'door': 576,\n",
       "             'finally': 577,\n",
       "             'four': 578,\n",
       "             'level': 579,\n",
       "             'man': 580,\n",
       "             'mike': 581,\n",
       "             'ones': 582,\n",
       "             'options': 583,\n",
       "             'past': 584,\n",
       "             'recently': 585,\n",
       "             'upon': 586,\n",
       "             'wonderful': 587,\n",
       "             'address': 588,\n",
       "             'contact': 589,\n",
       "             'countries': 590,\n",
       "             'course': 591,\n",
       "             'customers': 592,\n",
       "             'feed': 593,\n",
       "             'head': 594,\n",
       "             'instead': 595,\n",
       "             'known': 596,\n",
       "             'language': 597,\n",
       "             'leaders': 598,\n",
       "             'living': 599,\n",
       "             'period': 600,\n",
       "             'position': 601,\n",
       "             'seems': 602,\n",
       "             'seen': 603,\n",
       "             'team': 604,\n",
       "             'walk': 605,\n",
       "             'weapons': 606,\n",
       "             'wrong': 607,\n",
       "             '%': 608,\n",
       "             '12': 609,\n",
       "             '[': 610,\n",
       "             ']': 611,\n",
       "             'campaign': 612,\n",
       "             'comes': 613,\n",
       "             'control': 614,\n",
       "             'definitely': 615,\n",
       "             'entire': 616,\n",
       "             'extremely': 617,\n",
       "             'half': 618,\n",
       "             'lots': 619,\n",
       "             'makes': 620,\n",
       "             'political': 621,\n",
       "             'poor': 622,\n",
       "             'response': 623,\n",
       "             'sorry': 624,\n",
       "             'usually': 625,\n",
       "             'vet': 626,\n",
       "             'works': 627,\n",
       "             '100': 628,\n",
       "             '15': 629,\n",
       "             '30': 630,\n",
       "             'administration': 631,\n",
       "             'board': 632,\n",
       "             'book': 633,\n",
       "             'bring': 634,\n",
       "             'conference': 635,\n",
       "             'hear': 636,\n",
       "             'june': 637,\n",
       "             'light': 638,\n",
       "             'manager': 639,\n",
       "             'march': 640,\n",
       "             'million': 641,\n",
       "             'natural': 642,\n",
       "             'often': 643,\n",
       "             'pet': 644,\n",
       "             'project': 645,\n",
       "             'sea': 646,\n",
       "             'short': 647,\n",
       "             'subject': 648,\n",
       "             'taken': 649,\n",
       "             'website': 650,\n",
       "             'amazing': 651,\n",
       "             'attack': 652,\n",
       "             'baby': 653,\n",
       "             'currently': 654,\n",
       "             'e-mail': 655,\n",
       "             'elections': 656,\n",
       "             'expect': 657,\n",
       "             'forces': 658,\n",
       "             'girl': 659,\n",
       "             'guess': 660,\n",
       "             'heard': 661,\n",
       "             'human': 662,\n",
       "             'idea': 663,\n",
       "             'interested': 664,\n",
       "             'major': 665,\n",
       "             'owner': 666,\n",
       "             'party': 667,\n",
       "             'paul': 668,\n",
       "             'public': 669,\n",
       "             'side': 670,\n",
       "             'special': 671,\n",
       "             'street': 672,\n",
       "             'taliban': 673,\n",
       "             'trip': 674,\n",
       "             'type': 675,\n",
       "             'yourself': 676,\n",
       "             'access': 677,\n",
       "             'chris': 678,\n",
       "             'eggs': 679,\n",
       "             'federal': 680,\n",
       "             'force': 681,\n",
       "             'god': 682,\n",
       "             'health': 683,\n",
       "             'include': 684,\n",
       "             'mentioned': 685,\n",
       "             'metal': 686,\n",
       "             'notice': 687,\n",
       "             'offer': 688,\n",
       "             'risk': 689,\n",
       "             'saying': 690,\n",
       "             'situation': 691,\n",
       "             'st.': 692,\n",
       "             'strong': 693,\n",
       "             'thursday': 694,\n",
       "             'unless': 695,\n",
       "             'worked': 696,\n",
       "             '50': 697,\n",
       "             '7': 698,\n",
       "             '@': 699,\n",
       "             'america': 700,\n",
       "             'among': 701,\n",
       "             'animals': 702,\n",
       "             'cats': 703,\n",
       "             'certain': 704,\n",
       "             'contract': 705,\n",
       "             'david': 706,\n",
       "             'intelligence': 707,\n",
       "             'kept': 708,\n",
       "             'key': 709,\n",
       "             'main': 710,\n",
       "             'officials': 711,\n",
       "             'parents': 712,\n",
       "             'press': 713,\n",
       "             'region': 714,\n",
       "             'rights': 715,\n",
       "             'site': 716,\n",
       "             'tax': 717,\n",
       "             'white': 718,\n",
       "             'wife': 719,\n",
       "             '“': 720,\n",
       "             '”': 721,\n",
       "             '.?': 722,\n",
       "             'across': 723,\n",
       "             'anyway': 724,\n",
       "             'army': 725,\n",
       "             'clear': 726,\n",
       "             'dollars': 727,\n",
       "             'felt': 728,\n",
       "             'final': 729,\n",
       "             'huge': 730,\n",
       "             'inside': 731,\n",
       "             'kay': 732,\n",
       "             'looks': 733,\n",
       "             'management': 734,\n",
       "             'media': 735,\n",
       "             'perfect': 736,\n",
       "             'policy': 737,\n",
       "             'reports': 738,\n",
       "             'shall': 739,\n",
       "             'simply': 740,\n",
       "             'tomorrow': 741,\n",
       "             'trust': 742,\n",
       "             'weekend': 743,\n",
       "             '2002': 744,\n",
       "             'application': 745,\n",
       "             'behind': 746,\n",
       "             'black': 747,\n",
       "             'copy': 748,\n",
       "             'counterparty': 749,\n",
       "             'dead': 750,\n",
       "             'dinner': 751,\n",
       "             'face': 752,\n",
       "             'future': 753,\n",
       "             'groups': 754,\n",
       "             'london': 755,\n",
       "             'lunch': 756,\n",
       "             'moving': 757,\n",
       "             'musharraf': 758,\n",
       "             'near': 759,\n",
       "             'piece': 760,\n",
       "             'planning': 761,\n",
       "             'quickly': 762,\n",
       "             'recent': 763,\n",
       "             'religious': 764,\n",
       "             'reviews': 765,\n",
       "             'spent': 766,\n",
       "             'suicide': 767,\n",
       "             'talking': 768,\n",
       "             'u.s.': 769,\n",
       "             'value': 770,\n",
       "             'west': 771,\n",
       "             '25': 772,\n",
       "             'act': 773,\n",
       "             'activities': 774,\n",
       "             'cia': 775,\n",
       "             'cruise': 776,\n",
       "             'fish': 777,\n",
       "             'gone': 778,\n",
       "             'hi': 779,\n",
       "             'perhaps': 780,\n",
       "             'play': 781,\n",
       "             'product': 782,\n",
       "             'provided': 783,\n",
       "             'reasonable': 784,\n",
       "             'rude': 785,\n",
       "             'six': 786,\n",
       "             'worst': 787,\n",
       "             '8': 788,\n",
       "             'brought': 789,\n",
       "             'chance': 790,\n",
       "             'cut': 791,\n",
       "             'daily': 792,\n",
       "             'department': 793,\n",
       "             'egyptian': 794,\n",
       "             'example': 795,\n",
       "             'gulf': 796,\n",
       "             'history': 797,\n",
       "             'member': 798,\n",
       "             'option': 799,\n",
       "             'paid': 800,\n",
       "             'post': 801,\n",
       "             'ready': 802,\n",
       "             'red': 803,\n",
       "             'rest': 804,\n",
       "             'running': 805,\n",
       "             'save': 806,\n",
       "             'saw': 807,\n",
       "             'settlement': 808,\n",
       "             'sometimes': 809,\n",
       "             'total': 810,\n",
       "             'turn': 811,\n",
       "             'vince': 812,\n",
       "             'winter': 813,\n",
       "             'additional': 814,\n",
       "             'afternoon': 815,\n",
       "             'areas': 816,\n",
       "             'attend': 817,\n",
       "             'basis': 818,\n",
       "             'body': 819,\n",
       "             'bus': 820,\n",
       "             'committee': 821,\n",
       "             'drive': 822,\n",
       "             'enjoy': 823,\n",
       "             'europe': 824,\n",
       "             'expensive': 825,\n",
       "             'fall': 826,\n",
       "             'fixed': 827,\n",
       "             'follow': 828,\n",
       "             'hot': 829,\n",
       "             'island': 830,\n",
       "             'islands': 831,\n",
       "             'itself': 832,\n",
       "             'lack': 833,\n",
       "             'learn': 834,\n",
       "             'longer': 835,\n",
       "             'personal': 836,\n",
       "             'sign': 837,\n",
       "             'signed': 838,\n",
       "             'snake': 839,\n",
       "             'summer': 840,\n",
       "             'sunday': 841,\n",
       "             'themselves': 842,\n",
       "             'threat': 843,\n",
       "             'true': 844,\n",
       "             'western': 845,\n",
       "             'willing': 846,\n",
       "             'yesterday': 847,\n",
       "             'action': 848,\n",
       "             'attention': 849,\n",
       "             'circle': 850,\n",
       "             'comfortable': 851,\n",
       "             'current': 852,\n",
       "             'delivery': 853,\n",
       "             'east': 854,\n",
       "             'except': 855,\n",
       "             'executive': 856,\n",
       "             'goes': 857,\n",
       "             'held': 858,\n",
       "             'hold': 859,\n",
       "             'horrible': 860,\n",
       "             'initial': 861,\n",
       "             'islamic': 862,\n",
       "             'january': 863,\n",
       "             'location': 864,\n",
       "             'marriage': 865,\n",
       "             'middle': 866,\n",
       "             'moved': 867,\n",
       "             'myself': 868,\n",
       "             'rather': 869,\n",
       "             'richard': 870,\n",
       "             'seeing': 871,\n",
       "             'seem': 872,\n",
       "             'shop': 873,\n",
       "             'shows': 874,\n",
       "             'takes': 875,\n",
       "             'thinking': 876,\n",
       "             'treated': 877,\n",
       "             'tv': 878,\n",
       "             'university': 879,\n",
       "             'waste': 880,\n",
       "             'york': 881,\n",
       "             'absolutely': 882,\n",
       "             'alone': 883,\n",
       "             'approved': 884,\n",
       "             'arab': 885,\n",
       "             'arms': 886,\n",
       "             'august': 887,\n",
       "             'born': 888,\n",
       "             'carol': 889,\n",
       "             'center': 890,\n",
       "             'cover': 891,\n",
       "             'decided': 892,\n",
       "             'desk': 893,\n",
       "             'financial': 894,\n",
       "             'guard': 895,\n",
       "             'hospital': 896,\n",
       "             'info': 897,\n",
       "             'interest': 898,\n",
       "             'involved': 899,\n",
       "             'knew': 900,\n",
       "             'leader': 901,\n",
       "             'lost': 902,\n",
       "             'nearly': 903,\n",
       "             'necessary': 904,\n",
       "             'overall': 905,\n",
       "             'pick': 906,\n",
       "             'population': 907,\n",
       "             'quick': 908,\n",
       "             'related': 909,\n",
       "             'result': 910,\n",
       "             'san': 911,\n",
       "             'search': 912,\n",
       "             'single': 913,\n",
       "             'social': 914,\n",
       "             'species': 915,\n",
       "             'term': 916,\n",
       "             'version': 917,\n",
       "             'vietnam': 918,\n",
       "             'wants': 919,\n",
       "             'washington': 920,\n",
       "             'advice': 921,\n",
       "             'attacks': 922,\n",
       "             'awesome': 923,\n",
       "             'box': 924,\n",
       "             'budget': 925,\n",
       "             'cause': 926,\n",
       "             'certainly': 927,\n",
       "             'commission': 928,\n",
       "             'computer': 929,\n",
       "             'connection': 930,\n",
       "             'delhi': 931,\n",
       "             'eb': 932,\n",
       "             'education': 933,\n",
       "             'employees': 934,\n",
       "             'fresh': 935,\n",
       "             'giving': 936,\n",
       "             'hands': 937,\n",
       "             'k': 938,\n",
       "             'link': 939,\n",
       "             'lopez': 940,\n",
       "             'ltte': 941,\n",
       "             'matter': 942,\n",
       "             'menu': 943,\n",
       "             'numbers': 944,\n",
       "             'ordered': 945,\n",
       "             'parts': 946,\n",
       "             'pizza': 947,\n",
       "             'playing': 948,\n",
       "             'putting': 949,\n",
       "             'range': 950,\n",
       "             'schedule': 951,\n",
       "             'stuff': 952,\n",
       "             'sun': 953,\n",
       "             'trading': 954,\n",
       "             'treatment': 955,\n",
       "             'visa': 956,\n",
       "             'warm': 957,\n",
       "             '!!!!': 958,\n",
       "             '14': 959,\n",
       "             'andaman': 960,\n",
       "             'apply': 961,\n",
       "             'beautiful': 962,\n",
       "             'birth': 963,\n",
       "             'california': 964,\n",
       "             'cash': 965,\n",
       "             'changed': 966,\n",
       "             'child': 967,\n",
       "             'chinese': 968,\n",
       "             'climate': 969,\n",
       "             'considered': 970,\n",
       "             'correct': 971,\n",
       "             'court': 972,\n",
       "             'dangerous': 973,\n",
       "             'development': 974,\n",
       "             'dogs': 975,\n",
       "             'eating': 976,\n",
       "             'families': 977,\n",
       "             'five': 978,\n",
       "             'handle': 979,\n",
       "             'heat': 980,\n",
       "             'hour': 981,\n",
       "             'increase': 982,\n",
       "             'jihad': 983,\n",
       "             'lead': 984,\n",
       "             'mom': 985,\n",
       "             'online': 986,\n",
       "             'pakistani': 987,\n",
       "             'paper': 988,\n",
       "             'paris': 989,\n",
       "             'payment': 990,\n",
       "             're': 991,\n",
       "             'record': 992,\n",
       "             'research': 993,\n",
       "             'road': 994,\n",
       "             'safe': 995,\n",
       "             'sales': 996,\n",
       "             'simple': 997,\n",
       "             'station': 998,\n",
       "             'step': 999,\n",
       "             ...})"
      ]
     },
     "execution_count": 24,
     "metadata": {},
     "output_type": "execute_result"
    }
   ],
   "source": [
    "TEXT.vocab.stoi"
   ]
  },
  {
   "cell_type": "code",
   "execution_count": null,
   "metadata": {},
   "outputs": [],
   "source": [
    "model = BiLSTMPOSTagger(INPUT_DIM, \n",
    "                        EMBEDDING_DIM, \n",
    "                        HIDDEN_DIM, \n",
    "                        OUTPUT_DIM, \n",
    "                        N_LAYERS, \n",
    "                        BIDIRECTIONAL, \n",
    "                        DROPOUT, \n",
    "                        PAD_IDX)"
   ]
  },
  {
   "cell_type": "markdown",
   "metadata": {
    "id": "Oc0xJFAApwmi"
   },
   "source": [
    "We initialize the weights from a simple Normal distribution. Again, there may be a better initialization scheme for this model and dataset."
   ]
  },
  {
   "cell_type": "code",
   "execution_count": 24,
   "metadata": {
    "colab": {
     "base_uri": "https://localhost:8080/"
    },
    "id": "qEq91x0Epwmj",
    "outputId": "b75ee1e3-e792-4cad-eab8-6dec2028fa79"
   },
   "outputs": [
    {
     "data": {
      "text/plain": [
       "BiLSTMPOSTagger(\n",
       "  (embedding): Embedding(8866, 100, padding_idx=1)\n",
       "  (lstm): LSTM(100, 128, num_layers=2, dropout=0.25, bidirectional=True)\n",
       "  (fc): Linear(in_features=256, out_features=18, bias=True)\n",
       "  (dropout): Dropout(p=0.25, inplace=False)\n",
       ")"
      ]
     },
     "execution_count": 24,
     "metadata": {
      "tags": []
     },
     "output_type": "execute_result"
    }
   ],
   "source": [
    "def init_weights(m):\n",
    "    for name, param in m.named_parameters():\n",
    "        nn.init.normal_(param.data, mean = 0, std = 0.1)\n",
    "        \n",
    "model.apply(init_weights)"
   ]
  },
  {
   "cell_type": "markdown",
   "metadata": {
    "id": "ZQmNFG_wpwmj"
   },
   "source": [
    "Next, a small function to tell us how many parameters are in our model. Useful for comparing different models."
   ]
  },
  {
   "cell_type": "code",
   "execution_count": 25,
   "metadata": {
    "colab": {
     "base_uri": "https://localhost:8080/"
    },
    "id": "rfPyt7TTpwmk",
    "outputId": "0b3cdffe-31d0-472f-e5c5-1dd418b4b677"
   },
   "outputs": [
    {
     "name": "stdout",
     "output_type": "stream",
     "text": [
      "The model has 1,522,010 trainable parameters\n"
     ]
    }
   ],
   "source": [
    "def count_parameters(model):\n",
    "    return sum(p.numel() for p in model.parameters() if p.requires_grad)\n",
    "\n",
    "print(f'The model has {count_parameters(model):,} trainable parameters')"
   ]
  },
  {
   "cell_type": "markdown",
   "metadata": {
    "id": "wTVuLKdFpwmk"
   },
   "source": [
    "We'll now initialize our model's embedding layer with the pre-trained embedding values we loaded earlier.\n",
    "\n",
    "This is done by getting them from the vocab's `.vectors` attribute and then performing a `.copy` to overwrite the embedding layer's current weights."
   ]
  },
  {
   "cell_type": "code",
   "execution_count": 22,
   "metadata": {},
   "outputs": [
    {
     "data": {
      "text/plain": [
       "tensor([[-0.1117, -0.4966,  0.1631,  ...,  1.2647, -0.2753, -0.1325],\n",
       "        [-0.8555, -0.7208,  1.3755,  ...,  0.0825, -1.1314,  0.3997],\n",
       "        [-0.0382, -0.2449,  0.7281,  ..., -0.1459,  0.8278,  0.2706],\n",
       "        ...,\n",
       "        [ 0.9261,  2.3049,  0.5502,  ..., -0.3492, -0.5298, -0.1577],\n",
       "        [-0.5972,  0.0471, -0.2406,  ..., -0.9446, -0.1126, -0.2260],\n",
       "        [-0.4809,  2.5629,  0.9530,  ...,  0.5278, -0.4588,  0.7294]])"
      ]
     },
     "execution_count": 22,
     "metadata": {},
     "output_type": "execute_result"
    }
   ],
   "source": [
    "TEXT.vocab.vectors"
   ]
  },
  {
   "cell_type": "code",
   "execution_count": 26,
   "metadata": {
    "colab": {
     "base_uri": "https://localhost:8080/"
    },
    "id": "P-H-ucDCpwml",
    "outputId": "30fd96b7-89cb-43f7-8810-703a2d26cd0a"
   },
   "outputs": [
    {
     "name": "stdout",
     "output_type": "stream",
     "text": [
      "torch.Size([8866, 100])\n"
     ]
    }
   ],
   "source": [
    "pretrained_embeddings = TEXT.vocab.vectors\n",
    "\n",
    "print(pretrained_embeddings.shape)"
   ]
  },
  {
   "cell_type": "code",
   "execution_count": 27,
   "metadata": {
    "colab": {
     "base_uri": "https://localhost:8080/"
    },
    "id": "OxIg6uHVpwml",
    "outputId": "d11eda09-2ee4-44c0-ca01-93cd03127796"
   },
   "outputs": [
    {
     "data": {
      "text/plain": [
       "tensor([[-0.1117, -0.4966,  0.1631,  ...,  1.2647, -0.2753, -0.1325],\n",
       "        [-0.8555, -0.7208,  1.3755,  ...,  0.0825, -1.1314,  0.3997],\n",
       "        [-0.0382, -0.2449,  0.7281,  ..., -0.1459,  0.8278,  0.2706],\n",
       "        ...,\n",
       "        [ 0.9261,  2.3049,  0.5502,  ..., -0.3492, -0.5298, -0.1577],\n",
       "        [-0.5972,  0.0471, -0.2406,  ..., -0.9446, -0.1126, -0.2260],\n",
       "        [-0.4809,  2.5629,  0.9530,  ...,  0.5278, -0.4588,  0.7294]])"
      ]
     },
     "execution_count": 27,
     "metadata": {
      "tags": []
     },
     "output_type": "execute_result"
    }
   ],
   "source": [
    "model.embedding.weight.data.copy_(pretrained_embeddings)"
   ]
  },
  {
   "cell_type": "markdown",
   "metadata": {
    "id": "uAF8-bTJpwmm"
   },
   "source": [
    "It's common to initialize the embedding of the pad token to all zeros. This, along with setting the `padding_idx` in the model's embedding layer, means that the embedding should always output a tensor full of zeros when a pad token is input."
   ]
  },
  {
   "cell_type": "code",
   "execution_count": 28,
   "metadata": {
    "colab": {
     "base_uri": "https://localhost:8080/"
    },
    "id": "7pbjDSgNpwmm",
    "outputId": "d895eebe-3fda-42a3-b78f-f589c107c9da"
   },
   "outputs": [
    {
     "name": "stdout",
     "output_type": "stream",
     "text": [
      "tensor([[-0.1117, -0.4966,  0.1631,  ...,  1.2647, -0.2753, -0.1325],\n",
      "        [ 0.0000,  0.0000,  0.0000,  ...,  0.0000,  0.0000,  0.0000],\n",
      "        [-0.0382, -0.2449,  0.7281,  ..., -0.1459,  0.8278,  0.2706],\n",
      "        ...,\n",
      "        [ 0.9261,  2.3049,  0.5502,  ..., -0.3492, -0.5298, -0.1577],\n",
      "        [-0.5972,  0.0471, -0.2406,  ..., -0.9446, -0.1126, -0.2260],\n",
      "        [-0.4809,  2.5629,  0.9530,  ...,  0.5278, -0.4588,  0.7294]])\n"
     ]
    }
   ],
   "source": [
    "model.embedding.weight.data[PAD_IDX] = torch.zeros(EMBEDDING_DIM)\n",
    "\n",
    "print(model.embedding.weight.data)"
   ]
  },
  {
   "cell_type": "markdown",
   "metadata": {
    "id": "hO51ESn5pwmn"
   },
   "source": [
    "We then define our optimizer, used to update our parameters w.r.t. their gradients. We use Adam with the default learning rate."
   ]
  },
  {
   "cell_type": "code",
   "execution_count": 29,
   "metadata": {
    "id": "JpCGPGTkpwmn"
   },
   "outputs": [],
   "source": [
    "optimizer = optim.Adam(model.parameters())"
   ]
  },
  {
   "cell_type": "markdown",
   "metadata": {
    "id": "-8EQh0BGpwmn"
   },
   "source": [
    "."
   ]
  },
  {
   "cell_type": "code",
   "execution_count": 30,
   "metadata": {
    "id": "fOhdfyscpwmo"
   },
   "outputs": [],
   "source": [
    "TAG_PAD_IDX = UD_TAGS.vocab.stoi[UD_TAGS.pad_token]\n",
    "\n",
    "criterion = nn.CrossEntropyLoss(ignore_index = TAG_PAD_IDX)"
   ]
  },
  {
   "cell_type": "markdown",
   "metadata": {
    "id": "VmiF0b31pwmo"
   },
   "source": [
    "We then place our model and loss function on our GPU, if we have one."
   ]
  },
  {
   "cell_type": "code",
   "execution_count": 31,
   "metadata": {
    "id": "BHLdYmqhpwmp"
   },
   "outputs": [],
   "source": [
    "model = model.to(device)\n",
    "criterion = criterion.to(device)"
   ]
  },
  {
   "cell_type": "markdown",
   "metadata": {
    "id": "eIgmzjvEpwmq"
   },
   "source": [
    "We will be using the loss value between our predicted and actual tags to train the network, but ideally we'd like a more interpretable way to see how well our model is doing - accuracy.\n",
    "\n",
    "The issue is that we don't want to calculate accuracy over the `<pad>` tokens as we aren't interested in predicting them.\n",
    "\n",
    "The function below only calculates accuracy over non-padded tokens. `non_pad_elements` is a tensor containing the indices of the non-pad tokens within an input batch. We then compare the predictions of those elements with the labels to get a count of how many predictions were correct. We then divide this by the number of non-pad elements to get our accuracy value over the batch."
   ]
  },
  {
   "cell_type": "code",
   "execution_count": 32,
   "metadata": {
    "id": "l6FMQ9Pppwmq"
   },
   "outputs": [],
   "source": [
    "def categorical_accuracy(preds, y, tag_pad_idx):\n",
    "    \"\"\"\n",
    "    Returns accuracy per batch, i.e. if you get 8/10 right, this returns 0.8, NOT 8\n",
    "    \"\"\"\n",
    "    max_preds = preds.argmax(dim = 1, keepdim = True) # get the index of the max probability\n",
    "    non_pad_elements = (y != tag_pad_idx).nonzero()\n",
    "    correct = max_preds[non_pad_elements].squeeze(1).eq(y[non_pad_elements])\n",
    "    return correct.sum() / y[non_pad_elements].shape[0]"
   ]
  },
  {
   "cell_type": "markdown",
   "metadata": {
    "id": "MzbRWYkIpwmq"
   },
   "source": [
    "Next is the function that handles training our model.\n",
    "\n",
    "We first set the model to `train` mode to turn on dropout/batch-norm/etc. (if used). Then we iterate over our iterator, which returns a batch of examples. \n",
    "\n",
    "For each batch: \n",
    "- we zero the gradients over the parameters from the last gradient calculation\n",
    "- insert the batch of text into the model to get predictions\n",
    "- as PyTorch loss functions cannot handle 3-dimensional predictions we reshape our predictions\n",
    "- calculate the loss and accuracy between the predicted tags and actual tags\n",
    "- call `backward` to calculate the gradients of the parameters w.r.t. the loss\n",
    "- take an optimizer `step` to update the parameters\n",
    "- add to the running total of loss and accuracy"
   ]
  },
  {
   "cell_type": "code",
   "execution_count": 33,
   "metadata": {
    "id": "_QGjrEYppwmr"
   },
   "outputs": [],
   "source": [
    "def train(model, iterator, optimizer, criterion, tag_pad_idx):\n",
    "    \n",
    "    epoch_loss = 0\n",
    "    epoch_acc = 0\n",
    "    \n",
    "    model.train()\n",
    "    \n",
    "    for batch in iterator:\n",
    "        \n",
    "        text = batch.text\n",
    "        tags = batch.udtags\n",
    "        \n",
    "        optimizer.zero_grad()\n",
    "        \n",
    "        #text = [sent len, batch size]\n",
    "        \n",
    "        predictions = model(text)\n",
    "        \n",
    "        #predictions = [sent len, batch size, output dim]\n",
    "        #tags = [sent len, batch size]\n",
    "        \n",
    "        predictions = predictions.view(-1, predictions.shape[-1])\n",
    "        tags = tags.view(-1)\n",
    "        \n",
    "        #predictions = [sent len * batch size, output dim]\n",
    "        #tags = [sent len * batch size]\n",
    "        \n",
    "        loss = criterion(predictions, tags)\n",
    "                \n",
    "        acc = categorical_accuracy(predictions, tags, tag_pad_idx)\n",
    "        \n",
    "        loss.backward()\n",
    "        \n",
    "        optimizer.step()\n",
    "        \n",
    "        epoch_loss += loss.item()\n",
    "        epoch_acc += acc.item()\n",
    "        \n",
    "    return epoch_loss / len(iterator), epoch_acc / len(iterator)"
   ]
  },
  {
   "cell_type": "markdown",
   "metadata": {
    "id": "jkdJ4J-Gpwms"
   },
   "source": [
    "The `evaluate` function is similar to the `train` function, except with changes made so we don't update the model's parameters.\n",
    "\n",
    "`model.eval()` is used to put the model in evaluation mode, so dropout/batch-norm/etc. are turned off. \n",
    "\n",
    "The iteration loop is also wrapped in `torch.no_grad` to ensure we don't calculate any gradients. We also don't need to call `optimizer.zero_grad()` and `optimizer.step()`."
   ]
  },
  {
   "cell_type": "code",
   "execution_count": 34,
   "metadata": {
    "id": "QoxU16Sbpwms"
   },
   "outputs": [],
   "source": [
    "def evaluate(model, iterator, criterion, tag_pad_idx):\n",
    "    \n",
    "    epoch_loss = 0\n",
    "    epoch_acc = 0\n",
    "    \n",
    "    model.eval()\n",
    "    \n",
    "    with torch.no_grad():\n",
    "    \n",
    "        for batch in iterator:\n",
    "\n",
    "            text = batch.text\n",
    "            tags = batch.udtags\n",
    "            \n",
    "            predictions = model(text)\n",
    "            \n",
    "            predictions = predictions.view(-1, predictions.shape[-1])\n",
    "            tags = tags.view(-1)\n",
    "            \n",
    "            loss = criterion(predictions, tags)\n",
    "            \n",
    "            acc = categorical_accuracy(predictions, tags, tag_pad_idx)\n",
    "\n",
    "            epoch_loss += loss.item()\n",
    "            epoch_acc += acc.item()\n",
    "        \n",
    "    return epoch_loss / len(iterator), epoch_acc / len(iterator)"
   ]
  },
  {
   "cell_type": "markdown",
   "metadata": {
    "id": "UUnSxXfmpwmt"
   },
   "source": [
    "Next, we have a small function that tells us how long an epoch takes."
   ]
  },
  {
   "cell_type": "code",
   "execution_count": 35,
   "metadata": {
    "id": "aM2Mfyohpwmt"
   },
   "outputs": [],
   "source": [
    "def epoch_time(start_time, end_time):\n",
    "    elapsed_time = end_time - start_time\n",
    "    elapsed_mins = int(elapsed_time / 60)\n",
    "    elapsed_secs = int(elapsed_time - (elapsed_mins * 60))\n",
    "    return elapsed_mins, elapsed_secs"
   ]
  },
  {
   "cell_type": "markdown",
   "metadata": {
    "id": "HlWPogO8pwmv"
   },
   "source": [
    "Finally, we train our model!\n",
    "\n",
    "After each epoch we check if our model has achieved the best validation loss so far. If it has then we save the parameters of this model and we will use these \"best\" parameters to calculate performance over our test set."
   ]
  },
  {
   "cell_type": "code",
   "execution_count": 36,
   "metadata": {
    "colab": {
     "base_uri": "https://localhost:8080/"
    },
    "id": "W08Crfvzpwmw",
    "outputId": "b84a3cfe-8f92-423a-a26f-af3b6043800a"
   },
   "outputs": [
    {
     "name": "stdout",
     "output_type": "stream",
     "text": [
      "Epoch: 01 | Epoch Time: 0m 3s\n",
      "\tTrain Loss: 1.328 | Train Acc: 58.49%\n",
      "\t Val. Loss: 0.666 |  Val. Acc: 78.83%\n",
      "Epoch: 02 | Epoch Time: 0m 3s\n",
      "\tTrain Loss: 0.472 | Train Acc: 85.22%\n",
      "\t Val. Loss: 0.503 |  Val. Acc: 83.60%\n",
      "Epoch: 03 | Epoch Time: 0m 3s\n",
      "\tTrain Loss: 0.344 | Train Acc: 89.15%\n",
      "\t Val. Loss: 0.436 |  Val. Acc: 85.41%\n",
      "Epoch: 04 | Epoch Time: 0m 3s\n",
      "\tTrain Loss: 0.283 | Train Acc: 91.00%\n",
      "\t Val. Loss: 0.402 |  Val. Acc: 86.43%\n",
      "Epoch: 05 | Epoch Time: 0m 3s\n",
      "\tTrain Loss: 0.248 | Train Acc: 92.17%\n",
      "\t Val. Loss: 0.395 |  Val. Acc: 86.66%\n",
      "Epoch: 06 | Epoch Time: 0m 3s\n",
      "\tTrain Loss: 0.222 | Train Acc: 92.90%\n",
      "\t Val. Loss: 0.378 |  Val. Acc: 87.03%\n",
      "Epoch: 07 | Epoch Time: 0m 3s\n",
      "\tTrain Loss: 0.202 | Train Acc: 93.51%\n",
      "\t Val. Loss: 0.363 |  Val. Acc: 88.54%\n",
      "Epoch: 08 | Epoch Time: 0m 3s\n",
      "\tTrain Loss: 0.186 | Train Acc: 94.00%\n",
      "\t Val. Loss: 0.361 |  Val. Acc: 87.53%\n",
      "Epoch: 09 | Epoch Time: 0m 3s\n",
      "\tTrain Loss: 0.174 | Train Acc: 94.40%\n",
      "\t Val. Loss: 0.349 |  Val. Acc: 88.98%\n",
      "Epoch: 10 | Epoch Time: 0m 3s\n",
      "\tTrain Loss: 0.163 | Train Acc: 94.70%\n",
      "\t Val. Loss: 0.353 |  Val. Acc: 88.85%\n"
     ]
    }
   ],
   "source": [
    "N_EPOCHS = 10\n",
    "\n",
    "best_valid_loss = float('inf')\n",
    "\n",
    "for epoch in range(N_EPOCHS):\n",
    "\n",
    "    start_time = time.time()\n",
    "    \n",
    "    train_loss, train_acc = train(model, train_iterator, optimizer, criterion, TAG_PAD_IDX)\n",
    "    valid_loss, valid_acc = evaluate(model, valid_iterator, criterion, TAG_PAD_IDX)\n",
    "    \n",
    "    end_time = time.time()\n",
    "\n",
    "    epoch_mins, epoch_secs = epoch_time(start_time, end_time)\n",
    "    \n",
    "    if valid_loss < best_valid_loss:\n",
    "        best_valid_loss = valid_loss\n",
    "        torch.save(model.state_dict(), 'tut1-model.pt')\n",
    "    \n",
    "    print(f'Epoch: {epoch+1:02} | Epoch Time: {epoch_mins}m {epoch_secs}s')\n",
    "    print(f'\\tTrain Loss: {train_loss:.3f} | Train Acc: {train_acc*100:.2f}%')\n",
    "    print(f'\\t Val. Loss: {valid_loss:.3f} |  Val. Acc: {valid_acc*100:.2f}%')"
   ]
  },
  {
   "cell_type": "markdown",
   "metadata": {
    "id": "QMKuvg9apwmw"
   },
   "source": [
    "We then load our \"best\" parameters and evaluate performance on the test set."
   ]
  },
  {
   "cell_type": "code",
   "execution_count": 37,
   "metadata": {
    "colab": {
     "base_uri": "https://localhost:8080/"
    },
    "id": "lWVYuxHqpwmx",
    "outputId": "e23c434d-6ce6-4233-df42-1794e329e0a1"
   },
   "outputs": [
    {
     "name": "stdout",
     "output_type": "stream",
     "text": [
      "Test Loss: 0.366 |  Test Acc: 88.26%\n"
     ]
    }
   ],
   "source": [
    "model.load_state_dict(torch.load('tut1-model.pt'))\n",
    "\n",
    "test_loss, test_acc = evaluate(model, test_iterator, criterion, TAG_PAD_IDX)\n",
    "\n",
    "print(f'Test Loss: {test_loss:.3f} |  Test Acc: {test_acc*100:.2f}%')"
   ]
  },
  {
   "cell_type": "markdown",
   "metadata": {
    "id": "FoRcN30cpwmx"
   },
   "source": [
    "## Inference\n",
    "\n",
    "88% accuracy looks pretty good, but let's see our model tag some actual sentences.\n",
    "\n",
    "We define a `tag_sentence` function that will:\n",
    "- put the model into evaluation mode\n",
    "- tokenize the sentence with spaCy if it is not a list\n",
    "- lowercase the tokens if the `Field` did\n",
    "- numericalize the tokens using the vocabulary\n",
    "- find out which tokens are not in the vocabulary, i.e. are `<unk>` tokens\n",
    "- convert the numericalized tokens into a tensor and add a batch dimension\n",
    "- feed the tensor into the model\n",
    "- get the predictions over the sentence\n",
    "- convert the predictions into readable tags\n",
    "\n",
    "As well as returning the tokens and tags, it also returns which tokens were `<unk>` tokens."
   ]
  },
  {
   "cell_type": "code",
   "execution_count": 38,
   "metadata": {
    "id": "czlCsTpApwmx"
   },
   "outputs": [],
   "source": [
    "def tag_sentence(model, device, sentence, text_field, tag_field):\n",
    "    \n",
    "    model.eval()\n",
    "    \n",
    "    if isinstance(sentence, str):\n",
    "        nlp = spacy.load('en_core_web_sm')\n",
    "        tokens = [token.text for token in nlp(sentence)]\n",
    "    else:\n",
    "        tokens = [token for token in sentence]\n",
    "\n",
    "    if text_field.lower:\n",
    "        tokens = [t.lower() for t in tokens]\n",
    "        \n",
    "    numericalized_tokens = [text_field.vocab.stoi[t] for t in tokens]\n",
    "\n",
    "    unk_idx = text_field.vocab.stoi[text_field.unk_token]\n",
    "    \n",
    "    unks = [t for t, n in zip(tokens, numericalized_tokens) if n == unk_idx]\n",
    "    \n",
    "    token_tensor = torch.LongTensor(numericalized_tokens)\n",
    "    \n",
    "    token_tensor = token_tensor.unsqueeze(-1).to(device)\n",
    "         \n",
    "    predictions = model(token_tensor)\n",
    "    \n",
    "    top_predictions = predictions.argmax(-1)\n",
    "    \n",
    "    predicted_tags = [tag_field.vocab.itos[t.item()] for t in top_predictions]\n",
    "    \n",
    "    return tokens, predicted_tags, unks"
   ]
  },
  {
   "cell_type": "markdown",
   "metadata": {
    "id": "3VG1mjbEpwmy"
   },
   "source": [
    "We'll get an already tokenized example from the training set and test our model's performance."
   ]
  },
  {
   "cell_type": "code",
   "execution_count": 39,
   "metadata": {
    "colab": {
     "base_uri": "https://localhost:8080/"
    },
    "id": "JX9dYDOhpwmy",
    "outputId": "ee9f7d6f-f558-43f2-ffcd-330e33f8cdc5"
   },
   "outputs": [
    {
     "name": "stdout",
     "output_type": "stream",
     "text": [
      "['[', 'this', 'killing', 'of', 'a', 'respected', 'cleric', 'will', 'be', 'causing', 'us', 'trouble', 'for', 'years', 'to', 'come', '.', ']']\n"
     ]
    }
   ],
   "source": [
    "example_index = 1\n",
    "\n",
    "sentence = vars(train_data.examples[example_index])['text']\n",
    "actual_tags = vars(train_data.examples[example_index])['udtags']\n",
    "\n",
    "print(sentence)"
   ]
  },
  {
   "cell_type": "markdown",
   "metadata": {
    "id": "1eAGWiI-pwmy"
   },
   "source": [
    "We can then use our `tag_sentence` function to get the tags. Notice how the tokens referring to subject of the sentence, the \"respected cleric\", are both `<unk>` tokens!"
   ]
  },
  {
   "cell_type": "code",
   "execution_count": 40,
   "metadata": {
    "colab": {
     "base_uri": "https://localhost:8080/"
    },
    "id": "EJmb8kVTpwmy",
    "outputId": "da9fd84d-cc6c-430a-cb25-8f69a2f4c597"
   },
   "outputs": [
    {
     "name": "stdout",
     "output_type": "stream",
     "text": [
      "['respected', 'cleric']\n"
     ]
    }
   ],
   "source": [
    "tokens, pred_tags, unks = tag_sentence(model, \n",
    "                                       device, \n",
    "                                       sentence, \n",
    "                                       TEXT, \n",
    "                                       UD_TAGS)\n",
    "\n",
    "print(unks)"
   ]
  },
  {
   "cell_type": "markdown",
   "metadata": {
    "id": "2zAXE1KTpwmy"
   },
   "source": [
    "We can then check how well it did. Surprisingly, it got every token correct, including the two that were unknown tokens!"
   ]
  },
  {
   "cell_type": "code",
   "execution_count": 41,
   "metadata": {
    "colab": {
     "base_uri": "https://localhost:8080/"
    },
    "id": "hixzgb6fpwmz",
    "outputId": "2e9849f7-009d-41b7-8951-0c931e1522b3"
   },
   "outputs": [
    {
     "name": "stdout",
     "output_type": "stream",
     "text": [
      "Pred. Tag\tActual Tag\tCorrect?\tToken\n",
      "\n",
      "PUNCT\t\tPUNCT\t\t✔\t\t[\n",
      "DET\t\tDET\t\t✔\t\tthis\n",
      "NOUN\t\tNOUN\t\t✔\t\tkilling\n",
      "ADP\t\tADP\t\t✔\t\tof\n",
      "DET\t\tDET\t\t✔\t\ta\n",
      "ADJ\t\tADJ\t\t✔\t\trespected\n",
      "NOUN\t\tNOUN\t\t✔\t\tcleric\n",
      "AUX\t\tAUX\t\t✔\t\twill\n",
      "AUX\t\tAUX\t\t✔\t\tbe\n",
      "VERB\t\tVERB\t\t✔\t\tcausing\n",
      "PRON\t\tPRON\t\t✔\t\tus\n",
      "NOUN\t\tNOUN\t\t✔\t\ttrouble\n",
      "ADP\t\tADP\t\t✔\t\tfor\n",
      "NOUN\t\tNOUN\t\t✔\t\tyears\n",
      "PART\t\tPART\t\t✔\t\tto\n",
      "VERB\t\tVERB\t\t✔\t\tcome\n",
      "PUNCT\t\tPUNCT\t\t✔\t\t.\n",
      "PUNCT\t\tPUNCT\t\t✔\t\t]\n"
     ]
    }
   ],
   "source": [
    "print(\"Pred. Tag\\tActual Tag\\tCorrect?\\tToken\\n\")\n",
    "\n",
    "for token, pred_tag, actual_tag in zip(tokens, pred_tags, actual_tags):\n",
    "    correct = '✔' if pred_tag == actual_tag else '✘'\n",
    "    print(f\"{pred_tag}\\t\\t{actual_tag}\\t\\t{correct}\\t\\t{token}\")"
   ]
  },
  {
   "cell_type": "markdown",
   "metadata": {
    "id": "o2o_BtQspwm2"
   },
   "source": [
    "Let's now make up our own sentence and see how well the model does.\n",
    "\n",
    "Our example sentence below has every token within the model's vocabulary."
   ]
  },
  {
   "cell_type": "code",
   "execution_count": 42,
   "metadata": {
    "colab": {
     "base_uri": "https://localhost:8080/"
    },
    "id": "qEO3Wy48pwm5",
    "outputId": "f0191cff-3064-4738-f5a8-6f1197657087"
   },
   "outputs": [
    {
     "name": "stdout",
     "output_type": "stream",
     "text": [
      "[]\n"
     ]
    }
   ],
   "source": [
    "sentence = 'The Queen will deliver a speech about the conflict in North Korea at 1pm tomorrow.'\n",
    "\n",
    "tokens, tags, unks = tag_sentence(model, \n",
    "                                  device, \n",
    "                                  sentence, \n",
    "                                  TEXT, \n",
    "                                  UD_TAGS)\n",
    "\n",
    "print(unks)"
   ]
  },
  {
   "cell_type": "markdown",
   "metadata": {
    "id": "oMXAdlzCpwm5"
   },
   "source": [
    "Looking at the sentence it seems like it gave sensible tags to every token!"
   ]
  },
  {
   "cell_type": "code",
   "execution_count": 43,
   "metadata": {
    "colab": {
     "base_uri": "https://localhost:8080/"
    },
    "id": "qwieKTFxpwm6",
    "outputId": "5d09b568-038d-4f88-830e-8883549f977e"
   },
   "outputs": [
    {
     "name": "stdout",
     "output_type": "stream",
     "text": [
      "Pred. Tag\tToken\n",
      "\n",
      "DET\t\tthe\n",
      "NOUN\t\tqueen\n",
      "AUX\t\twill\n",
      "VERB\t\tdeliver\n",
      "DET\t\ta\n",
      "NOUN\t\tspeech\n",
      "ADP\t\tabout\n",
      "DET\t\tthe\n",
      "NOUN\t\tconflict\n",
      "ADP\t\tin\n",
      "PROPN\t\tnorth\n",
      "PROPN\t\tkorea\n",
      "ADP\t\tat\n",
      "NUM\t\t1\n",
      "NOUN\t\tpm\n",
      "NOUN\t\ttomorrow\n",
      "PUNCT\t\t.\n"
     ]
    }
   ],
   "source": [
    "print(\"Pred. Tag\\tToken\\n\")\n",
    "\n",
    "for token, tag in zip(tokens, tags):\n",
    "    print(f\"{tag}\\t\\t{token}\")"
   ]
  },
  {
   "cell_type": "markdown",
   "metadata": {
    "id": "KajaGMzPpwm6"
   },
   "source": [
    "We've now seen how to implement PoS tagging with PyTorch and TorchText! \n",
    "\n",
    "The BiLSTM isn't a state-of-the-art model, in terms of performance, but is a strong baseline for PoS tasks and is a good tool to have in your arsenal."
   ]
  }
 ],
 "metadata": {
  "accelerator": "GPU",
  "colab": {
   "machine_shape": "hm",
   "name": "1 - BiLSTM for PoS Tagging.ipynb",
   "provenance": []
  },
  "kernelspec": {
   "display_name": "Python 3 (ipykernel)",
   "language": "python",
   "name": "python3"
  },
  "language_info": {
   "codemirror_mode": {
    "name": "ipython",
    "version": 3
   },
   "file_extension": ".py",
   "mimetype": "text/x-python",
   "name": "python",
   "nbconvert_exporter": "python",
   "pygments_lexer": "ipython3",
   "version": "3.9.6"
  }
 },
 "nbformat": 4,
 "nbformat_minor": 1
}
