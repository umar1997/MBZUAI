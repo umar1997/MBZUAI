{
 "cells": [
  {
   "cell_type": "markdown",
   "id": "7bc2e955",
   "metadata": {},
   "source": [
    "### Jaccard Similarity"
   ]
  },
  {
   "cell_type": "code",
   "execution_count": 3,
   "id": "679f8bd9",
   "metadata": {},
   "outputs": [
    {
     "name": "stdout",
     "output_type": "stream",
     "text": [
      "3/9\n"
     ]
    },
    {
     "data": {
      "text/plain": [
       "0.3333333333333333"
      ]
     },
     "execution_count": 3,
     "metadata": {},
     "output_type": "execute_result"
    }
   ],
   "source": [
    "def jaccard_set(list1, list2):\n",
    "    \"\"\"Define Jaccard Similarity function for two sets\"\"\"\n",
    "    intersection = len(list(set(list1).intersection(list2)))\n",
    "    union = (len(list1) + len(list2)) - intersection\n",
    "    print(intersection, union, sep='/')\n",
    "    return float(intersection) / union\n",
    "\n",
    "# Define two sets \n",
    "a = [0, 1, 2, 5, 6]\n",
    "b = [0, 2, 3, 4, 5, 7, 9]\n",
    " \n",
    "jaccard_set(a, b)"
   ]
  },
  {
   "cell_type": "code",
   "execution_count": 6,
   "id": "4c288df1",
   "metadata": {},
   "outputs": [
    {
     "name": "stdout",
     "output_type": "stream",
     "text": [
      "2/5\n"
     ]
    },
    {
     "data": {
      "text/plain": [
       "0.4"
      ]
     },
     "execution_count": 6,
     "metadata": {},
     "output_type": "execute_result"
    }
   ],
   "source": [
    "a = [2,4,6]\n",
    "b = [1,2,3,4]\n",
    " \n",
    "jaccard_set(a, b)"
   ]
  },
  {
   "cell_type": "markdown",
   "id": "52bea00a",
   "metadata": {},
   "source": [
    "### Jaccard Bag Similarity"
   ]
  },
  {
   "cell_type": "markdown",
   "id": "5df545e0",
   "metadata": {},
   "source": [
    "The bag-similarity of bags {a, a, a, b} and {a, a, b, b, c} is 1/3.\n",
    "The intersection counts a twice and b once, so its size is 3. The size of the\n",
    "union of two bags is always the sum of the sizes of the two bags, or 9 in this\n",
    "case. Since the highest possible Jaccard similarity for bags is 1/2, the score\n",
    "of 1/3 indicates the two bags are quite similar, as should be apparent from an\n",
    "examination of their contents"
   ]
  },
  {
   "cell_type": "code",
   "execution_count": null,
   "id": "c87d1806",
   "metadata": {},
   "outputs": [],
   "source": []
  }
 ],
 "metadata": {
  "kernelspec": {
   "display_name": "Python 3 (ipykernel)",
   "language": "python",
   "name": "python3"
  },
  "language_info": {
   "codemirror_mode": {
    "name": "ipython",
    "version": 3
   },
   "file_extension": ".py",
   "mimetype": "text/x-python",
   "name": "python",
   "nbconvert_exporter": "python",
   "pygments_lexer": "ipython3",
   "version": "3.9.6"
  }
 },
 "nbformat": 4,
 "nbformat_minor": 5
}
