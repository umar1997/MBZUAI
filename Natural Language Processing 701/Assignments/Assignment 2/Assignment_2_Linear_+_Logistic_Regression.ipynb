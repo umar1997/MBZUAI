{
 "cells": [
  {
   "cell_type": "markdown",
   "id": "d3025aef",
   "metadata": {},
   "source": [
    "#### Importing Libraries"
   ]
  },
  {
   "cell_type": "code",
   "execution_count": 1,
   "id": "46847400",
   "metadata": {},
   "outputs": [],
   "source": [
    "import numpy as np\n",
    "from matplotlib import pyplot\n",
    "%matplotlib inline\n",
    "\n",
    "from sklearn.metrics import r2_score"
   ]
  },
  {
   "cell_type": "markdown",
   "id": "832f745d",
   "metadata": {},
   "source": [
    "## Linear Regression"
   ]
  },
  {
   "cell_type": "code",
   "execution_count": 2,
   "id": "f22ef941",
   "metadata": {},
   "outputs": [
    {
     "name": "stdout",
     "output_type": "stream",
     "text": [
      "[[101.    1.7]\n",
      " [120.    2.3]\n",
      " [115.    4. ]] \n",
      " [[641.48]\n",
      " [722.3 ]\n",
      " [569.43]]\n"
     ]
    }
   ],
   "source": [
    "def readFile(filename):\n",
    "    trainFile = open(filename, 'r')\n",
    "    Lines = trainFile.readlines()\n",
    "\n",
    "    trainData = []\n",
    "\n",
    "    for line in Lines:\n",
    "        stringList = line.strip().split()\n",
    "        trainData.append([float(i) for i in stringList])\n",
    "\n",
    "    trainY = np.asarray(trainData)[:,-1:]\n",
    "    trainX = np.asarray(trainData)[:,:-1]\n",
    "    \n",
    "    trainFile.close()\n",
    "    \n",
    "    return trainX, trainY\n",
    "    \n",
    "    \n",
    "trainX, trainY = readFile('dataForTrainingLinear.txt')\n",
    "print(trainX[:3], '\\n', trainY[:3])"
   ]
  },
  {
   "cell_type": "code",
   "execution_count": 3,
   "id": "0f29d7fc",
   "metadata": {},
   "outputs": [
    {
     "data": {
      "text/plain": [
       "array([[  1. , 101. ,   1.7],\n",
       "       [  1. , 120. ,   2.3],\n",
       "       [  1. , 115. ,   4. ]])"
      ]
     },
     "execution_count": 3,
     "metadata": {},
     "output_type": "execute_result"
    }
   ],
   "source": [
    "trainX = np.concatenate((np.ones(shape=(len(trainX),1)),trainX), axis = 1)\n",
    "trainX[:3]"
   ]
  },
  {
   "cell_type": "code",
   "execution_count": 4,
   "id": "b0aa2ab3",
   "metadata": {},
   "outputs": [
    {
     "data": {
      "text/plain": [
       "((50, 3), (50,))"
      ]
     },
     "execution_count": 4,
     "metadata": {},
     "output_type": "execute_result"
    }
   ],
   "source": [
    "trainY = trainY.reshape(-1)\n",
    "trainX.shape, trainY.shape"
   ]
  },
  {
   "cell_type": "code",
   "execution_count": 5,
   "id": "455bb8ab",
   "metadata": {},
   "outputs": [
    {
     "data": {
      "text/plain": [
       "array([[ 0.12909188],\n",
       "       [ 0.01531566],\n",
       "       [-0.13248772]])"
      ]
     },
     "execution_count": 5,
     "metadata": {},
     "output_type": "execute_result"
    }
   ],
   "source": [
    "np.random.normal(0,0.1,trainX.shape[1]).reshape((-1,1))"
   ]
  },
  {
   "cell_type": "markdown",
   "id": "cd95ed95",
   "metadata": {},
   "source": [
    "#### Functions"
   ]
  },
  {
   "cell_type": "code",
   "execution_count": 6,
   "id": "b966b6af",
   "metadata": {},
   "outputs": [],
   "source": [
    "def predict(X, W):\n",
    "    X = np.concatenate((np.ones(shape=(len(X),1)),X), axis = 1)\n",
    "    Y_pred = np.dot(X,W)\n",
    "    return Y_pred"
   ]
  },
  {
   "cell_type": "code",
   "execution_count": 7,
   "id": "6601b303",
   "metadata": {},
   "outputs": [],
   "source": [
    "def squared_loss(h_x, Y):\n",
    "    J = np.mean((h_x - Y)**2)/2\n",
    "    return J"
   ]
  },
  {
   "cell_type": "code",
   "execution_count": 8,
   "id": "43f3e253",
   "metadata": {},
   "outputs": [],
   "source": [
    "# For Linear we are using weights with shape (3,) and for Logistic (3,1)\n",
    "def gradientDescent(X, Y, alpha, n_epoch, mode = None):\n",
    "    J = list()  \n",
    "\n",
    "    W = np.random.normal(0,0.1,trainX.shape[1])\n",
    "#     W = W.reshape((-1,1))\n",
    "    if mode == 'BGD':\n",
    "        for epoch in range(n_epoch):\n",
    "\n",
    "            Y_hat = np.dot(X,W) # (50, 3) x (3,) \n",
    "            L = Y_hat - Y # (50,)\n",
    "            W = W - ((alpha/float(len(X))) * np.dot(np.transpose(X),L))\n",
    "            \n",
    "            h_x = np.dot(X,W)\n",
    "            J.append(squared_loss(h_x, Y))\n",
    "            if(epoch%(n_epoch/10) == 0):\n",
    "                print('Cost at {} epoch is: {}'.format(epoch, J[-1]))\n",
    "    elif mode == 'SGD':\n",
    "        for epoch in range(n_epoch):\n",
    "            for row in range(len(X)):\n",
    "                Y_hat = np.dot(X[row],W) # (1, 3) x (3, )\n",
    "                L = Y_hat - Y[row] # (1,)\n",
    "                \n",
    "                transpose = np.transpose(X[row]) # (3,)\n",
    "                W = W - ((alpha/float(len(X))) * np.dot(transpose,L))\n",
    "                \n",
    "            J.append(squared_loss(Y_hat, Y[row]))\n",
    "            if(epoch%(n_epoch/10) == 0):\n",
    "                print('Cost at {} epoch is: {}'.format(epoch, J[-1]))\n",
    "            \n",
    "    return W, J"
   ]
  },
  {
   "cell_type": "markdown",
   "id": "197d3e6d",
   "metadata": {},
   "source": [
    "### Batch Gradient Descent"
   ]
  },
  {
   "cell_type": "code",
   "execution_count": 9,
   "id": "0487d7c5",
   "metadata": {},
   "outputs": [
    {
     "name": "stdout",
     "output_type": "stream",
     "text": [
      "Cost at 0 epoch is: 50416.151711451115\n",
      "Cost at 150000 epoch is: 15.201200973111368\n",
      "Cost at 300000 epoch is: 2.905472354986906\n",
      "Cost at 450000 epoch is: 1.982627650511595\n",
      "Cost at 600000 epoch is: 1.9133643823452773\n",
      "Cost at 750000 epoch is: 1.9081658908831451\n",
      "Cost at 900000 epoch is: 1.9077757228446321\n",
      "Cost at 1050000 epoch is: 1.9077464391381176\n",
      "Cost at 1200000 epoch is: 1.9077442412762153\n",
      "Cost at 1350000 epoch is: 1.9077440763176787\n",
      "1.907744063936917\n"
     ]
    }
   ],
   "source": [
    "n_epoch = 1500000\n",
    "alpha = 0.00015\n",
    "\n",
    "W, J = gradientDescent(trainX ,trainY, alpha, n_epoch, mode = \"BGD\")\n",
    "print(J[-1])"
   ]
  },
  {
   "cell_type": "code",
   "execution_count": 10,
   "id": "6b6619d4",
   "metadata": {},
   "outputs": [
    {
     "data": {
      "image/png": "[encoded data removed]",
      "text/plain": [
       "<Figure size 432x288 with 1 Axes>"
      ]
     },
     "metadata": {
      "needs_background": "light"
     },
     "output_type": "display_data"
    }
   ],
   "source": [
    "import matplotlib.pyplot as plt \n",
    "  \n",
    "x = np.arange(1,n_epoch+1) \n",
    "y = J \n",
    " \n",
    "plt.plot(x, y) \n",
    "\n",
    "plt.xlabel('# of Epochs')  \n",
    "plt.ylabel('Cost') \n",
    "  \n",
    "plt.title('Cost Function Graph') \n",
    "\n",
    "plt.show()"
   ]
  },
  {
   "cell_type": "markdown",
   "id": "5add8b74",
   "metadata": {},
   "source": [
    "#### Test Data"
   ]
  },
  {
   "cell_type": "code",
   "execution_count": 11,
   "id": "917de084",
   "metadata": {},
   "outputs": [
    {
     "data": {
      "text/plain": [
       "((10, 2), (10,))"
      ]
     },
     "execution_count": 11,
     "metadata": {},
     "output_type": "execute_result"
    }
   ],
   "source": [
    "testX, testY = readFile('dataForTestingLinear.txt')\n",
    "testY = testY.reshape(-1)\n",
    "testX.shape, testY.shape"
   ]
  },
  {
   "cell_type": "code",
   "execution_count": 12,
   "id": "2c5f9db4",
   "metadata": {},
   "outputs": [
    {
     "data": {
      "text/plain": [
       "array([651.86700015, 506.2104531 , 514.21069376, 169.65694781,\n",
       "       532.11419652, 550.68556579, 544.00188635, 476.55346302,\n",
       "       354.99035081, 616.41953947])"
      ]
     },
     "execution_count": 12,
     "metadata": {},
     "output_type": "execute_result"
    }
   ],
   "source": [
    "Ypred = predict(testX, W)\n",
    "Ypred"
   ]
  },
  {
   "cell_type": "code",
   "execution_count": 13,
   "id": "e88462ae",
   "metadata": {},
   "outputs": [
    {
     "data": {
      "text/plain": [
       "66.87310187783001"
      ]
     },
     "execution_count": 13,
     "metadata": {},
     "output_type": "execute_result"
    }
   ],
   "source": [
    "squared_loss(Ypred, testY)"
   ]
  },
  {
   "cell_type": "code",
   "execution_count": 14,
   "id": "b37c42a1",
   "metadata": {},
   "outputs": [
    {
     "data": {
      "text/plain": [
       "0.9922423008017556"
      ]
     },
     "execution_count": 14,
     "metadata": {},
     "output_type": "execute_result"
    }
   ],
   "source": [
    "from sklearn.metrics import r2_score\n",
    "r2_score(Ypred, testY)"
   ]
  },
  {
   "cell_type": "code",
   "execution_count": 15,
   "id": "cdbe8188",
   "metadata": {},
   "outputs": [
    {
     "name": "stdout",
     "output_type": "stream",
     "text": [
      "Cost at 0 test example is: 14.797000146696746\n",
      "Cost at 1 test example is: 12.130453096119766\n",
      "Cost at 2 test example is: 11.950693757262115\n",
      "Cost at 3 test example is: 3.1969478134223834\n",
      "Cost at 4 test example is: 11.064196520837527\n",
      "Cost at 5 test example is: 11.51556578863108\n",
      "Cost at 6 test example is: 13.52188634761751\n",
      "Cost at 7 test example is: 11.343463023917934\n",
      "Cost at 8 test example is: 7.69035081175565\n",
      "Cost at 9 test example is: 13.87953946756636\n"
     ]
    },
    {
     "data": {
      "image/png": "[encoded data removed]",
      "text/plain": [
       "<Figure size 432x288 with 1 Axes>"
      ]
     },
     "metadata": {
      "needs_background": "light"
     },
     "output_type": "display_data"
    }
   ],
   "source": [
    "def plotTest(x, y):\n",
    "    x = np.arange(1,len(x)+1)  \n",
    "    \n",
    "    plt.plot(x, y) \n",
    "\n",
    "    plt.xlabel('Test Examples')  \n",
    "    plt.ylabel('Cost') \n",
    "\n",
    "    plt.title('Test Error Graph') \n",
    "\n",
    "    plt.show()\n",
    "\n",
    "def testError(testX, testY, w):\n",
    "    lossList = []\n",
    "    y_hat = predict(testX, w)\n",
    "    for i in range(len(testX)):\n",
    "        L = y_hat[i] - testY[i]\n",
    "        \n",
    "        lossList.append(L)\n",
    "        print('Cost at {} test example is: {}'.format(i, lossList[-1]))\n",
    "    \n",
    "    plotTest(testX, lossList)\n",
    "\n",
    "testError(testX, testY, W)"
   ]
  },
  {
   "cell_type": "markdown",
   "id": "d8753826",
   "metadata": {},
   "source": [
    "### Stochastic Gradient Descent"
   ]
  },
  {
   "cell_type": "code",
   "execution_count": 16,
   "id": "77205c3a",
   "metadata": {},
   "outputs": [
    {
     "name": "stdout",
     "output_type": "stream",
     "text": [
      "Cost at 0 epoch is: 1600.883459159978\n",
      "Cost at 1500 epoch is: 585.6551492619203\n",
      "Cost at 3000 epoch is: 408.1779547561707\n",
      "Cost at 4500 epoch is: 283.4583282831607\n",
      "Cost at 6000 epoch is: 195.98332898394094\n",
      "Cost at 7500 epoch is: 134.7787384027881\n",
      "Cost at 9000 epoch is: 92.08125837806294\n",
      "Cost at 10500 epoch is: 62.40255094067469\n",
      "Cost at 12000 epoch is: 41.865554642729506\n",
      "Cost at 13500 epoch is: 27.733956545379936\n",
      "18.083950069030788\n"
     ]
    }
   ],
   "source": [
    "n_epoch = 15000\n",
    "alpha = 0.002\n",
    "\n",
    "W, J = gradientDescent(trainX ,trainY, alpha, n_epoch, mode = \"SGD\")\n",
    "print(J[-1])"
   ]
  },
  {
   "cell_type": "code",
   "execution_count": 17,
   "id": "ce23a2cc",
   "metadata": {},
   "outputs": [
    {
     "data": {
      "image/png": "[encoded data removed]",
      "text/plain": [
       "<Figure size 432x288 with 1 Axes>"
      ]
     },
     "metadata": {
      "needs_background": "light"
     },
     "output_type": "display_data"
    }
   ],
   "source": [
    "import matplotlib.pyplot as plt \n",
    "  \n",
    "x = np.arange(1,n_epoch+1) \n",
    "y = J \n",
    " \n",
    "plt.plot(x, y) \n",
    "\n",
    "plt.xlabel('# of Epochs')  \n",
    "plt.ylabel('Cost') \n",
    "  \n",
    "plt.title('Cost Function Graph') \n",
    "\n",
    "plt.show()"
   ]
  },
  {
   "cell_type": "markdown",
   "id": "185877ba",
   "metadata": {},
   "source": [
    "#### Test Data"
   ]
  },
  {
   "cell_type": "code",
   "execution_count": 18,
   "id": "ea30b659",
   "metadata": {},
   "outputs": [
    {
     "data": {
      "text/plain": [
       "((10, 2), (10,))"
      ]
     },
     "execution_count": 18,
     "metadata": {},
     "output_type": "execute_result"
    }
   ],
   "source": [
    "testX, testY = readFile('dataForTestingLinear.txt')\n",
    "testY = testY.reshape(-1)\n",
    "testX.shape, testY.shape"
   ]
  },
  {
   "cell_type": "code",
   "execution_count": 19,
   "id": "4c8de774",
   "metadata": {},
   "outputs": [
    {
     "data": {
      "text/plain": [
       "array([649.80904869, 504.1473014 , 512.75576632, 162.02021689,\n",
       "       528.02276286, 546.63184786, 544.41209322, 474.55924093,\n",
       "       349.2009779 , 614.39005611])"
      ]
     },
     "execution_count": 19,
     "metadata": {},
     "output_type": "execute_result"
    }
   ],
   "source": [
    "Ypred = predict(testX, W)\n",
    "Ypred"
   ]
  },
  {
   "cell_type": "code",
   "execution_count": 20,
   "id": "c6f15496",
   "metadata": {},
   "outputs": [
    {
     "data": {
      "text/plain": [
       "46.16771866157327"
      ]
     },
     "execution_count": 20,
     "metadata": {},
     "output_type": "execute_result"
    }
   ],
   "source": [
    "squared_loss(Ypred, testY)"
   ]
  },
  {
   "cell_type": "code",
   "execution_count": 21,
   "id": "507661b0",
   "metadata": {},
   "outputs": [
    {
     "data": {
      "text/plain": [
       "0.9947820450943942"
      ]
     },
     "execution_count": 21,
     "metadata": {},
     "output_type": "execute_result"
    }
   ],
   "source": [
    "from sklearn.metrics import r2_score\n",
    "r2_score(Ypred, testY)"
   ]
  },
  {
   "cell_type": "code",
   "execution_count": 22,
   "id": "fd586bb5",
   "metadata": {},
   "outputs": [
    {
     "name": "stdout",
     "output_type": "stream",
     "text": [
      "Cost at 0 test example is: 12.739048689708284\n",
      "Cost at 1 test example is: 10.067301397105552\n",
      "Cost at 2 test example is: 10.495766322753752\n",
      "Cost at 3 test example is: -4.439783110158402\n",
      "Cost at 4 test example is: 6.972762864580659\n",
      "Cost at 5 test example is: 7.46184786251672\n",
      "Cost at 6 test example is: 13.932093216704743\n",
      "Cost at 7 test example is: 9.349240929828\n",
      "Cost at 8 test example is: 1.9009778988211679\n",
      "Cost at 9 test example is: 11.85005610542396\n"
     ]
    },
    {
     "data": {
      "image/png": "[encoded data removed]",
      "text/plain": [
       "<Figure size 432x288 with 1 Axes>"
      ]
     },
     "metadata": {
      "needs_background": "light"
     },
     "output_type": "display_data"
    }
   ],
   "source": [
    "def plotTest(x, y):\n",
    "    x = np.arange(1,len(x)+1)  \n",
    "    \n",
    "    plt.plot(x, y) \n",
    "\n",
    "    plt.xlabel('Test Examples')  \n",
    "    plt.ylabel('Cost') \n",
    "\n",
    "    plt.title('Test Error Graph') \n",
    "\n",
    "    plt.show()\n",
    "\n",
    "def testError(testX, testY, w):\n",
    "    lossList = []\n",
    "    y_hat = predict(testX, w)\n",
    "    for i in range(len(testX)):\n",
    "        L = y_hat[i] - testY[i]\n",
    "        \n",
    "        lossList.append(L)\n",
    "        print('Cost at {} test example is: {}'.format(i, lossList[-1]))\n",
    "    \n",
    "    plotTest(testX, lossList)\n",
    "\n",
    "testError(testX, testY, W)"
   ]
  },
  {
   "cell_type": "markdown",
   "id": "8d26a109",
   "metadata": {},
   "source": [
    "## Logistic Regression"
   ]
  },
  {
   "cell_type": "code",
   "execution_count": 23,
   "id": "c0113967",
   "metadata": {},
   "outputs": [
    {
     "name": "stdout",
     "output_type": "stream",
     "text": [
      "[[0.4 0.8 0.4 0.9 0.1 0.6]\n",
      " [0.3 0.7 0.4 0.9 0.2 0. ]\n",
      " [0.4 0.6 0.2 1.  0.6 0.7]] \n",
      " [[1.]\n",
      " [1.]\n",
      " [1.]]\n"
     ]
    }
   ],
   "source": [
    "trainX, trainY = readFile('dataForTrainingLogistic.txt')\n",
    "print(trainX[:3], '\\n', trainY[:3])"
   ]
  },
  {
   "cell_type": "code",
   "execution_count": 24,
   "id": "20857dc4",
   "metadata": {},
   "outputs": [
    {
     "data": {
      "text/plain": [
       "array([[1. , 0.4, 0.8, 0.4, 0.9, 0.1, 0.6],\n",
       "       [1. , 0.3, 0.7, 0.4, 0.9, 0.2, 0. ],\n",
       "       [1. , 0.4, 0.6, 0.2, 1. , 0.6, 0.7]])"
      ]
     },
     "execution_count": 24,
     "metadata": {},
     "output_type": "execute_result"
    }
   ],
   "source": [
    "trainX = np.concatenate((np.ones(shape=(len(trainX),1)),trainX), axis = 1)\n",
    "trainX[:3]"
   ]
  },
  {
   "cell_type": "code",
   "execution_count": 25,
   "id": "de97dd32",
   "metadata": {},
   "outputs": [
    {
     "data": {
      "text/plain": [
       "((400, 7), (400, 1))"
      ]
     },
     "execution_count": 25,
     "metadata": {},
     "output_type": "execute_result"
    }
   ],
   "source": [
    "trainX.shape, trainY.shape"
   ]
  },
  {
   "cell_type": "code",
   "execution_count": 43,
   "id": "bb31a0d0",
   "metadata": {},
   "outputs": [
    {
     "data": {
      "text/plain": [
       "((100, 6), (100, 1))"
      ]
     },
     "execution_count": 43,
     "metadata": {},
     "output_type": "execute_result"
    }
   ],
   "source": [
    "testX, testY = readFile('dataForTestingLogistic.txt')\n",
    "testX.shape, testY.shape"
   ]
  },
  {
   "cell_type": "code",
   "execution_count": 27,
   "id": "d38bb111",
   "metadata": {},
   "outputs": [],
   "source": [
    "def sigmoid(Z):\n",
    "    return 1./(1. + np.exp(-Z))\n",
    "\n",
    "def cross_entropy_loss(y_pred, y_true):\n",
    "        return (-(y_true * np.log(y_pred))).sum()\n",
    "    \n",
    "#     return (-(y_true * np.log(y_pred))).sum()/float(len(y_true))\n",
    "    \n",
    "    \n",
    "def predict(X, W, mode = None):\n",
    "    X = np.concatenate((np.ones(shape=(len(X),1)),X), axis = 1)\n",
    "    Y_pred = np.dot(X,W)\n",
    "    Y_pred = sigmoid(Y_pred)\n",
    "    if mode == \"plot\":\n",
    "        return Y_pred\n",
    "    Y_pred = np.where(Y_pred > 0.5, 1, 0)\n",
    "    return Y_pred"
   ]
  },
  {
   "cell_type": "code",
   "execution_count": 61,
   "id": "777ee9f1",
   "metadata": {},
   "outputs": [],
   "source": [
    "def gradientDescent(X, Y, alpha, n_epoch, mode = None):\n",
    "    J = list()  \n",
    "\n",
    "    W = np.random.normal(0,0.1,X.shape[1])\n",
    "    if mode == 'BGD':\n",
    "        W = W.reshape((-1,1))\n",
    "        for epoch in range(n_epoch):\n",
    "            Z = np.dot(X,W) \n",
    "            Y_hat = sigmoid(Z)\n",
    "            L = Y_hat - Y \n",
    "            W = W - ((alpha/float(len(X))) * np.dot(np.transpose(X),L))\n",
    "\n",
    "            J.append(cross_entropy_loss(Y_hat, Y))\n",
    "            if(epoch%(n_epoch/10) == 0):\n",
    "                print('Cost at {} epoch is: {}'.format(epoch, J[-1]))\n",
    "    elif mode == 'SGD':\n",
    "        J = []\n",
    "        for epoch in range(n_epoch):\n",
    "            lossList = []\n",
    "            for row in range(len(X)):\n",
    "                X_i = X[row].reshape(1,-1)\n",
    "                Z = np.dot(X_i,W) # (1,7) x (7,)\n",
    "                Y_hat = sigmoid(Z) # (1,)\n",
    "                L = Y_hat - Y[row] # (1,) - (1,)\n",
    "                W = W - (alpha * (np.dot(np.transpose(X_i), L))) # (7,) - (7,) # transpose = (7,1) x (1,) \n",
    "                lossList.append(cross_entropy_loss(Y_hat, Y[row]))\n",
    "            if(epoch%(n_epoch/10) == 0):\n",
    "                print('Cost at {} epoch is: {}'.format(epoch, np.sum(lossList)))\n",
    "            J.append(np.sum(lossList))\n",
    "                \n",
    "    return W, J\n"
   ]
  },
  {
   "cell_type": "markdown",
   "id": "bda8a72c",
   "metadata": {},
   "source": [
    "#### Batch Gradient Descent"
   ]
  },
  {
   "cell_type": "code",
   "execution_count": 31,
   "id": "c94975dc",
   "metadata": {},
   "outputs": [
    {
     "name": "stdout",
     "output_type": "stream",
     "text": [
      "Cost at 0 epoch is: 145.17429624919183\n",
      "Cost at 150000 epoch is: 41.82213514533248\n",
      "Cost at 300000 epoch is: 25.006761666979507\n",
      "Cost at 450000 epoch is: 18.387440825615293\n",
      "Cost at 600000 epoch is: 14.799175161405298\n",
      "Cost at 750000 epoch is: 12.523743138474353\n",
      "Cost at 900000 epoch is: 10.939808015303623\n",
      "Cost at 1050000 epoch is: 9.766922056039514\n",
      "Cost at 1200000 epoch is: 8.85937587341718\n",
      "Cost at 1350000 epoch is: 8.13368310684781\n",
      "7.538432093227147\n"
     ]
    }
   ],
   "source": [
    "n_epoch = 1500000\n",
    "alpha = 0.00015\n",
    "\n",
    "W, J = gradientDescent(trainX ,trainY, alpha, n_epoch, mode = \"BGD\")\n",
    "print(J[-1])"
   ]
  },
  {
   "cell_type": "code",
   "execution_count": 32,
   "id": "ae801145",
   "metadata": {},
   "outputs": [
    {
     "data": {
      "image/png": "[encoded data removed]",
      "text/plain": [
       "<Figure size 432x288 with 1 Axes>"
      ]
     },
     "metadata": {
      "needs_background": "light"
     },
     "output_type": "display_data"
    }
   ],
   "source": [
    "import matplotlib.pyplot as plt \n",
    "  \n",
    "x = np.arange(1,n_epoch+1) \n",
    "y = J \n",
    " \n",
    "plt.plot(x, y) \n",
    "\n",
    "plt.xlabel('# of Epochs')  \n",
    "plt.ylabel('Cost') \n",
    "  \n",
    "plt.title('Cost Function Graph') \n",
    "\n",
    "plt.show()"
   ]
  },
  {
   "cell_type": "code",
   "execution_count": 36,
   "id": "3c4e27ec",
   "metadata": {},
   "outputs": [
    {
     "data": {
      "text/plain": [
       "array([[0],\n",
       "       [0],\n",
       "       [0],\n",
       "       [1],\n",
       "       [0],\n",
       "       [1],\n",
       "       [1],\n",
       "       [0],\n",
       "       [1],\n",
       "       [0]])"
      ]
     },
     "execution_count": 36,
     "metadata": {},
     "output_type": "execute_result"
    }
   ],
   "source": [
    "Ypred = predict(testX, W)\n",
    "Ypred[:10]"
   ]
  },
  {
   "cell_type": "code",
   "execution_count": 45,
   "id": "7122c0b5",
   "metadata": {},
   "outputs": [
    {
     "data": {
      "text/plain": [
       "100"
      ]
     },
     "execution_count": 45,
     "metadata": {},
     "output_type": "execute_result"
    }
   ],
   "source": [
    "# Alternate\n",
    "# sum = 0\n",
    "# for i in range(len(Ypred)):\n",
    "#     if Ypred[i][0] == testY[i][0]:\n",
    "#         sum += 1\n",
    "# sum/len(Ypred)\n",
    "correct = 0\n",
    "def accuracy(Y_hat, Y):\n",
    "    correct = np.where(Y_hat == Y, 1, 0)\n",
    "    return np.sum(correct)\n",
    "\n",
    "accuracy(Ypred, testY)"
   ]
  },
  {
   "cell_type": "code",
   "execution_count": 47,
   "id": "6a20eee9",
   "metadata": {
    "scrolled": false
   },
   "outputs": [
    {
     "name": "stdout",
     "output_type": "stream",
     "text": [
      "Cost at 0 test example is: [0.02470471]\n",
      "Cost at 1 test example is: [0.00175435]\n",
      "Cost at 2 test example is: [0.00536512]\n",
      "Cost at 3 test example is: [-0.0019454]\n",
      "Cost at 4 test example is: [0.06355726]\n",
      "Cost at 5 test example is: [-0.00270907]\n",
      "Cost at 6 test example is: [-0.00781583]\n",
      "Cost at 7 test example is: [0.13154458]\n",
      "Cost at 8 test example is: [-0.01174484]\n",
      "Cost at 9 test example is: [0.00643423]\n",
      "Cost at 10 test example is: [0.02609344]\n",
      "Cost at 11 test example is: [-0.0080633]\n",
      "Cost at 12 test example is: [0.00588335]\n",
      "Cost at 13 test example is: [0.10614702]\n",
      "Cost at 14 test example is: [-0.00944673]\n",
      "Cost at 15 test example is: [0.00739736]\n",
      "Cost at 16 test example is: [0.01430553]\n",
      "Cost at 17 test example is: [-0.07788614]\n",
      "Cost at 18 test example is: [0.03406296]\n",
      "Cost at 19 test example is: [-0.05153333]\n",
      "Cost at 20 test example is: [0.00484116]\n",
      "Cost at 21 test example is: [0.06813309]\n",
      "Cost at 22 test example is: [0.0184152]\n",
      "Cost at 23 test example is: [-0.02843587]\n",
      "Cost at 24 test example is: [-0.00748923]\n",
      "Cost at 25 test example is: [-0.00223335]\n",
      "Cost at 26 test example is: [0.02614605]\n",
      "Cost at 27 test example is: [0.0022325]\n",
      "Cost at 28 test example is: [-0.02618364]\n",
      "Cost at 29 test example is: [0.07372242]\n",
      "Cost at 30 test example is: [-0.07479166]\n",
      "Cost at 31 test example is: [-0.05919303]\n",
      "Cost at 32 test example is: [0.03941015]\n",
      "Cost at 33 test example is: [0.00265804]\n",
      "Cost at 34 test example is: [-0.06947569]\n",
      "Cost at 35 test example is: [0.00556633]\n",
      "Cost at 36 test example is: [-0.03041191]\n",
      "Cost at 37 test example is: [0.02189154]\n",
      "Cost at 38 test example is: [0.01204955]\n",
      "Cost at 39 test example is: [0.00343869]\n",
      "Cost at 40 test example is: [-0.03056041]\n",
      "Cost at 41 test example is: [-0.07240748]\n",
      "Cost at 42 test example is: [0.00751758]\n",
      "Cost at 43 test example is: [-0.01215917]\n",
      "Cost at 44 test example is: [0.00182877]\n",
      "Cost at 45 test example is: [0.02110988]\n",
      "Cost at 46 test example is: [-0.00460896]\n",
      "Cost at 47 test example is: [0.0117834]\n",
      "Cost at 48 test example is: [-0.0295571]\n",
      "Cost at 49 test example is: [-0.06801973]\n",
      "Cost at 50 test example is: [-0.0786663]\n",
      "Cost at 51 test example is: [-0.03571699]\n",
      "Cost at 52 test example is: [0.00635053]\n",
      "Cost at 53 test example is: [-0.00273949]\n",
      "Cost at 54 test example is: [0.00927736]\n",
      "Cost at 55 test example is: [0.0240533]\n",
      "Cost at 56 test example is: [0.02690647]\n",
      "Cost at 57 test example is: [0.00525712]\n",
      "Cost at 58 test example is: [-0.01921665]\n",
      "Cost at 59 test example is: [-0.04550053]\n",
      "Cost at 60 test example is: [-0.00989042]\n",
      "Cost at 61 test example is: [-0.00402118]\n",
      "Cost at 62 test example is: [-0.00660643]\n",
      "Cost at 63 test example is: [0.24774524]\n",
      "Cost at 64 test example is: [-0.24780989]\n",
      "Cost at 65 test example is: [-0.00900041]\n",
      "Cost at 66 test example is: [-0.00250753]\n",
      "Cost at 67 test example is: [-0.0113192]\n",
      "Cost at 68 test example is: [0.00939486]\n",
      "Cost at 69 test example is: [-0.0203916]\n",
      "Cost at 70 test example is: [-0.24677375]\n",
      "Cost at 71 test example is: [-0.00950132]\n",
      "Cost at 72 test example is: [0.0183246]\n",
      "Cost at 73 test example is: [-0.11670888]\n",
      "Cost at 74 test example is: [-0.11130165]\n",
      "Cost at 75 test example is: [-0.01602844]\n",
      "Cost at 76 test example is: [-0.0122242]\n",
      "Cost at 77 test example is: [-0.14569719]\n",
      "Cost at 78 test example is: [0.00442004]\n",
      "Cost at 79 test example is: [-0.04462234]\n",
      "Cost at 80 test example is: [-0.00465814]\n",
      "Cost at 81 test example is: [0.08139735]\n",
      "Cost at 82 test example is: [0.00905728]\n",
      "Cost at 83 test example is: [-0.01260201]\n",
      "Cost at 84 test example is: [0.00431159]\n",
      "Cost at 85 test example is: [0.00886239]\n",
      "Cost at 86 test example is: [0.05081214]\n",
      "Cost at 87 test example is: [-0.06059741]\n",
      "Cost at 88 test example is: [0.01645472]\n",
      "Cost at 89 test example is: [-0.04686091]\n",
      "Cost at 90 test example is: [0.00178459]\n",
      "Cost at 91 test example is: [-0.00093563]\n",
      "Cost at 92 test example is: [0.0223964]\n",
      "Cost at 93 test example is: [-0.06516734]\n",
      "Cost at 94 test example is: [-0.18937113]\n",
      "Cost at 95 test example is: [0.16185161]\n",
      "Cost at 96 test example is: [0.01573626]\n",
      "Cost at 97 test example is: [0.0352218]\n",
      "Cost at 98 test example is: [-0.04607259]\n",
      "Cost at 99 test example is: [-0.00098176]\n"
     ]
    },
    {
     "data": {
      "image/png": "[encoded data removed]",
      "text/plain": [
       "<Figure size 432x288 with 1 Axes>"
      ]
     },
     "metadata": {
      "needs_background": "light"
     },
     "output_type": "display_data"
    }
   ],
   "source": [
    "def plotTest(x, y):\n",
    "    x = np.arange(1,len(x)+1)  \n",
    "    \n",
    "    plt.plot(x, y) \n",
    "\n",
    "    plt.xlabel('Test Examples')  \n",
    "    plt.ylabel('Cost') \n",
    "\n",
    "    plt.title('Test Error Graph') \n",
    "\n",
    "    plt.show()\n",
    "\n",
    "def testError(testX, testY, w):\n",
    "    lossList = []\n",
    "    y_hat = predict(testX, w, 'plot')\n",
    "    for i in range(len(testX)):\n",
    "        L = y_hat[i] - testY[i]\n",
    "        \n",
    "        lossList.append(L)\n",
    "        print('Cost at {} test example is: {}'.format(i, lossList[-1]))\n",
    "    \n",
    "    plotTest(testX, lossList)\n",
    "\n",
    "testError(testX, testY, W)"
   ]
  },
  {
   "cell_type": "markdown",
   "id": "df5fb23d",
   "metadata": {},
   "source": [
    "#### Stochastic Gradient Descent"
   ]
  },
  {
   "cell_type": "code",
   "execution_count": 62,
   "id": "37a62f3b",
   "metadata": {},
   "outputs": [
    {
     "name": "stdout",
     "output_type": "stream",
     "text": [
      "Cost at 0 epoch is: 104.9599807025021\n",
      "Cost at 1500 epoch is: 14.704218788580963\n",
      "Cost at 3000 epoch is: 8.831534931825242\n",
      "Cost at 4500 epoch is: 6.601351881267819\n",
      "Cost at 6000 epoch is: 5.388352785490925\n",
      "Cost at 7500 epoch is: 4.6120899834090965\n",
      "Cost at 9000 epoch is: 4.066447373979538\n",
      "Cost at 10500 epoch is: 3.6586813445872703\n",
      "Cost at 12000 epoch is: 3.340507031824404\n",
      "Cost at 13500 epoch is: 3.0841461756651802\n",
      "2.872537386465667\n"
     ]
    }
   ],
   "source": [
    "n_epoch = 15000\n",
    "alpha = 0.00015\n",
    "\n",
    "W, J = gradientDescent(trainX ,trainY, alpha, n_epoch, mode = \"SGD\")\n",
    "print(J[-1])"
   ]
  },
  {
   "cell_type": "code",
   "execution_count": 63,
   "id": "a5f8891b",
   "metadata": {},
   "outputs": [
    {
     "data": {
      "image/png": "[encoded data removed]",
      "text/plain": [
       "<Figure size 432x288 with 1 Axes>"
      ]
     },
     "metadata": {
      "needs_background": "light"
     },
     "output_type": "display_data"
    }
   ],
   "source": [
    "import matplotlib.pyplot as plt \n",
    "  \n",
    "x = np.arange(1,n_epoch+1) \n",
    "y = J \n",
    " \n",
    "plt.plot(x, y) \n",
    "\n",
    "plt.xlabel('# of Epochs')  \n",
    "plt.ylabel('Cost') \n",
    "  \n",
    "plt.title('Cost Function Graph') \n",
    "\n",
    "plt.show()"
   ]
  },
  {
   "cell_type": "code",
   "execution_count": 67,
   "id": "8a00ca19",
   "metadata": {},
   "outputs": [
    {
     "data": {
      "text/plain": [
       "array([[0],\n",
       "       [0],\n",
       "       [0],\n",
       "       [1],\n",
       "       [0],\n",
       "       [1],\n",
       "       [1],\n",
       "       [0],\n",
       "       [1],\n",
       "       [0]])"
      ]
     },
     "execution_count": 67,
     "metadata": {},
     "output_type": "execute_result"
    }
   ],
   "source": [
    "Ypred = predict(testX, W)\n",
    "Ypred = Ypred.reshape(-1,1)\n",
    "Ypred[:10]"
   ]
  },
  {
   "cell_type": "code",
   "execution_count": 68,
   "id": "56af458a",
   "metadata": {},
   "outputs": [
    {
     "data": {
      "text/plain": [
       "100"
      ]
     },
     "execution_count": 68,
     "metadata": {},
     "output_type": "execute_result"
    }
   ],
   "source": [
    "correct = 0\n",
    "def accuracy(Y_hat, Y):\n",
    "    correct = np.where(Y_hat == Y, 1, 0)\n",
    "    return np.sum(correct)\n",
    "\n",
    "accuracy(Ypred, testY)"
   ]
  },
  {
   "cell_type": "code",
   "execution_count": 69,
   "id": "7faeab77",
   "metadata": {
    "scrolled": false
   },
   "outputs": [
    {
     "name": "stdout",
     "output_type": "stream",
     "text": [
      "Cost at 0 test example is: [0.00527844]\n",
      "Cost at 1 test example is: [0.00011032]\n",
      "Cost at 2 test example is: [0.00058042]\n",
      "Cost at 3 test example is: [-0.00010374]\n",
      "Cost at 4 test example is: [0.02360233]\n",
      "Cost at 5 test example is: [-0.00015331]\n",
      "Cost at 6 test example is: [-0.00072679]\n",
      "Cost at 7 test example is: [0.06437526]\n",
      "Cost at 8 test example is: [-0.0013524]\n",
      "Cost at 9 test example is: [0.00074689]\n",
      "Cost at 10 test example is: [0.00571652]\n",
      "Cost at 11 test example is: [-0.00082784]\n",
      "Cost at 12 test example is: [0.00063428]\n",
      "Cost at 13 test example is: [0.04539959]\n",
      "Cost at 14 test example is: [-0.00097396]\n",
      "Cost at 15 test example is: [0.00086841]\n",
      "Cost at 16 test example is: [0.0023911]\n",
      "Cost at 17 test example is: [-0.02314353]\n",
      "Cost at 18 test example is: [0.00819965]\n",
      "Cost at 19 test example is: [-0.01246045]\n",
      "Cost at 20 test example is: [0.00050516]\n",
      "Cost at 21 test example is: [0.02264076]\n",
      "Cost at 22 test example is: [0.00324638]\n",
      "Cost at 23 test example is: [-0.00574179]\n",
      "Cost at 24 test example is: [-0.0007127]\n",
      "Cost at 25 test example is: [-0.00012385]\n",
      "Cost at 26 test example is: [0.00621344]\n",
      "Cost at 27 test example is: [0.00015493]\n",
      "Cost at 28 test example is: [-0.00475432]\n",
      "Cost at 29 test example is: [0.02677124]\n",
      "Cost at 30 test example is: [-0.02251674]\n",
      "Cost at 31 test example is: [-0.01577808]\n",
      "Cost at 32 test example is: [0.0107809]\n",
      "Cost at 33 test example is: [0.00020532]\n",
      "Cost at 34 test example is: [-0.02051796]\n",
      "Cost at 35 test example is: [0.00060731]\n",
      "Cost at 36 test example is: [-0.00595873]\n",
      "Cost at 37 test example is: [0.00448146]\n",
      "Cost at 38 test example is: [0.00180761]\n",
      "Cost at 39 test example is: [0.00029094]\n",
      "Cost at 40 test example is: [-0.0057917]\n",
      "Cost at 41 test example is: [-0.02445787]\n",
      "Cost at 42 test example is: [0.00093485]\n",
      "Cost at 43 test example is: [-0.00133857]\n",
      "Cost at 44 test example is: [0.00011181]\n",
      "Cost at 45 test example is: [0.00416497]\n",
      "Cost at 46 test example is: [-0.00034559]\n",
      "Cost at 47 test example is: [0.00170105]\n",
      "Cost at 48 test example is: [-0.00573491]\n",
      "Cost at 49 test example is: [-0.01880137]\n",
      "Cost at 50 test example is: [-0.02348218]\n",
      "Cost at 51 test example is: [-0.0071849]\n",
      "Cost at 52 test example is: [0.00076723]\n",
      "Cost at 53 test example is: [-0.00017324]\n",
      "Cost at 54 test example is: [0.00123022]\n",
      "Cost at 55 test example is: [0.00524737]\n",
      "Cost at 56 test example is: [0.00569778]\n",
      "Cost at 57 test example is: [0.00052257]\n",
      "Cost at 58 test example is: [-0.00252883]\n",
      "Cost at 59 test example is: [-0.00995649]\n",
      "Cost at 60 test example is: [-0.00105939]\n",
      "Cost at 61 test example is: [-0.00030489]\n",
      "Cost at 62 test example is: [-0.00061435]\n",
      "Cost at 63 test example is: [0.18442529]\n",
      "Cost at 64 test example is: [-0.15411449]\n",
      "Cost at 65 test example is: [-0.00097489]\n",
      "Cost at 66 test example is: [-0.00016027]\n",
      "Cost at 67 test example is: [-0.00128589]\n",
      "Cost at 68 test example is: [0.00129595]\n",
      "Cost at 69 test example is: [-0.00333167]\n",
      "Cost at 70 test example is: [-0.14309031]\n",
      "Cost at 71 test example is: [-0.00099916]\n",
      "Cost at 72 test example is: [0.00334025]\n",
      "Cost at 73 test example is: [-0.03975778]\n",
      "Cost at 74 test example is: [-0.04278582]\n",
      "Cost at 75 test example is: [-0.00229982]\n",
      "Cost at 76 test example is: [-0.00140784]\n",
      "Cost at 77 test example is: [-0.06816907]\n",
      "Cost at 78 test example is: [0.00041878]\n",
      "Cost at 79 test example is: [-0.01037168]\n",
      "Cost at 80 test example is: [-0.00037167]\n",
      "Cost at 81 test example is: [0.03152243]\n",
      "Cost at 82 test example is: [0.0011834]\n",
      "Cost at 83 test example is: [-0.00170365]\n",
      "Cost at 84 test example is: [0.00042685]\n",
      "Cost at 85 test example is: [0.0011428]\n",
      "Cost at 86 test example is: [0.01574386]\n",
      "Cost at 87 test example is: [-0.01636308]\n",
      "Cost at 88 test example is: [0.00287759]\n",
      "Cost at 89 test example is: [-0.01188212]\n",
      "Cost at 90 test example is: [0.00011667]\n",
      "Cost at 91 test example is: [-3.47923169e-05]\n",
      "Cost at 92 test example is: [0.00462987]\n",
      "Cost at 93 test example is: [-0.01900425]\n",
      "Cost at 94 test example is: [-0.09168302]\n",
      "Cost at 95 test example is: [0.09525222]\n",
      "Cost at 96 test example is: [0.00252242]\n",
      "Cost at 97 test example is: [0.00893888]\n",
      "Cost at 98 test example is: [-0.01041063]\n",
      "Cost at 99 test example is: [-3.45484177e-05]\n"
     ]
    },
    {
     "data": {
      "image/png": "[encoded data removed]",
      "text/plain": [
       "<Figure size 432x288 with 1 Axes>"
      ]
     },
     "metadata": {
      "needs_background": "light"
     },
     "output_type": "display_data"
    }
   ],
   "source": [
    "def plotTest(x, y):\n",
    "    x = np.arange(1,len(x)+1)  \n",
    "    \n",
    "    plt.plot(x, y) \n",
    "\n",
    "    plt.xlabel('Test Examples')  \n",
    "    plt.ylabel('Cost') \n",
    "\n",
    "    plt.title('Test Error Graph') \n",
    "\n",
    "    plt.show()\n",
    "\n",
    "def testError(testX, testY, w):\n",
    "    lossList = []\n",
    "    y_hat = predict(testX, w, 'plot')\n",
    "    for i in range(len(testX)):\n",
    "        L = y_hat[i] - testY[i]\n",
    "        \n",
    "        lossList.append(L)\n",
    "        print('Cost at {} test example is: {}'.format(i, lossList[-1]))\n",
    "    \n",
    "    plotTest(testX, lossList)\n",
    "\n",
    "testError(testX, testY, W)"
   ]
  },
  {
   "cell_type": "markdown",
   "id": "9adf6120",
   "metadata": {},
   "source": [
    "### K Splits"
   ]
  },
  {
   "cell_type": "code",
   "execution_count": 130,
   "id": "7219ec65",
   "metadata": {},
   "outputs": [],
   "source": [
    "trainX, trainY = readFile('dataForTrainingLogistic.txt')\n",
    "testX, testY = readFile('dataForTestingLogistic.txt')"
   ]
  },
  {
   "cell_type": "code",
   "execution_count": 131,
   "id": "5759496f",
   "metadata": {},
   "outputs": [],
   "source": [
    "def sigmoid(Z):\n",
    "    return 1./(1. + np.exp(-Z))\n",
    "\n",
    "def cross_entropy_loss(y_pred, y_true):\n",
    "        return (-(y_true * np.log(y_pred))).sum()\n",
    "#     return (-(y_true * np.log(y_pred))).sum()/float(len(y_true))\n",
    "\n",
    "def accuracy(Y_hat, Y):\n",
    "    correct = np.where(Y_hat == Y, 1, 0)\n",
    "    return (np.sum(correct)/len(Y_hat))*100\n",
    "    \n",
    "def predict(X, W, mode = None):\n",
    "    Y_pred = np.dot(X,W)\n",
    "    Y_pred = sigmoid(Y_pred)\n",
    "    if mode == \"plot\":\n",
    "        return Y_pred\n",
    "    Y_pred = np.where(Y_pred > 0.5, 1, 0)\n",
    "    return Y_pred"
   ]
  },
  {
   "cell_type": "code",
   "execution_count": 132,
   "id": "84750eda",
   "metadata": {},
   "outputs": [],
   "source": [
    "def gradientDescent(X, Y, alpha, n_epoch, mode = None):\n",
    "    J = list()  \n",
    "\n",
    "    W = np.random.normal(0,0.1,X.shape[1])\n",
    "    if mode == 'BGD':\n",
    "        W = W.reshape((-1,1))\n",
    "        for epoch in range(n_epoch):\n",
    "            Z = np.dot(X,W) \n",
    "            Y_hat = sigmoid(Z)\n",
    "            L = Y_hat - Y \n",
    "            W = W - ((alpha/float(len(X))) * np.dot(np.transpose(X),L))\n",
    "\n",
    "            J.append(cross_entropy_loss(Y_hat, Y))\n",
    "#             if(epoch%(n_epoch/10) == 0):\n",
    "#                 print('Cost at {} epoch is: {}'.format(epoch, J[-1]))\n",
    "    elif mode == 'SGD':\n",
    "        J = []\n",
    "        for epoch in range(n_epoch):\n",
    "            lossList = []\n",
    "            for row in range(len(X)):\n",
    "                X_i = X[row].reshape(1,-1)\n",
    "                Z = np.dot(X_i,W) # (1,7) x (7,)\n",
    "                Y_hat = sigmoid(Z) # (1,)\n",
    "                L = Y_hat - Y[row] # (1,) - (1,)\n",
    "                W = W - (alpha * (np.dot(np.transpose(X_i), L))) # (7,) - (7,) # transpose = (7,1) x (1,) \n",
    "                lossList.append(cross_entropy_loss(Y_hat, Y[row]))\n",
    "#             if(epoch%(n_epoch/10) == 0):\n",
    "#                 print('Cost at {} epoch is: {}'.format(epoch, np.sum(lossList)))\n",
    "            J.append(np.sum(lossList))\n",
    "                \n",
    "    return W, J"
   ]
  },
  {
   "cell_type": "code",
   "execution_count": 133,
   "id": "001a46bf",
   "metadata": {},
   "outputs": [
    {
     "data": {
      "text/plain": [
       "((400, 7), (100, 7))"
      ]
     },
     "execution_count": 133,
     "metadata": {},
     "output_type": "execute_result"
    }
   ],
   "source": [
    "trainX = np.concatenate((np.ones(shape=(len(trainX),1)),trainX), axis = 1)\n",
    "testX = np.concatenate((np.ones(shape=(len(testX),1)),testX), axis = 1)\n",
    "trainX.shape, testX.shape"
   ]
  },
  {
   "cell_type": "code",
   "execution_count": 134,
   "id": "fbceacd1",
   "metadata": {},
   "outputs": [
    {
     "data": {
      "text/plain": [
       "((400, 1), (100, 1))"
      ]
     },
     "execution_count": 134,
     "metadata": {},
     "output_type": "execute_result"
    }
   ],
   "source": [
    "trainY.shape, testY.shape"
   ]
  },
  {
   "cell_type": "code",
   "execution_count": 135,
   "id": "9430d364",
   "metadata": {},
   "outputs": [
    {
     "data": {
      "text/plain": [
       "((500, 7), (500, 1))"
      ]
     },
     "execution_count": 135,
     "metadata": {},
     "output_type": "execute_result"
    }
   ],
   "source": [
    "combinedX = np.concatenate((trainX[:,:], testX[:,:]), axis = 0)\n",
    "combinedY = np.concatenate((trainY[:,:], testY[:,:]), axis = 0)\n",
    "combinedX.shape, combinedY.shape"
   ]
  },
  {
   "cell_type": "code",
   "execution_count": 136,
   "id": "b00b17d3",
   "metadata": {},
   "outputs": [
    {
     "data": {
      "text/plain": [
       "[40, 80, 120, 160, 200, 240, 280, 320, 360, 400]"
      ]
     },
     "execution_count": 136,
     "metadata": {},
     "output_type": "execute_result"
    }
   ],
   "source": [
    "kSplits = [int((k/10)*len(trainX)) for k in range(1,11)]\n",
    "kSplits"
   ]
  },
  {
   "cell_type": "code",
   "execution_count": 139,
   "id": "f3db81d4",
   "metadata": {},
   "outputs": [
    {
     "name": "stdout",
     "output_type": "stream",
     "text": [
      "Loss at k = 40 is: 10.232265479460239\n",
      "Accuracy at k = 40 is: 93.4%\n",
      "--------------------\n",
      "Loss at k = 80 is: 22.099429820220873\n",
      "Accuracy at k = 80 is: 100.0%\n",
      "--------------------\n",
      "Loss at k = 120 is: 37.18319612405348\n",
      "Accuracy at k = 120 is: 87.4%\n",
      "--------------------\n",
      "Loss at k = 160 is: 45.847321122643976\n",
      "Accuracy at k = 160 is: 95.6%\n",
      "--------------------\n",
      "Loss at k = 200 is: 57.12958667578084\n",
      "Accuracy at k = 200 is: 99.4%\n",
      "--------------------\n",
      "Loss at k = 240 is: 71.85951498085507\n",
      "Accuracy at k = 240 is: 98.0%\n",
      "--------------------\n",
      "Loss at k = 280 is: 75.51352059660866\n",
      "Accuracy at k = 280 is: 100.0%\n",
      "--------------------\n",
      "Loss at k = 320 is: 97.0002222828122\n",
      "Accuracy at k = 320 is: 99.8%\n",
      "--------------------\n",
      "Loss at k = 360 is: 101.94265182147652\n",
      "Accuracy at k = 360 is: 100.0%\n",
      "--------------------\n",
      "Loss at k = 400 is: 113.04853048935954\n",
      "Accuracy at k = 400 is: 100.0%\n",
      "--------------------\n"
     ]
    }
   ],
   "source": [
    "n_epoch = 15000\n",
    "alpha = 0.00015\n",
    "\n",
    "kLoss = []\n",
    "for k in kSplits:\n",
    "\n",
    "    W, J = gradientDescent(trainX[:k] ,trainY[:k], alpha, n_epoch, mode = \"BGD\")\n",
    "    kLoss.append(J[-1])\n",
    "    \n",
    "    \n",
    "    Ypred = predict(combinedX, W)\n",
    "    Ypred = Ypred.reshape(-1,1)\n",
    "    \n",
    "    acc = accuracy(Ypred, combinedY)\n",
    "    print('Loss at k = {} is: {}'.format(k, kLoss[-1]))\n",
    "    print('Accuracy at k = {} is: {}%'.format(k, acc))\n",
    "    print('-'*20)"
   ]
  },
  {
   "cell_type": "code",
   "execution_count": 140,
   "id": "cdc90e3f",
   "metadata": {},
   "outputs": [
    {
     "data": {
      "image/png": "[encoded data removed]",
      "text/plain": [
       "<Figure size 432x288 with 1 Axes>"
      ]
     },
     "metadata": {
      "needs_background": "light"
     },
     "output_type": "display_data"
    }
   ],
   "source": [
    "plt.plot(kSplits, kLoss) \n",
    "\n",
    "plt.xlabel('K Training Examples')  \n",
    "plt.ylabel('Loss') \n",
    "\n",
    "plt.title('Cost Effect on K Size Training Set') \n",
    "\n",
    "plt.show()"
   ]
  },
  {
   "cell_type": "code",
   "execution_count": null,
   "id": "84379481",
   "metadata": {},
   "outputs": [],
   "source": []
  },
  {
   "cell_type": "code",
   "execution_count": null,
   "id": "f61325cf",
   "metadata": {},
   "outputs": [],
   "source": []
  },
  {
   "cell_type": "code",
   "execution_count": null,
   "id": "7daf7248",
   "metadata": {},
   "outputs": [],
   "source": []
  }
 ],
 "metadata": {
  "kernelspec": {
   "display_name": "Python 3 (ipykernel)",
   "language": "python",
   "name": "python3"
  },
  "language_info": {
   "codemirror_mode": {
    "name": "ipython",
    "version": 3
   },
   "file_extension": ".py",
   "mimetype": "text/x-python",
   "name": "python",
   "nbconvert_exporter": "python",
   "pygments_lexer": "ipython3",
   "version": "3.9.6"
  }
 },
 "nbformat": 4,
 "nbformat_minor": 5
}
