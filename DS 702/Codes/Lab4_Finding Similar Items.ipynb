{
 "cells": [
  {
   "cell_type": "markdown",
   "metadata": {
    "id": "VvLU66p88hbS"
   },
   "source": [
    "# Finding Similar Items. LSH. "
   ]
  },
  {
   "cell_type": "markdown",
   "metadata": {
    "id": "2ZmoFSWYFGlU"
   },
   "source": [
    "This laboratory work is about python implementation of locality sensitive hashing. \n",
    "\n",
    "We use 4 articles from US CNN, and a 5th that is partial concatenation of 3 of those, to artificially produce similarity scores. \n",
    "\n",
    "Content of the lab material as follows:\n",
    "1. Shingle function \n",
    "2. Jaccard similarity between all pairs \n",
    "3. MinHash class \n",
    "  - key-value pairs for the shingles \n",
    "  - applying 'universal hashing' to perform minhashing on a shingle set \n",
    "4. Evaluating MinHashing effectiveness by computing scores of all pairs \n",
    "5. LSH class to find candidate pairs, i.e. use a banded signature matrix to find all pairs whose similarity is likely above a threshold \n",
    "6. Make this efficient, by using hash table for band, column ids, allowing O(n) comparison"
   ]
  },
  {
   "cell_type": "code",
   "execution_count": null,
   "metadata": {
    "colab": {
     "base_uri": "https://localhost:8080/"
    },
    "id": "4WNQYCfRJXoz",
    "outputId": "dc2250e1-6e23-4cfb-98c5-9cdacb022e1b"
   },
   "outputs": [
    {
     "name": "stdout",
     "output_type": "stream",
     "text": [
      "Collecting pyspark\n",
      "  Downloading pyspark-3.2.0.tar.gz (281.3 MB)\n",
      "\u001b[K     |████████████████████████████████| 281.3 MB 39 kB/s \n",
      "\u001b[?25hCollecting py4j==0.10.9.2\n",
      "  Downloading py4j-0.10.9.2-py2.py3-none-any.whl (198 kB)\n",
      "\u001b[K     |████████████████████████████████| 198 kB 52.9 MB/s \n",
      "\u001b[?25hBuilding wheels for collected packages: pyspark\n",
      "  Building wheel for pyspark (setup.py) ... \u001b[?25l\u001b[?25hdone\n",
      "  Created wheel for pyspark: filename=pyspark-3.2.0-py2.py3-none-any.whl size=281805911 sha256=956faf77cbedc615ffa696760a34a67c0ab0f25ccb095281036c8f398bd5f576\n",
      "  Stored in directory: /root/.cache/pip/wheels/0b/de/d2/9be5d59d7331c6c2a7c1b6d1a4f463ce107332b1ecd4e80718\n",
      "Successfully built pyspark\n",
      "Installing collected packages: py4j, pyspark\n",
      "Successfully installed py4j-0.10.9.2 pyspark-3.2.0\n"
     ]
    }
   ],
   "source": [
    "!pip install pyspark"
   ]
  },
  {
   "cell_type": "code",
   "execution_count": null,
   "metadata": {
    "id": "I8nYT--27Br3"
   },
   "outputs": [],
   "source": [
    "import os\n",
    "import time\n",
    "import itertools\n",
    "import collections\n",
    "import numpy as np\n",
    "import matplotlib.pyplot as plt\n",
    "\n",
    "from pyspark.sql import SparkSession"
   ]
  },
  {
   "cell_type": "markdown",
   "metadata": {
    "id": "gBgff5MXJqFF"
   },
   "source": [
    "## Document Similarity"
   ]
  },
  {
   "cell_type": "markdown",
   "metadata": {
    "id": "wZ4p9IVYJ0WD"
   },
   "source": [
    "### Shingling"
   ]
  },
  {
   "cell_type": "code",
   "execution_count": null,
   "metadata": {
    "colab": {
     "base_uri": "https://localhost:8080/"
    },
    "id": "6Nra_F_zJz7w",
    "outputId": "97bb0745-6a34-44e5-d2c8-833d4db54f6c"
   },
   "outputs": [
    {
     "name": "stdout",
     "output_type": "stream",
     "text": [
      "Average char-length: 3651.6\n",
      "Min char-length: 2412\n",
      "Max char-length: 5873\n"
     ]
    }
   ],
   "source": [
    "HOME = os.getcwd()\n",
    "TARGET = os.path.join(HOME, 'docs/')\n",
    "\n",
    "documents = []\n",
    "for article in os.listdir(TARGET):\n",
    "    if article == 'stopwords':\n",
    "        continue\n",
    "    path = os.path.join(TARGET, article)\n",
    "    with open(path, 'r') as file:\n",
    "        documents.append(file.read())\n",
    "        \n",
    "stopwords = []\n",
    "with open(os.path.join(TARGET, 'stopwords'), 'r') as file:\n",
    "    for line in file:\n",
    "        stopwords.append(line.strip())\n",
    "        \n",
    "for i, doc in enumerate(documents):\n",
    "    doc = doc.strip().replace('\\n', ' ').lower()\n",
    "    for word in stopwords:\n",
    "        doc = doc.replace(' '+word+' ', ' ')\n",
    "    documents[i] = doc\n",
    "\n",
    "print(f\"Average char-length: {np.mean(np.array([len(x) for x in documents]))}\")\n",
    "print(f\"Min char-length: {min(len(x) for x in documents)}\")\n",
    "print(f\"Max char-length: {max(len(x) for x in documents)}\")"
   ]
  },
  {
   "cell_type": "code",
   "execution_count": null,
   "metadata": {
    "colab": {
     "base_uri": "https://localhost:8080/"
    },
    "id": "0SvA094QJpEh",
    "outputId": "864dc83e-c95d-4b4f-c3c1-0001bc50e2e2"
   },
   "outputs": [
    {
     "name": "stdout",
     "output_type": "stream",
     "text": [
      "5873 : ew quarantine hobbies unearthed new passions, bringing literal silver lining. year, backyard archaeologists united kingdom recorded discoveries 47,000 objects, british museum announced week. regular people found vast majority historical artifacts traversing countryside metal detectors, adding updating records museum's portable antiquities scheme. british museum said program also saw uptick people updating digital records antiquities country full lockdown march 22 may 13. database contains records 1.5 million objects discovered since 1998 general public rather professional archaeologists. \"it brilliant see scheme growing strength strength lockdown thanks garden discoveries digital reporting,\" said uk culture minister caroline dinenage, news release. list garden treasures dug year includes 13th century medieval seal, bearing latin inscription reading \"david, god's messenger, bishop st. andrews.\" major coin hoard, held 63 gold coins one silver coin featuring monarchs edward iv henry viii, likely buried 16th century. included coins bearing initials several henry viii's wives, including catherine aragon, anne boleyn jane seymour. nearly 500 years later covid-19 pandemic, residents rediscovered weeding garden. another amateur find pandemic ancient roman furniture fitting made copper alloy, clearly featuring face god oceanus. artifact, found old basing 50 miles southeast london, dates far back 1st century. new report pas shows 81,602 objects added scheme 2019, recent spate lockdown treasure hunting, items coming public ownership. local authority defines object treasure, takes find british museum valued. government pays fair market price discoverer. law intended allow national local museums ultimately acquire historic treasures overall public benefit. even pandemic portable antiquities scheme's liaison officers able reach finders obtain relics significance, michael lewis, heads program, said news release. mission continues \"ensure finds, important understanding britain's past, lost instead recorded posterity,\" said.  another person familiar matter, also confirmed demand vaccine authorized end friday, said president donald trump venting fda chief since vaccine rolled uk earlier week. two men call friday morning. white house official said comment private conversations chief \"regularly requests updates progress toward vaccine.\" hahn quickly disputed description conversation, first reported washington post, news likely raise additional questions extent trump administration political interests involved vaccine authorization process, could undermine public confidence effort.vaccine advisers fda voted thursday recommend agency grant emergency use authorization vaccine, it's expected authorized imminently.\"this untrue representation phone call chief staff. fda encouraged continue working expeditiously pfizer-biontech's (emergency use authorization) request,\" hahn said statement friday afternoon. \"fda committed issuing authorization quickly, noted statement morning.\" public health experts fearful along white house officials would put undue pressure authorization process and, turn, compromise public confidence vaccine, source close white house coronavirus task force told cnn. source said it's unclear meadows would make threat late process authorization vaccine expected moment. person added authorization could come end friday. dr. moncef slaoui, head us government's effort develop vaccine covid-19, told cnn's jake tapper \"the lead\" friday concerned reports' potential effect undermining confidence vaccine's safety. president-elect joe biden, remarks friday afternoon event announcing additional top administration picks, address news meadows demand hahn urged public faith vaccine expressed gratitude \"to scientists public experts evaluated safety efficiency, free political influence.\" \"i want make clear public, confidence -- political influence,\" biden said. \"these first-rate scientists taking time looking elements need looked at. scientific integrity led us point.\" investigators manhattan district attorney's office interviewed several employees president donald trump's lender insurer recent weeks part wide-ranging investigation trump organization, according multiple people familiar investigation. two employees deutsche bank, loaned $300 million trump organization, interviewed prosecutors, according sources familiar matter. questioning specific bank's dealing trump organization president, people said, one person adding beginning process. additional interviews expected near future, said. prosecutors also interviewed least one employee aon, insurance broker done work president's company, according one source familiar matter. spokeswoman aon confirmed company received subpoena said cooperating investigation. spokeswoman declined comment employee interviews. representatives deutsche bank district attorney's office, led cyrus vance, also declined comment. deutsche bank subpoenaed part investigation last year said cooperates authorized investigations. new york times first reported interviews deutsche bank aon employees. court filings district attorney's office suggested inquiry could involve tax fraud, insurance fraud schemes defraud lenders. also recently subpoenaed trump organization records relating fees paid consultants, including payment made company controlled president's daughter, ivanka trump, according people familiar matter. specifically, cohen alleged president inflated value assets times, including 2014 trump submitted documents deutsche bank part attempt bid buffalo bills football team. trump never loan. cohen pleaded guilty federal crimes, including campaign finance charges facilitating hush-money payments silence two woman's allegations affairs trump. trump denied affairs. cohen serving three year prison sentence released home confinement earlier year due coronavirus pandemic.\n",
      "3673 : in final days desperate, dishonest campaign upend last month's election, president donald trump tossed particularly audacious offensive challenge aimed somehow thinks change outcome.  \"let's see courage everybody country knows right,\" said. time running out, blatant hope intimidate bait state legislatures supreme court overturning vote people, legislative judicial fiat. trump's perverse definition \"courage\" \"right,\" course, amounts willingness bend truth prize continuation office american democracy. yet madness, witnessed many acts genuine courage. people parties bravely right.secretaries state election authorities contested states, republicans democrats, weathered death threats vows political retribution simply jobs counting, recounting certifying vote. shown enormous courage deserve gratitude respect. thousands everyday americans worked around clock -- midst pandemic sometimes din howling mobs background -- count recount votes. patriotic americans showed inspiring courage. so, too, governors loyally campaigned trump refused bow threats intimidation election. yes, simply law required democracy demands certifying vote states. officials acted knowing hothouse trump's republican party, duty could cost jobs primaries later. dozens judges -- appointed trump -- summarily dismissed ferocious, groundless assault election results. shown gratifying fidelity law. trump made clear start presidency believed every branch, every person government, beholden law oaths office.he told us election, rushing supreme court confirmation amy coney barrett, wanted nine justices rule election disputes. implication clear: justices. way. conservative supreme court would (so far, least) enlisted profane unconstitutional mission overturning election behalf. federal judges lifetime appointments, perhaps took less courage elected officials risked careers -- even lives -- stand rule law. justices deserve credit, too, firmly unanimously rejecting absurd lawsuits trump loyalists pushed way. courageous, too, handful elected republicans acknowledged results, congratulated president-elect joe biden urged peaceful, orderly transition power. seen acts courage, also seen cowardice. rudy giuliani trump legal team debased themselves, legal system democracy filing one frivolous lawsuit another, crying fraud tv -- courtroom, evidence required.and many republican officials, fearful getting sideways trump's base, dutifully echoed dishonest charges vote fraud. group republican state attorneys general lined support preposterous eleventh-hour filing attorney general texas, asking supreme court overturn results four states trump lost. suit filed without standing, supporting evidence colorable argument. nonetheless, rep. mike johnson louisiana circulated email among republican house colleagues urging sign amicus brief support outrageous folly. trump \"anxiously awaiting final list\" see signs amicus brief, johnson wrote, implying dire consequences anyone failed join. within 24 hours, 100 house republicans complied. supporters trump gone far argue republicans may stage battle house floor reject biden electors contested states, symbolic gesture would fail set chilling precedent.almost egregious many republican members house senate refused acknowledge biden's victory countenanced weeks delay transition. silence, given credence trump's blatant lies, gained traction among large majority republicans nationally. it's crazy, authoritarian stuff. occurring anywhere else, americans would condemn appalling attempt undermine democracy. history scorn cowards meekly complied trump's scheme tarnish overturn election -- honor many showed courage fidelity rule law time trial.\n",
      "2412 : ew quarantine hobbies unearthed new passions, bringing literal silver lining. year, backyard archaeologists united kingdom recorded discoveries 47,000 objects, british museum announced week. regular people found vast majority historical artifacts traversing countryside metal detectors, adding updating records museum's portable antiquities scheme. british museum said program also saw uptick people updating digital records antiquities country full lockdown march 22 may 13. database contains records 1.5 million objects discovered since 1998 general public rather professional archaeologists. \"it brilliant see scheme growing strength strength lockdown thanks garden discoveries digital reporting,\" said uk culture minister caroline dinenage, news release. list garden treasures dug year includes 13th century medieval seal, bearing latin inscription reading \"david, god's messenger, bishop st. andrews.\" shining among new discoveries two hoards coins. one troves, contained 50 south african solid gold coins, unearthed milton keynes, town 50 miles northwest london. it's mystery coins, minted 1970s south africa's apartheid era, wound buried british backyard half-century. major coin hoard, held 63 gold coins one silver coin featuring monarchs edward iv henry viii, likely buried 16th century. included coins bearing initials several henry viii's wives, including catherine aragon, anne boleyn jane seymour. nearly 500 years later covid-19 pandemic, residents rediscovered weeding garden. another amateur find pandemic ancient roman furniture fitting made copper alloy, clearly featuring face god oceanus. artifact, found old basing 50 miles southeast london, dates far back 1st century. new report pas shows 81,602 objects added scheme 2019, recent spate lockdown treasure hunting, items coming public ownership. uk's treasure act 1996 requires finders report discovery 300 years old local coroner area found it. local authority defines object treasure, takes find british museum valued. government pays fair market price discoverer. law intended allow national local museums ultimately acquire historic treasures overall public benefit. even pandemic portable antiquities scheme's liaison officers able reach finders obtain relics significance, michael lewis, heads program, said news release. mission continues \"ensure finds, important understanding britain's past, lost instead recorded posterity,\" said.\n",
      "3291 : investigators manhattan district attorney's office interviewed several employees president donald trump's lender insurer recent weeks part wide-ranging investigation trump organization, according multiple people familiar investigation.  two employees deutsche bank, loaned $300 million trump organization, interviewed prosecutors, according sources familiar matter. interviews took place november presidential election, people said, focused general questions bankers assess loans underwriting criteria. questioning specific bank's dealing trump organization president, people said, one person adding beginning process. additional interviews expected near future, said. prosecutors also interviewed least one employee aon, insurance broker done work president's company, according one source familiar matter. spokeswoman aon confirmed company received subpoena said cooperating investigation. spokeswoman declined comment employee interviews. representatives deutsche bank district attorney's office, led cyrus vance, also declined comment. deutsche bank subpoenaed part investigation last year said cooperates authorized investigations. new york times first reported interviews deutsche bank aon employees. interviews trump counterparties comes prosecutors wait decision us supreme court grand jury subpoena president's tax returns. president lost several legal challenges attempt block subpoena mazars usa, long-time accounting firm, eight years personal business records tax returns. last month, 2nd us circuit court appeals denied trump's latest effort block subpoena paving way enforced. president's lawyers asked supreme court stay, halt, ruling decision expected day. mazars records critical investigation, prosecutors said. manhattan district attorney investigation criminal inquiry facing trump, business family continue leaves office. trump discussions issuing pardons family members possibly himself, cnn reported, pardons would insulate state criminal indictment. court filings district attorney's office suggested inquiry could involve tax fraud, insurance fraud schemes defraud lenders. also recently subpoenaed trump organization records relating fees paid consultants, including payment made company controlled president's daughter, ivanka trump, according people familiar matter. trump organization denied wrongdoing said applicable taxes paid. last year prosecutors district attorney's office interviewed michael cohen, president's former personal attorney, least three times knowledge trump organization's business dealings. cohen testified congress february 2019 trump organization allegedly manipulated financial statements suit desired outcomes. cohen said trump \"deflated assets reduce real estate taxes.\" alleged company officials would play financial numbers dealing insurance companies deutsche bank. specifically, cohen alleged president inflated value assets times, including 2014 trump submitted documents deutsche bank part attempt bid buffalo bills football team. trump never loan. cohen pleaded guilty federal crimes, including campaign finance charges facilitating hush-money payments silence two woman's allegations affairs trump. trump denied affairs. cohen serving three year prison sentence released home confinement earlier year due coronavirus pandemic.\n",
      "3009 : washington (cnn)white house chief staff mark meadows told food drug administration commissioner dr. stephen hahn needed grant emergency use authorization pfizer/biontech's coronavirus vaccine end friday, not, needs resign, administration official source familiar situation tell cnn.  another person familiar matter, also confirmed demand vaccine authorized end friday, said president donald trump venting fda chief since vaccine rolled uk earlier week. two men call friday morning. white house official said comment private conversations chief \"regularly requests updates progress toward vaccine.\" hahn quickly disputed description conversation, first reported washington post, news likely raise additional questions extent trump administration political interests involved vaccine authorization process, could undermine public confidence effort.vaccine advisers fda voted thursday recommend agency grant emergency use authorization vaccine, it's expected authorized imminently.\"this untrue representation phone call chief staff. fda encouraged continue working expeditiously pfizer-biontech's (emergency use authorization) request,\" hahn said statement friday afternoon. \"fda committed issuing authorization quickly, noted statement morning.\" white house official familiar conversation meadows hahn said it's doubtful fda commissioner actually fired. blunt warning chief staff might well resign pfizer's emergency use authorization isn't granted friday larger sign president's frustration, person said. public health experts fearful along white house officials would put undue pressure authorization process and, turn, compromise public confidence vaccine, source close white house coronavirus task force told cnn. source said it's unclear meadows would make threat late process authorization vaccine expected moment. person added authorization could come end friday. dr. moncef slaoui, head us government's effort develop vaccine covid-19, told cnn's jake tapper \"the lead\" friday concerned reports' potential effect undermining confidence vaccine's safety. \"yes, think opportunity people see undue pressure story right,\" said also defending fda's authorization process, described \"an effective, transparent, thorough, in-depth review.\" trump grown impatient authorization process recent weeks, one person familiar president's thinking telling cnn trump wants rush many vaccines possible leaves office. friday, called fda \"a big, old, slow turtle.\" \"get dam vaccines now, dr. hahn @stevefda,\" trump tweeted. \"stop playing games start saving lives!!!\" president-elect joe biden, remarks friday afternoon event announcing additional top administration picks, address news meadows demand hahn urged public faith vaccine expressed gratitude \"to scientists public experts evaluated safety efficiency, free political influence.\" \"i want make clear public, confidence -- political influence,\" biden said. \"these first-rate scientists taking time looking elements need looked at. scientific integrity led us point.\"\n"
     ]
    }
   ],
   "source": [
    "for i in documents:\n",
    "  print(len(i), ':', i)"
   ]
  },
  {
   "cell_type": "code",
   "execution_count": null,
   "metadata": {
    "id": "eLjTv2PUuX0-"
   },
   "outputs": [],
   "source": [
    "def getShingles(str1, K=5):\n",
    "    d1 = set()\n",
    "    for i in range(len(str1)-K):\n",
    "        d1.add(str1[i:i+K])\n",
    "    print(f\"Found {len(d1)} unique shingles, out of {len(str1)} possible.\")\n",
    "    return d1"
   ]
  },
  {
   "cell_type": "code",
   "execution_count": null,
   "metadata": {
    "colab": {
     "base_uri": "https://localhost:8080/"
    },
    "id": "bDa_AHWqu868",
    "outputId": "d255a1fa-89d7-4304-e023-3d46837c0a99"
   },
   "outputs": [
    {
     "name": "stdout",
     "output_type": "stream",
     "text": [
      "Found 3953 unique shingles, out of 5873 possible.\n",
      "Found 2782 unique shingles, out of 3673 possible.\n",
      "Found 1918 unique shingles, out of 2412 possible.\n",
      "Found 2091 unique shingles, out of 3291 possible.\n",
      "Found 2060 unique shingles, out of 3009 possible.\n"
     ]
    }
   ],
   "source": [
    "doc_shingles = [getShingles(s, 5) for s in documents]"
   ]
  },
  {
   "cell_type": "markdown",
   "metadata": {
    "id": "Gw3FDAEfxu7U"
   },
   "source": [
    "### Jaccard Similarity"
   ]
  },
  {
   "cell_type": "code",
   "execution_count": null,
   "metadata": {
    "id": "j3RICftsxf4f"
   },
   "outputs": [],
   "source": [
    "def jaccardSim(d1,d2):\n",
    "    return len(d1.intersection(d2))/len(d1.union(d2))"
   ]
  },
  {
   "cell_type": "code",
   "execution_count": null,
   "metadata": {
    "colab": {
     "base_uri": "https://localhost:8080/"
    },
    "id": "qElZ2y7mxkGq",
    "outputId": "f1efe15a-f739-4aaa-83d2-b657e1c34233"
   },
   "outputs": [
    {
     "name": "stdout",
     "output_type": "stream",
     "text": [
      "**~~~~~~ True similarity scores ~~~~~~**\n",
      "Pair\tScore\n",
      "--------------\n",
      "(0, 1)\t0.083\n",
      "(0, 2)\t0.400\n",
      "(0, 3)\t0.294\n",
      "(0, 4)\t0.336\n",
      "(1, 2)\t0.052\n",
      "(1, 3)\t0.081\n",
      "(1, 4)\t0.069\n",
      "(2, 3)\t0.051\n",
      "(2, 4)\t0.050\n",
      "(3, 4)\t0.093\n"
     ]
    }
   ],
   "source": [
    "pairs = itertools.combinations(documents, 2)\n",
    "pair_labels = []\n",
    "pair_sims = []\n",
    "for x1, x2 in itertools.combinations(zip(range(len(doc_shingles)),doc_shingles), 2):\n",
    "    pair_labels.append((x1[0],x2[0]))\n",
    "    pair_sims.append(jaccardSim(x1[1],x2[1]))\n",
    "    \n",
    "print(f\"**~~~~~~ True similarity scores ~~~~~~**\")\n",
    "print(\"Pair\\tScore\")\n",
    "print(\"-\"*14)\n",
    "for pair, score in zip(pair_labels, pair_sims):\n",
    "    print(f\"{pair}\\t{score:.3f}\")"
   ]
  },
  {
   "cell_type": "code",
   "execution_count": null,
   "metadata": {
    "colab": {
     "base_uri": "https://localhost:8080/"
    },
    "id": "RYosivfXyAHF",
    "outputId": "1f87a43b-6445-4c35-bcef-33d971036885"
   },
   "outputs": [
    {
     "name": "stdout",
     "output_type": "stream",
     "text": [
      "There are 7534 shingles\n"
     ]
    }
   ],
   "source": [
    "fullset = set.union(*doc_shingles)\n",
    "shingle_dict = dict(zip(list(fullset),range(len(fullset))))\n",
    "print(f\"There are {len(shingle_dict)} shingles\")"
   ]
  },
  {
   "cell_type": "markdown",
   "metadata": {
    "id": "0mqlY5MiyInS"
   },
   "source": [
    "### MinHash class"
   ]
  },
  {
   "cell_type": "code",
   "execution_count": null,
   "metadata": {
    "colab": {
     "base_uri": "https://localhost:8080/"
    },
    "id": "QLiC8IPzyFbc",
    "outputId": "eca56f28-e4dd-4f7c-c7ed-bcd31a2f9725"
   },
   "outputs": [
    {
     "name": "stdout",
     "output_type": "stream",
     "text": [
      "Initialization test: passed\n",
      "Set parameters to right size: passed\n",
      "Permuting a row integer returns array: passed\n",
      "Compute minhashed signature matrix: passed\n"
     ]
    }
   ],
   "source": [
    "class HashManager():\n",
    "    def __init__(self, shingle_dict):\n",
    "        self.shingle_dict = shingle_dict\n",
    "        self.N = len(shingle_dict)\n",
    "        self.params = None\n",
    "        \n",
    "    def _initParams(self, n_sig):\n",
    "        self.params = np.random.randint(self.N, size=[n_sig,2])\n",
    "    \n",
    "    def _permuteRow(self, row):\n",
    "        return (self.params@np.array([1,row]))%self.N\n",
    "    \n",
    "    def __call__(self, docs, n_sig, init=True):\n",
    "        # Initialize if we change signature matrix length\n",
    "        # or if we request to re-initialize\n",
    "        if self.params is None or len(self.params) != n_sig or init:\n",
    "            self._initParams(n_sig)\n",
    "            \n",
    "        #initialize signature matrix\n",
    "        sig = np.full((n_sig, len(docs)), np.inf)\n",
    "        \n",
    "        # each doc in docs is assumed to be an iterable object\n",
    "        for j, doc in enumerate(docs):\n",
    "            for shingle in doc:\n",
    "                orig_row = shingle_dict[shingle]\n",
    "                curr_col = self._permuteRow(orig_row)\n",
    "                sig[:,j] = np.minimum(sig[:,j],curr_col)\n",
    "        return sig.astype(int)\n",
    "    \n",
    "# run some tests:\n",
    "try:\n",
    "    print(\"Initialization test: \", end=\"\")\n",
    "    hm = HashManager(shingle_dict)\n",
    "    print(\"passed\")\n",
    "\n",
    "    print(\"Set parameters to right size: \", end=\"\")\n",
    "    hm._initParams(n_sig=4)\n",
    "    assert(hm.params.shape == (4,2))\n",
    "    print(\"passed\")\n",
    "\n",
    "    print(\"Permuting a row integer returns array: \", end=\"\")\n",
    "    curr_col = hm._permuteRow(3)\n",
    "    assert(curr_col.shape == (4,))\n",
    "    print(\"passed\")\n",
    "\n",
    "    print(\"Compute minhashed signature matrix: \", end=\"\")\n",
    "    hm(doc_shingles, 4)\n",
    "    print(\"passed\")\n",
    "except Exception as e:\n",
    "    print(\"failure\")\n",
    "    print(e.args)"
   ]
  },
  {
   "cell_type": "code",
   "execution_count": null,
   "metadata": {
    "id": "I_lEHIeQzx69"
   },
   "outputs": [],
   "source": [
    "hm = HashManager(shingle_dict)"
   ]
  },
  {
   "cell_type": "markdown",
   "metadata": {
    "id": "BH2W2cyGxGBZ"
   },
   "source": [
    "### Using MinHashing to compute similarity scores"
   ]
  },
  {
   "cell_type": "code",
   "execution_count": null,
   "metadata": {
    "id": "8tYirtZYz1Kq"
   },
   "outputs": [],
   "source": [
    "def trueSimScores(doc_shingles):\n",
    "    pair_labels = []\n",
    "    pair_sims = []\n",
    "    idxs = range(len(doc_shingles))\n",
    "    for x1, x2 in itertools.combinations(zip(idxs,doc_shingles), 2):\n",
    "        pair_labels.append((x1[0], x2[0]))\n",
    "        pair_sims.append(jaccardSim(x1[1], x2[1]))\n",
    "    return dict(zip(pair_labels, pair_sims))\n",
    "    \n",
    "def sigSimScores(sig_mat):\n",
    "    cols = sig_mat.T\n",
    "    idxs = range(sig_mat.shape[1])\n",
    "    \n",
    "    pair_labels = []\n",
    "    pair_sims = []\n",
    "    for (i,col1), (j,col2) in itertools.combinations(zip(idxs, cols),2):\n",
    "        pair_labels.append((i,j))\n",
    "        pair_sims.append(np.mean(col1==col2))\n",
    "    \n",
    "    return dict(zip(pair_labels, pair_sims))\n",
    "\n",
    "def printScoreComparison(true_dict, approx_dict):\n",
    "    print(f\"**~~~~~~ Similarity score comparison ~~~~~~**\")\n",
    "    print(\"Pair\\t\\tApprox\\t\\tTrue\\t\\t%Error\")\n",
    "    for pair, true_value in true_dict.items():\n",
    "        approx_value = approx_dict[pair]\n",
    "        err = 100*abs(true_value-approx_value)/true_value\n",
    "        print(f\"{pair}\\t\\t{approx_value:.3f}\\t\\t{true_value:.3f}\\t\\t{err:.2f}\")\n",
    "\n",
    "def candidatePairs(score_dict, threshold):\n",
    "    return set(pair for pair, scr in score_dict.items() if scr>=threshold)\n",
    "\n",
    "def accMatrix(true_dict, approx_dict, threshold):\n",
    "    true_pairs = candidatePairs(true_dict, threshold)\n",
    "    approx_pairs = candidatePairs(approx_dict, threshold)\n",
    "    false_negatives = len(true_pairs - approx_pairs)\n",
    "    false_positives = len(approx_pairs - true_pairs)\n",
    "    print(f\"False negatives: {false_negatives}\")\n",
    "    print(f\"Potential false positives: {false_positives}\")"
   ]
  },
  {
   "cell_type": "code",
   "execution_count": null,
   "metadata": {
    "colab": {
     "base_uri": "https://localhost:8080/"
    },
    "id": "atMSsVV4z5ak",
    "outputId": "e534ea4b-1b60-4782-f99c-f5df42df111b"
   },
   "outputs": [
    {
     "name": "stdout",
     "output_type": "stream",
     "text": [
      "**~~~~~~ Similarity score comparison ~~~~~~**\n",
      "Pair\t\tApprox\t\tTrue\t\t%Error\n",
      "(0, 1)\t\t0.200\t\t0.083\t\t141.05\n",
      "(0, 2)\t\t0.500\t\t0.400\t\t24.94\n",
      "(0, 3)\t\t0.400\t\t0.294\t\t35.83\n",
      "(0, 4)\t\t0.300\t\t0.336\t\t10.77\n",
      "(1, 2)\t\t0.200\t\t0.052\t\t286.93\n",
      "(1, 3)\t\t0.300\t\t0.081\t\t270.52\n",
      "(1, 4)\t\t0.100\t\t0.069\t\t45.19\n",
      "(2, 3)\t\t0.300\t\t0.051\t\t483.62\n",
      "(2, 4)\t\t0.000\t\t0.050\t\t100.00\n",
      "(3, 4)\t\t0.300\t\t0.093\t\t221.78\n",
      "True pairs: {(0, 3), (0, 2), (0, 4)}\n",
      "Candidate pairs: {(1, 3), (2, 3), (0, 4), (0, 3), (3, 4), (0, 2)}\n",
      "False negatives: 0\n",
      "Potential false positives: 1\n"
     ]
    }
   ],
   "source": [
    "sig_mat = hm(doc_shingles, 10)\n",
    "true_score_dict = trueSimScores(doc_shingles)\n",
    "approx_score_dict = sigSimScores(sig_mat)\n",
    "printScoreComparison(true_score_dict, approx_score_dict)\n",
    "\n",
    "print(\"True pairs:\",candidatePairs(true_score_dict, 0.25))\n",
    "print(\"Candidate pairs:\",candidatePairs(approx_score_dict, 0.25))\n",
    "accMatrix(true_score_dict, approx_score_dict, 0.4)"
   ]
  },
  {
   "cell_type": "code",
   "execution_count": null,
   "metadata": {
    "colab": {
     "base_uri": "https://localhost:8080/"
    },
    "id": "eWEDteL7z73l",
    "outputId": "74cd28b5-7738-462e-fd81-725e89c08c4c"
   },
   "outputs": [
    {
     "name": "stdout",
     "output_type": "stream",
     "text": [
      "**~~~~~~ Similarity score comparison ~~~~~~**\n",
      "Pair\t\tApprox\t\tTrue\t\t%Error\n",
      "(0, 1)\t\t0.200\t\t0.083\t\t141.05\n",
      "(0, 2)\t\t0.600\t\t0.400\t\t49.93\n",
      "(0, 3)\t\t0.600\t\t0.294\t\t103.74\n",
      "(0, 4)\t\t0.200\t\t0.336\t\t40.52\n",
      "(1, 2)\t\t0.200\t\t0.052\t\t286.93\n",
      "(1, 3)\t\t0.200\t\t0.081\t\t147.01\n",
      "(1, 4)\t\t0.300\t\t0.069\t\t335.58\n",
      "(2, 3)\t\t0.300\t\t0.051\t\t483.62\n",
      "(2, 4)\t\t0.300\t\t0.050\t\t501.43\n",
      "(3, 4)\t\t0.300\t\t0.093\t\t221.78\n",
      "True pairs: {(0, 3), (0, 2), (0, 4)}\n",
      "Candidate pairs: {(1, 4), (2, 3), (2, 4), (0, 3), (3, 4), (0, 2)}\n",
      "False negatives: 0\n",
      "Potential false positives: 1\n"
     ]
    }
   ],
   "source": [
    "sig_mat = hm(doc_shingles, 10)\n",
    "true_score_dict = trueSimScores(doc_shingles)\n",
    "approx_score_dict = sigSimScores(sig_mat)\n",
    "printScoreComparison(true_score_dict, approx_score_dict)\n",
    "\n",
    "print(\"True pairs:\",candidatePairs(true_score_dict, 0.25))\n",
    "print(\"Candidate pairs:\",candidatePairs(approx_score_dict, 0.25))\n",
    "accMatrix(true_score_dict, approx_score_dict, 0.4)"
   ]
  },
  {
   "cell_type": "markdown",
   "metadata": {
    "id": "rSr94wQQxbyv"
   },
   "source": [
    "### Locality Sensitive Hashing , band-structure theory, how to choose band size"
   ]
  },
  {
   "cell_type": "markdown",
   "metadata": {
    "id": "9nsZPzykxm1I"
   },
   "source": [
    "#### Effects of changing b, r at fixed n\n",
    "\n",
    "Now implement Locality-sensitive hashing. We use a band structure on the signature matrix. If the matrix has `n` rows, then we divide it into `b` bands each of width `r`, such that \n",
    "\n",
    "`n = b * r`\n",
    "\n",
    "Let `p` be the true similarity score (match percent) between a pair. The probability of matching every integer in a band is \n",
    "\n",
    "`prob. one band doesn't match = 1 - p^r`\n",
    "\n",
    "Now the probability that NONE of the `b` bands match is given by\n",
    "\n",
    "`prob. no bands match = (1 - p^r)^b` \n",
    "\n",
    "Therefore, the probability that at least one band matches, is\n",
    "\n",
    "`P(X > 0) = 1 - (1 - p^r)^b` \n",
    "\n",
    "Now, we want this to be our criteria for a candidate pair. That is, two signatures columns are a candidate pair if `P >= 1/2` . We will see in the plot below, that as the signature matrix increases, we can tune `r` and `b` to approximately be a step function around the true value of `p`. The goal is to find as few candidate pairs as possible, while also making sure we find them all.\n",
    "\n",
    "Draw a vertical line at the true p value The area UNDER the curve `P(x < p)` represents the rate of potential false positives\n",
    "\n",
    "the area ABOVE the curve `P(x >= p)` represents the rate of false negatives\n",
    "\n",
    "For various values of `r`, `b`, we plot the result below"
   ]
  },
  {
   "cell_type": "code",
   "execution_count": null,
   "metadata": {
    "colab": {
     "base_uri": "https://localhost:8080/",
     "height": 295
    },
    "id": "BIzx4_9gxXjg",
    "outputId": "331cb29b-fb9a-4a13-ccf1-98844bdef7bc"
   },
   "outputs": [
    {
     "data": {
      "image/png": "[encoded data removed]",
      "text/plain": [
       "<Figure size 432x288 with 1 Axes>"
      ]
     },
     "metadata": {
      "needs_background": "light"
     },
     "output_type": "display_data"
    }
   ],
   "source": [
    "import matplotlib.pyplot as plt\n",
    "n = 200\n",
    "ops = [(2,100),(4,50),(10,20),(20,10),(50,4),(100,2)]\n",
    "yval = lambda p,r,b: 1-(1-p**r)**b\n",
    "pts = np.linspace(0,1,100)\n",
    "yval(pts,.2,.2)\n",
    "for op in ops:\n",
    "    plt.plot(pts, yval(pts,op[0],op[1]), label=op)\n",
    "plt.plot(pts,0*pts+0.5,'k--', label=\"P=1/2\")\n",
    "plt.plot([0.4,0.4],[0,1], 'k-.')\n",
    "plt.legend()\n",
    "plt.xlabel('p')\n",
    "plt.ylabel('Probability')\n",
    "plt.title(\"legend: (r,b). p_true=0.4 (vertical line)\")\n",
    "plt.show()"
   ]
  },
  {
   "cell_type": "markdown",
   "metadata": {
    "id": "3mlSZ6b9zQEB"
   },
   "source": [
    "#### Effects of changing n while adjusting b,r to keep P=1/2 argument constant \n",
    "\n",
    "Now let's solve for the optimal values r,b. \n",
    "\n",
    "We suppose that we fix `n, r, b`. Given these, we determine at which approximate point `p` is the crossover. We should find `p = p(b,r)`. Afterwards, we can then approximately solve for `r, b` to be a desired `p`. \n",
    "\n",
    "We begin with for `P = 1/2`. \n",
    "\n",
    "$$1/2 = 1 - (1 - p^r)^b$$\n",
    "\n",
    "$$1 - p^r = 2^{-1/b}$$\n",
    "\n",
    "$$p = (1 - 2^{-1/b})^{1/r} = (1 - e^{-(1/b)ln2})^{1/r} ≈ (1/b)^{1/r} * const$$ \n",
    "\n",
    "Finally, if we fix `r` and `p`, we can find the required bands to be about $$b \\approx 1/p^r $$\n",
    "\n",
    "Takeaways: \n",
    "\n",
    "increasing `r ->`\n",
    "- moves the curve right.\n",
    "- more the false negatives\n",
    "- means lower chance to match\n",
    "\n",
    "increasing `b ->`\n",
    "- moves the curve left.\n",
    "- more false positives\n",
    "- means higher chance to match\n",
    "\n",
    "increasing `n ->`\n",
    "- the curve approaches a step function.\n",
    "- fewer false anythings\n",
    "- always good!\n",
    "\n",
    "Now watch what happens as we pick the optimal r,b and then increase n.\n",
    "\n",
    "We will try to keep p centered around `p = 0.5`."
   ]
  },
  {
   "cell_type": "code",
   "execution_count": null,
   "metadata": {
    "colab": {
     "base_uri": "https://localhost:8080/",
     "height": 265
    },
    "id": "Ci3Ztcxi0Fp4",
    "outputId": "46b42f4b-5dcd-4415-bece-91ad15d3d23d"
   },
   "outputs": [
    {
     "data": {
      "image/png": "[encoded data removed]",
      "text/plain": [
       "<Figure size 432x288 with 1 Axes>"
      ]
     },
     "metadata": {
      "needs_background": "light"
     },
     "output_type": "display_data"
    }
   ],
   "source": [
    "x = np.linspace(0,1,100)\n",
    "\n",
    "b,r = 5, 3\n",
    "y = 1-(1-x**r)**b\n",
    "plt.plot(x,y,'r-',label=f\"b={b},r={r}, n={b*r}\")\n",
    "\n",
    "b,r = 40, 6\n",
    "y = 1-(1-x**r)**b\n",
    "plt.plot(x,y,'b-',label=f\"b={b}, r={r}, n={b*r}\")\n",
    "\n",
    "b,r = 150, 8\n",
    "y = 1-(1-x**r)**b\n",
    "plt.plot(x,y,'g-',label=f\"b={b}, r={r}, n={b*r}\")\n",
    "\n",
    "b,r = 700, 10\n",
    "y = 1-(1-x**r)**b\n",
    "plt.plot(x,y,'g-',label=f\"b={b}, r={r}, n={b*r}\")\n",
    "\n",
    "\n",
    "plt.plot(x,0*x+0.5,'k--')\n",
    "plt.plot([0.5,0.5],[0,1],'k--')\n",
    "plt.legend()\n",
    "plt.show()"
   ]
  },
  {
   "cell_type": "markdown",
   "metadata": {
    "id": "jgSk_mvx2G1S"
   },
   "source": [
    "Now, we use all of the above to try to optimize our Localitly Sensitive Hash function from before. \n",
    "\n",
    "Let's say we want a threshold of `p = 0.3`. We can calculate $b ≈ p^{-r}$ for the number of bands.\n",
    "\n",
    "For the first 6 values of band size we determine we should keep\n",
    "\n",
    "$ r = 1 \\to b = 3, n = 3$\n",
    "\n",
    "$ r = 2 \\to b = 11, n = 22$\n",
    "\n",
    "$ r = 3 \\to b = 37, n = 111$\n",
    "\n",
    "$ r = 4 \\to b = 123, n = 492$\n",
    "\n",
    "$ r = 5 \\to b = 412, n = 2060$\n",
    "\n",
    "Let's try the intermediate choice, and use round numbers `n = 120, b = 40, r = 3`\n",
    "\n",
    "Let's see how good our results are using the previous defined functions. We first need to construct the banded similarity measure to be used on the signature matrix. Put this into a function"
   ]
  },
  {
   "cell_type": "markdown",
   "metadata": {
    "id": "n7qWvMwx25tu"
   },
   "source": [
    "### Brute force banded candidate pair function, for checking hash method later"
   ]
  },
  {
   "cell_type": "code",
   "execution_count": null,
   "metadata": {
    "colab": {
     "base_uri": "https://localhost:8080/"
    },
    "id": "zctphUE_0IyV",
    "outputId": "b68be42b-99b9-48d2-bf40-c848f6f166ac"
   },
   "outputs": [
    {
     "name": "stdout",
     "output_type": "stream",
     "text": [
      "True pairs: {(0, 2), (0, 4)}\n",
      "LSH pairs: {(0, 2)}\n",
      "Vanilla MinHash pairs: {(0, 3), (0, 2), (0, 4)}\n",
      "**~~~~~~ Similarity score comparison ~~~~~~**\n",
      "Pair\t\tApprox\t\tTrue\t\t%Error\n",
      "(0, 1)\t\t0.275\t\t0.083\t\t231.44\n",
      "(0, 2)\t\t0.483\t\t0.400\t\t20.78\n",
      "(0, 3)\t\t0.425\t\t0.294\t\t44.31\n",
      "(0, 4)\t\t0.342\t\t0.336\t\t1.62\n",
      "(1, 2)\t\t0.175\t\t0.052\t\t238.56\n",
      "(1, 3)\t\t0.200\t\t0.081\t\t147.01\n",
      "(1, 4)\t\t0.125\t\t0.069\t\t81.49\n",
      "(2, 3)\t\t0.167\t\t0.051\t\t224.23\n",
      "(2, 4)\t\t0.142\t\t0.050\t\t184.01\n",
      "(3, 4)\t\t0.167\t\t0.093\t\t78.77\n"
     ]
    }
   ],
   "source": [
    "def bandedCandidatePair(col1, col2, b, r):\n",
    "    \"\"\"Returns a boolean if the two columns are a candidate pair\n",
    "    inputs must obey n=len(col1)=len(col2)=b*r\"\"\"\n",
    "    n = len(col1)\n",
    "    assert(n==b*r)\n",
    "    assert(n==len(col2))\n",
    "    truth_array = (col1==col2)\n",
    "    return any(all(band) for band in np.array_split(truth_array,b))\n",
    "\n",
    "def bandedCandidatePairs(sig_mat, b, r):\n",
    "    d = sig_mat.shape[1]\n",
    "    idxs = range(d)\n",
    "    cols = [sig_mat[:,i] for i in range(d)]\n",
    "    pairs = set()\n",
    "    for (i,col1), (j,col2) in itertools.combinations(zip(idxs,cols),2):\n",
    "        if bandedCandidatePair(col1,col2,b,r):\n",
    "            pairs.add((i,j))\n",
    "    return pairs\n",
    "\n",
    "# set p = 0.3 arbitrarily\n",
    "p = 0.3\n",
    "n = 120\n",
    "b = 30\n",
    "r = 4\n",
    "\n",
    "# see how many candidate pairs we got right!\n",
    "sig_mat = hm(doc_shingles, n)\n",
    "true_score_dict = trueSimScores(doc_shingles)\n",
    "approx_score_dict = sigSimScores(sig_mat)\n",
    "print(\"True pairs:\",candidatePairs(true_score_dict, p))\n",
    "print(\"LSH pairs:\",bandedCandidatePairs(sig_mat, b, r))\n",
    "print(\"Vanilla MinHash pairs:\",candidatePairs(approx_score_dict, p))\n",
    "# accMatrix(true_score_dict, approx_score_dict, 0.4)\n",
    "\n",
    "# sig_mat = hm(doc_shingles, n)\n",
    "# true_score_dict = trueSimScores(doc_shingles)\n",
    "printScoreComparison(true_score_dict, approx_score_dict)"
   ]
  },
  {
   "cell_type": "markdown",
   "metadata": {
    "id": "ywJE3jvc3A5O"
   },
   "source": [
    "### Finally, we perform the fast candidate pair search, using a hash table of band and column id's \n",
    "\n",
    "Lastly, we will improve upon the whole efficiency by performing the comparisons of banded pairs in $O(n)$ time as opposed to $O(n^2)$\n",
    "\n",
    "For each band of a column, we place a copy of the column index into a hash table, with key the row values.\n",
    "\n",
    "For example, let col=[4,2,5,6]. This might band to say [(4,2),(5,6)], and we ould enter into a dictionary d={(4,2):[col,...], (5,6):[col,...], ...}"
   ]
  },
  {
   "cell_type": "code",
   "execution_count": null,
   "metadata": {
    "colab": {
     "base_uri": "https://localhost:8080/"
    },
    "id": "6fgB4Pe20L56",
    "outputId": "b2991ea8-affe-45ec-d661-d165f013ab92"
   },
   "outputs": [
    {
     "name": "stdout",
     "output_type": "stream",
     "text": [
      "True pairs:\t {(0, 2), (0, 4)}\n",
      "True LSH pairs:\t {(0, 2)}\n",
      "Fast LSH pairs:\t {(0, 2)}\n",
      "MinHash pairs:\t {(0, 3), (0, 2), (0, 4)}\n"
     ]
    }
   ],
   "source": [
    "def fastCandidatePairs(sig_mat, b, r):\n",
    "    n, d = sig_mat.shape\n",
    "    assert(n==b*r)\n",
    "    hashbuckets = collections.defaultdict(set)\n",
    "    bands = np.array_split(sig_mat, b, axis=0)\n",
    "    for i,band in enumerate(bands):\n",
    "        for j in range(d):\n",
    "            # The last value must be made a string, to prevent accidental\n",
    "            # key collisions of r+1 integers when we really only want\n",
    "            # keys of r integers plus a band index\n",
    "            band_id = tuple(list(band[:,j])+[str(i)])\n",
    "            hashbuckets[band_id].add(j)\n",
    "    candidate_pairs = set()\n",
    "    for bucket in hashbuckets.values():\n",
    "        if len(bucket) > 1:\n",
    "            for pair in itertools.combinations(bucket, 2):\n",
    "                candidate_pairs.add(pair)\n",
    "    return candidate_pairs\n",
    "\n",
    "\n",
    "# to make sure it works, \n",
    "# compare with the brute force method on a few trials\n",
    "\n",
    "# set p = 0.3 arbitrarily\n",
    "p = 0.3\n",
    "n = 120\n",
    "b = 30\n",
    "r = 4\n",
    "\n",
    "# see how many candidate pairs we got right!\n",
    "sig_mat = hm(doc_shingles, n)\n",
    "true_score_dict = trueSimScores(doc_shingles)\n",
    "approx_score_dict = sigSimScores(sig_mat)\n",
    "print('True pairs:\\t', candidatePairs(true_score_dict, p))\n",
    "print(\"True LSH pairs:\\t\", bandedCandidatePairs(sig_mat, b, r))\n",
    "print(\"Fast LSH pairs:\\t\", fastCandidatePairs(sig_mat, b, r))\n",
    "print(\"MinHash pairs:\\t\", candidatePairs(approx_score_dict, p))"
   ]
  },
  {
   "cell_type": "markdown",
   "metadata": {
    "id": "oTDow2ZE3WV-"
   },
   "source": [
    "## LSH on vectors"
   ]
  },
  {
   "cell_type": "markdown",
   "metadata": {
    "id": "AkMG39ZMUaNk"
   },
   "source": [
    "Also, you can work with the already implemented PySpark's LSH method. There is [PySpark documentation](https://spark.apache.org/docs/2.2.3/ml-features.html#locality-sensitive-hashing). "
   ]
  }
 ],
 "metadata": {
  "colab": {
   "collapsed_sections": [],
   "name": "Lab 4. Finding Similar Items.ipynb",
   "provenance": []
  },
  "kernelspec": {
   "display_name": "Python 3 (ipykernel)",
   "language": "python",
   "name": "python3"
  },
  "language_info": {
   "codemirror_mode": {
    "name": "ipython",
    "version": 3
   },
   "file_extension": ".py",
   "mimetype": "text/x-python",
   "name": "python",
   "nbconvert_exporter": "python",
   "pygments_lexer": "ipython3",
   "version": "3.8.10"
  }
 },
 "nbformat": 4,
 "nbformat_minor": 1
}
