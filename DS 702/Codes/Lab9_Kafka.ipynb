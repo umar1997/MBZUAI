{
 "cells": [
  {
   "cell_type": "markdown",
   "metadata": {},
   "source": [
    "# Apache Kafka in Python"
   ]
  },
  {
   "cell_type": "markdown",
   "metadata": {},
   "source": [
    "### Setting up and running"
   ]
  },
  {
   "cell_type": "markdown",
   "metadata": {},
   "source": [
    "#### Previous Class Materials\n",
    "\n",
    "Start ZooKeeper: \n",
    "- `bin/zookeeper-server-start.sh config/zookeeper.properties` \n",
    "\n",
    "Start Kafka Server: \n",
    "- `bin/kafka-server-start.sh config/server.properties` \n",
    "\n",
    "Kafka topics: \n",
    "- `bin/kafka-topics.sh --list --zookeeper localhost:2181` \n",
    "\n",
    "Create Kafka Topic:\n",
    "- `bin/kafka-topics.sh --create --bootstrap-server localhost:9092 --replication-factor 1 --partitions 1 --topic kafka-topic`\n",
    "\n",
    "Start Producer: \n",
    "- `bin/kafka-console-producer.sh --broker-list localhost:9092 --topic kafka-topic`\n",
    "\n",
    "Start Consumer: \n",
    "- `bin/kafka-console-consumer.sh --bootstrap-server localhost:9092 --topic kafka-topic --from-beginning`"
   ]
  },
  {
   "cell_type": "markdown",
   "metadata": {},
   "source": [
    "Let's create three python files: \n",
    "- `consumer.py`: Kafka Consumer \n",
    "- `data.py`: Data Generator \n",
    "- `producer.py`: Kafka Producer "
   ]
  },
  {
   "cell_type": "markdown",
   "metadata": {},
   "source": [
    "Requirements: \n",
    "```\n",
    "Faker\n",
    "kafka-python\n",
    "```\n",
    "How to install: \n",
    "```\n",
    "pip install Faker\n",
    "pip install kafka-python\n",
    "```"
   ]
  },
  {
   "cell_type": "markdown",
   "metadata": {},
   "source": [
    "### data.py: "
   ]
  },
  {
   "cell_type": "markdown",
   "metadata": {},
   "source": [
    "```python \n",
    "from faker import Faker\n",
    "\n",
    "fake = Faker()\n",
    "\n",
    "\n",
    "def get_registered_user():\n",
    "    return {\n",
    "        \"name\": fake.name(),\n",
    "        \"address\": fake.address(),\n",
    "        \"created_at\": fake.year()\n",
    "    }\n",
    "\n",
    "\n",
    "if __name__ == \"__main__\":\n",
    "    print(get_registered_user())\n",
    "```"
   ]
  },
  {
   "cell_type": "markdown",
   "metadata": {},
   "source": [
    "### consumer.py: "
   ]
  },
  {
   "cell_type": "markdown",
   "metadata": {},
   "source": [
    "```python \n",
    "from kafka import KafkaConsumer\n",
    "import json\n",
    "\n",
    "if __name__ == \"__main__\":\n",
    "    consumer = KafkaConsumer(\n",
    "        \"registered_user\",\n",
    "        bootstrap_servers='localhost:9092',\n",
    "        auto_offset_reset='earliest',\n",
    "        group_id=\"consumer-group-a\")\n",
    "    print(\"starting the consumer\")\n",
    "    for msg in consumer:\n",
    "        print(\"Registered User = {}\".format(json.loads(msg.value)))\n",
    "```"
   ]
  },
  {
   "cell_type": "markdown",
   "metadata": {},
   "source": [
    "### producer.py:"
   ]
  },
  {
   "cell_type": "markdown",
   "metadata": {},
   "source": [
    "```python\n",
    "from kafka import KafkaProducer\n",
    "import json\n",
    "from data import get_registered_user\n",
    "import time\n",
    "\n",
    "\n",
    "def json_serializer(data):\n",
    "    return json.dumps(data).encode(\"utf-8\")\n",
    "\n",
    "\n",
    "producer = KafkaProducer(bootstrap_servers=['localhost:9092'],\n",
    "                         value_serializer=json_serializer)\n",
    "\n",
    "if __name__ == \"__main__\":\n",
    "    while True:\n",
    "        registered_user = get_registered_user()\n",
    "        print(registered_user)\n",
    "        producer.send(\"registered_user\", registered_user)\n",
    "        time.sleep(4)\n",
    "```"
   ]
  },
  {
   "cell_type": "markdown",
   "metadata": {},
   "source": [
    "## Anamoly Detection"
   ]
  },
  {
   "cell_type": "markdown",
   "metadata": {},
   "source": [
    "![alt](https://raw.githubusercontent.com/tnurbek/ds702/main/Lab9/scheme.png)"
   ]
  },
  {
   "cell_type": "markdown",
   "metadata": {},
   "source": [
    "### Task: "
   ]
  },
  {
   "cell_type": "markdown",
   "metadata": {},
   "source": [
    "- Try to create a data generator and producer (data can be numeric and suitable for some machine learning models, such as linear regression).\n",
    "- After that, train your model and save it with pickle or joblib. \n",
    "- Create a producer that follows similar distribution as in the model training data but with some outliers (be creative)\n",
    "- Create an anomaly detector with a specific threshold (e.g. MSE score). Use saved ML model. "
   ]
  }
 ],
 "metadata": {
  "kernelspec": {
   "display_name": "Python 3 (ipykernel)",
   "language": "python",
   "name": "python3"
  },
  "language_info": {
   "codemirror_mode": {
    "name": "ipython",
    "version": 3
   },
   "file_extension": ".py",
   "mimetype": "text/x-python",
   "name": "python",
   "nbconvert_exporter": "python",
   "pygments_lexer": "ipython3",
   "version": "3.8.10"
  }
 },
 "nbformat": 4,
 "nbformat_minor": 2
}
