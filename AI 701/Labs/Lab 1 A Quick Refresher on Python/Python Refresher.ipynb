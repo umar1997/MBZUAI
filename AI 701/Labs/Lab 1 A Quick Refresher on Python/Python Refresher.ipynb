{
 "cells": [
  {
   "cell_type": "markdown",
   "id": "cde97070",
   "metadata": {},
   "source": [
    "#### Q1\n",
    "Write a python program to add two numbers with user input"
   ]
  },
  {
   "cell_type": "code",
   "execution_count": 1,
   "id": "b457c7ef",
   "metadata": {},
   "outputs": [
    {
     "name": "stdout",
     "output_type": "stream",
     "text": [
      "Enter your value 1: 2\n",
      "Enter your value 2: 3\n",
      "5\n"
     ]
    }
   ],
   "source": [
    "def add(val1, val2):\n",
    "    try:\n",
    "        print(int(val1) + int(val2))\n",
    "    except:\n",
    "        print('Error: These arent numbers')\n",
    "\n",
    "val1 = input(\"Enter your value 1: \")\n",
    "val2 = input(\"Enter your value 2: \")\n",
    "add(val1, val2)"
   ]
  },
  {
   "cell_type": "markdown",
   "id": "b9eb666d",
   "metadata": {},
   "source": [
    "#### Q2\n",
    "If a=10, b=120, and c=160 are three sides of a triangle then write a python \n",
    "program to estimate the area of a Triangle using.\n",
    "\n",
    "𝐬 = (𝐚 + 𝐛 + 𝐜) / 𝟐  \n",
    "𝐚𝐧𝐝 𝐀𝐫𝐞𝐚 = √𝐬(𝐬 − 𝐚) × (𝐬 − 𝐛) × (𝐬 − 𝐜)"
   ]
  },
  {
   "cell_type": "code",
   "execution_count": 2,
   "id": "fc652296",
   "metadata": {},
   "outputs": [
    {
     "name": "stdout",
     "output_type": "stream",
     "text": [
      "2066.2465970933868\n"
     ]
    }
   ],
   "source": [
    "import math \n",
    "\n",
    "a = 50\n",
    "b = 120\n",
    "c = 160\n",
    "\n",
    "def areaOfTriangle(a,b,c):\n",
    "    try:\n",
    "        s = (a + b + c)/2\n",
    "        u = (s*(s-a)) * (s-b) * (s-c)\n",
    "        print(math.sqrt(u))\n",
    "    except:\n",
    "        print('Values for the traingle arent correct.')\n",
    "\n",
    "areaOfTriangle(a,b,c)"
   ]
  },
  {
   "cell_type": "markdown",
   "id": "99ff39f6",
   "metadata": {},
   "source": [
    "#### Q3\n",
    "Write a python program to solve the quadratic equation, with a=2, b=5, and \n",
    "c=40.  \n",
    "You may need complex math module libraries (cmath).\n",
    "𝐚𝐱^𝟐+bx+c=0, where a, b, and c are real numbers and 𝐚 ≠ 𝟎\n"
   ]
  },
  {
   "cell_type": "code",
   "execution_count": 3,
   "id": "7a3f1791",
   "metadata": {},
   "outputs": [
    {
     "name": "stdout",
     "output_type": "stream",
     "text": [
      "(5+0j) (6+0j)\n"
     ]
    }
   ],
   "source": [
    "import cmath  \n",
    "a = 1\n",
    "b = -11\n",
    "c = 30\n",
    "\n",
    "def solveQuadratic(a,b,c):  \n",
    "    d = (b**2) - (4*a*c)  \n",
    "\n",
    "    sol1 = (-b-cmath.sqrt(d))/(2*a)  \n",
    "    sol2 = (-b+cmath.sqrt(d))/(2*a)  \n",
    "    print(sol1,sol2)\n",
    "    \n",
    "solveQuadratic(a,b,c)"
   ]
  },
  {
   "cell_type": "markdown",
   "id": "f5e70a3f",
   "metadata": {},
   "source": [
    "#### Q4\n",
    "Write a python program to find the factorial of a number 10."
   ]
  },
  {
   "cell_type": "code",
   "execution_count": 1,
   "id": "bb7a135c",
   "metadata": {},
   "outputs": [
    {
     "name": "stdout",
     "output_type": "stream",
     "text": [
      "3628800\n"
     ]
    }
   ],
   "source": [
    "def factorial(n):\n",
    "    if n == 1:\n",
    "        return 1\n",
    "    else:\n",
    "        return n * factorial(n-1)\n",
    "n = 10\n",
    "print(factorial(n))"
   ]
  },
  {
   "cell_type": "markdown",
   "id": "159cef3c",
   "metadata": {},
   "source": [
    "#### Q5\n",
    "Write a python program to display the multiplication table of number 10."
   ]
  },
  {
   "cell_type": "code",
   "execution_count": 2,
   "id": "111b6d12",
   "metadata": {},
   "outputs": [
    {
     "data": {
      "text/plain": [
       "[10, 20, 30, 40, 50, 60, 70, 80, 90, 100]"
      ]
     },
     "execution_count": 2,
     "metadata": {},
     "output_type": "execute_result"
    }
   ],
   "source": [
    "def multiplicationTable(n):\n",
    "    return [n*i for i in range(1,11)]\n",
    "\n",
    "n = 10\n",
    "multiplicationTable(n)"
   ]
  },
  {
   "cell_type": "markdown",
   "id": "013a1739",
   "metadata": {},
   "source": [
    "#### Q6\n",
    "Write a python program to print the Fibonacci sequence."
   ]
  },
  {
   "cell_type": "code",
   "execution_count": 3,
   "id": "f5f895f0",
   "metadata": {},
   "outputs": [
    {
     "name": "stdout",
     "output_type": "stream",
     "text": [
      "0\n",
      "1\n",
      "1\n",
      "2\n",
      "3\n",
      "5\n",
      "8\n"
     ]
    }
   ],
   "source": [
    "def Fibonacci(nterms):\n",
    "    n1, n2 = 0, 1\n",
    "    count = 0\n",
    "    if nterms <= 0:\n",
    "        print(\"Please enter a positive integer\")\n",
    "    elif nterms == 1:\n",
    "        print(n1)\n",
    "    else:\n",
    "        while count < nterms:\n",
    "            print(n1)\n",
    "            nth = n1 + n2\n",
    "            n1 = n2\n",
    "            n2 = nth\n",
    "            count += 1\n",
    "\n",
    "\n",
    "n = 7\n",
    "Fibonacci(n)"
   ]
  },
  {
   "cell_type": "markdown",
   "id": "edbf417b",
   "metadata": {},
   "source": [
    "#### Q7\n",
    "Write a python program to find the HCF or GCD"
   ]
  },
  {
   "cell_type": "code",
   "execution_count": 4,
   "id": "1cdf6148",
   "metadata": {},
   "outputs": [
    {
     "name": "stdout",
     "output_type": "stream",
     "text": [
      "The H.C.F. of 54 and 24 is 6 \n"
     ]
    }
   ],
   "source": [
    "import enum\n",
    "def gcd(a, b):\n",
    "    if a == 0 or a == b:\n",
    "        return b\n",
    "    if b == 0:\n",
    "        return a\n",
    "\n",
    "    if a > b:\n",
    "        return gcd(a - b, b)\n",
    "    else:\n",
    "        return gcd(a, b - a)\n",
    "\n",
    "\n",
    "num1 = 54\n",
    "num2 = 24\n",
    "numgcd = gcd(num1, num2)\n",
    "print(\"The H.C.F. of %d and %d is %d \" % (num1, num2, numgcd))"
   ]
  },
  {
   "cell_type": "markdown",
   "id": "f273a9ee",
   "metadata": {},
   "source": [
    "#### Q8\n",
    "Write a python function to find the LCM"
   ]
  },
  {
   "cell_type": "code",
   "execution_count": 5,
   "id": "43761a15",
   "metadata": {},
   "outputs": [
    {
     "name": "stdout",
     "output_type": "stream",
     "text": [
      "The L.C.M. of 54 and 24 is 216 \n"
     ]
    }
   ],
   "source": [
    "num1 = 54\n",
    "num2 = 24\n",
    "numgcd = gcd(num1, num2)\n",
    "numlcm = num1 / numgcd * num2\n",
    "print(\"The L.C.M. of %d and %d is %d \" % (num1, num2, numlcm))"
   ]
  },
  {
   "cell_type": "markdown",
   "id": "470999ba",
   "metadata": {},
   "source": [
    "#### Q9\n",
    "Write a python functions for different set operation e.g., union, intersection, \n",
    "difference, and symmetric"
   ]
  },
  {
   "cell_type": "code",
   "execution_count": 6,
   "id": "5c1ef223",
   "metadata": {},
   "outputs": [
    {
     "name": "stdout",
     "output_type": "stream",
     "text": [
      "{0, 2, 4, 6, 8} {1, 2, 3, 4, 5}\n",
      "----------\n",
      "{0, 1, 2, 3, 4, 5, 6, 8}\n",
      "{2, 4}\n",
      "{0, 8, 6}\n",
      "{0, 1, 3, 5, 6, 8}\n"
     ]
    }
   ],
   "source": [
    "class setFunctions:\n",
    "    def __init__(self, set1, set2):\n",
    "        self.set1 = set1\n",
    "        self.set2 = set2\n",
    "\n",
    "    def union(self):\n",
    "        return self.set1 | self.set2\n",
    "    \n",
    "    def intersection(self):\n",
    "        return self.set1 & self.set2\n",
    "    \n",
    "    def difference(self):\n",
    "        return self.set1 - self.set2\n",
    "    \n",
    "    def symmetric(self):\n",
    "        return self.set1 ^ self.set2\n",
    "\n",
    "A = {0, 2, 4, 6, 8}\n",
    "B = {1, 2, 3, 4, 5}\n",
    "print(A, B)\n",
    "print('-'*10)\n",
    "\n",
    "sf = setFunctions(A, B)\n",
    "\n",
    "print(sf.union())\n",
    "print(sf.intersection())\n",
    "print(sf.difference())\n",
    "print(sf.symmetric())"
   ]
  },
  {
   "cell_type": "markdown",
   "id": "cb765175",
   "metadata": {},
   "source": [
    "#### Q 10\n",
    "Write a python program to find the resolution id JPEG image"
   ]
  },
  {
   "cell_type": "code",
   "execution_count": 7,
   "id": "e638cc68",
   "metadata": {},
   "outputs": [
    {
     "name": "stdout",
     "output_type": "stream",
     "text": [
      "The resolution of the image is 1000 x 585\n"
     ]
    }
   ],
   "source": [
    "import PIL\n",
    "from PIL import Image\n",
    "\n",
    "\n",
    "def jpeg_res(filename):\n",
    "    img = PIL.Image.open(filename)\n",
    "    wid, hgt = img.size\n",
    "    print(\"The resolution of the image is\",wid,\"x\",hgt)\n",
    "\n",
    "jpeg_res(\"Image.jpg\")"
   ]
  },
  {
   "cell_type": "markdown",
   "id": "8a9dbf6b",
   "metadata": {},
   "source": [
    "#### Q 11\n",
    " Write a python program to find the transpose of a matrix"
   ]
  },
  {
   "cell_type": "code",
   "execution_count": 8,
   "id": "c45507b6",
   "metadata": {},
   "outputs": [
    {
     "name": "stdout",
     "output_type": "stream",
     "text": [
      "[12, 4, 3]\n",
      "[7, 5, 8]\n"
     ]
    }
   ],
   "source": [
    "X = [[12,7],\n",
    "    [4 ,5],\n",
    "    [3 ,8]]\n",
    "\n",
    "result = [[X[j][i] for j in range(len(X))] for i in range(len(X[0]))]\n",
    "\n",
    "for r in result:\n",
    "    print(r)"
   ]
  },
  {
   "cell_type": "markdown",
   "id": "78d9b4a0",
   "metadata": {},
   "source": [
    "#### Q12\n",
    "Write a python program to compute the pairwise Euclidean distance \n",
    "between two numbers. The function takes two numbers in pairs (for \n",
    "example, (100,120)) and returns the Euclidean distance between them."
   ]
  },
  {
   "cell_type": "code",
   "execution_count": 25,
   "id": "bcfae753",
   "metadata": {},
   "outputs": [
    {
     "data": {
      "text/plain": [
       "1.0"
      ]
     },
     "execution_count": 25,
     "metadata": {},
     "output_type": "execute_result"
    }
   ],
   "source": [
    "from sklearn.metrics.pairwise import euclidean_distances\n",
    "\n",
    "def euclideanDistance(x1, x2, y1, y2):\n",
    "    X = [[x1,y1]]\n",
    "    Y = [[x2,y2]]\n",
    "\n",
    "    return euclidean_distances(X, Y)[0][0]\n",
    "\n",
    "x1, x2, y1, y2 = 0, 1, 1, 1\n",
    "euclideanDistance(x1, x2, y1, y2)"
   ]
  },
  {
   "cell_type": "markdown",
   "id": "629cf491",
   "metadata": {},
   "source": [
    "#### Q 13\n",
    "Write a python program to create an object e.g., Enum and display a \n",
    "member name and value."
   ]
  },
  {
   "cell_type": "code",
   "execution_count": 26,
   "id": "e4e4e5e6",
   "metadata": {},
   "outputs": [
    {
     "name": "stdout",
     "output_type": "stream",
     "text": [
      "\n",
      "Member name: Umar\n",
      "Member value: 24\n"
     ]
    }
   ],
   "source": [
    "from enum import Enum\n",
    "class Age(Enum):\n",
    "    Umar = 24\n",
    "    Hassan = 20\n",
    "\n",
    "print('\\nMember name: {}'.format(Age.Umar.name))\n",
    "print('Member value: {}'.format(Age.Umar.value))"
   ]
  },
  {
   "cell_type": "markdown",
   "id": "e65b6f04",
   "metadata": {},
   "source": [
    "#### Q 14\n",
    "Given a list of numbers, write a python function to return True if first and last \n",
    "number of a list is same."
   ]
  },
  {
   "cell_type": "code",
   "execution_count": 27,
   "id": "f169cb34",
   "metadata": {},
   "outputs": [
    {
     "data": {
      "text/plain": [
       "True"
      ]
     },
     "execution_count": 27,
     "metadata": {},
     "output_type": "execute_result"
    }
   ],
   "source": [
    "def firstLastSame(list1):\n",
    "    return list1[0] == list1[-1]\n",
    "\n",
    "\n",
    "list1 = [1,2,3,4,1]\n",
    "firstLastSame(list1)"
   ]
  },
  {
   "cell_type": "markdown",
   "id": "da7f3f66",
   "metadata": {},
   "source": [
    "#### Q 15\n",
    "Write a python function that takes three input variables and returns the\n",
    "largest of the three. Please do not use max() function"
   ]
  },
  {
   "cell_type": "code",
   "execution_count": 37,
   "id": "c60f8959",
   "metadata": {},
   "outputs": [
    {
     "name": "stdout",
     "output_type": "stream",
     "text": [
      "7\n"
     ]
    }
   ],
   "source": [
    "def maximumValue(a,b,c):\n",
    "    unsortedList = [a,b,c]\n",
    "    unsortedList.sort()\n",
    "    return unsortedList[-1]\n",
    "    \n",
    "a, b, c = 1,7,3\n",
    "print(maximumValue(a,b,c))"
   ]
  },
  {
   "cell_type": "markdown",
   "id": "23bc6b3e",
   "metadata": {},
   "source": [
    "#### Q 16\n",
    "Write a python code to find the cube of a number n. The function takes a \n",
    "number n returns the cube of this number."
   ]
  },
  {
   "cell_type": "code",
   "execution_count": 38,
   "id": "71cf7d5f",
   "metadata": {},
   "outputs": [
    {
     "data": {
      "text/plain": [
       "27"
      ]
     },
     "execution_count": 38,
     "metadata": {},
     "output_type": "execute_result"
    }
   ],
   "source": [
    "def cube(x):\n",
    "    return x ** 3\n",
    "\n",
    "x = 3\n",
    "cube(x)"
   ]
  },
  {
   "cell_type": "markdown",
   "id": "ac97ada6",
   "metadata": {},
   "source": [
    "#### Q 17\n",
    "Write a python program to compute the dot product of two sparse vectors"
   ]
  },
  {
   "cell_type": "code",
   "execution_count": 50,
   "id": "7e9fb414",
   "metadata": {},
   "outputs": [
    {
     "name": "stdout",
     "output_type": "stream",
     "text": [
      "54\n"
     ]
    }
   ],
   "source": [
    "def sparse_vector_dot(a: dict, b: dict):\n",
    "    return sum(b[key]*value for key, value in a.items() if key in b)\n",
    "\n",
    "a = {0:2, 1:4, 2:0, 3:0, 4:0, 5:6}\n",
    "b = {0:0, 1:3, 2:4, 3:0, 4:0, 5:7}\n",
    "print(sparse_vector_dot(a,b))"
   ]
  },
  {
   "cell_type": "markdown",
   "id": "219a239e",
   "metadata": {},
   "source": [
    "#### Q 18\n",
    "Write a python program to show the list of those numbers or elements which \n",
    "are added at the even positions"
   ]
  },
  {
   "cell_type": "code",
   "execution_count": 41,
   "id": "8adc5182",
   "metadata": {},
   "outputs": [
    {
     "data": {
      "text/plain": [
       "[2, 5, 8]"
      ]
     },
     "execution_count": 41,
     "metadata": {},
     "output_type": "execute_result"
    }
   ],
   "source": [
    "# some_list[start:stop:step]\n",
    "L = [1,2,3,4,5,6,7,8]\n",
    "Even = L[1::2]\n",
    "Even"
   ]
  },
  {
   "cell_type": "markdown",
   "id": "373a1920",
   "metadata": {},
   "source": [
    "#### Q 19\n",
    "Given two strings (e.g., S1=``America” and S2=``Japan”), write a python \n",
    "program that returns a new string made of the first, middle, and last char \n",
    "each input string"
   ]
  },
  {
   "cell_type": "code",
   "execution_count": 43,
   "id": "3926e7a4",
   "metadata": {},
   "outputs": [
    {
     "data": {
      "text/plain": [
       "('Ara', 'Jpn')"
      ]
     },
     "execution_count": 43,
     "metadata": {},
     "output_type": "execute_result"
    }
   ],
   "source": [
    "def threeLetters(word1, word2):\n",
    "    letters1 = word1[0] + word1[int(len(word1)/2)] + word1[-1]\n",
    "    letters2 = word2[0] + word2[int(len(word2)/2)] + word2[-1]\n",
    "    \n",
    "    return letters1, letters2\n",
    "\n",
    "\n",
    "word1, word2 = \"America\", \"Japan\"\n",
    "threeLetters(word1, word2)"
   ]
  },
  {
   "cell_type": "markdown",
   "id": "8b655a0b",
   "metadata": {},
   "source": [
    "#### Q 20\n",
    "Write a python program that arranges string characters such that lowercase \n",
    "letters comes first"
   ]
  },
  {
   "cell_type": "code",
   "execution_count": 46,
   "id": "fcd5ec0e",
   "metadata": {},
   "outputs": [
    {
     "data": {
      "text/plain": [
       "'kbbasdvhbhskBJHQWVU'"
      ]
     },
     "execution_count": 46,
     "metadata": {},
     "output_type": "execute_result"
    }
   ],
   "source": [
    "def lowerFirst(string1):\n",
    "    small, capitals = [], []\n",
    "    for w in string1:\n",
    "        if not w.isalpha():\n",
    "            continue\n",
    "        elif w.islower():\n",
    "            small.append(w)\n",
    "        else:\n",
    "            capitals.append(w)\n",
    "    return \"\".join(small) + \"\".join(capitals)\n",
    "\n",
    "string1 = \"kbbasBJHQWVUdv1342hbhsk\"\n",
    "lowerFirst(string1)"
   ]
  },
  {
   "cell_type": "code",
   "execution_count": null,
   "id": "23198fd4",
   "metadata": {},
   "outputs": [],
   "source": []
  }
 ],
 "metadata": {
  "kernelspec": {
   "display_name": "Python 3 (ipykernel)",
   "language": "python",
   "name": "python3"
  },
  "language_info": {
   "codemirror_mode": {
    "name": "ipython",
    "version": 3
   },
   "file_extension": ".py",
   "mimetype": "text/x-python",
   "name": "python",
   "nbconvert_exporter": "python",
   "pygments_lexer": "ipython3",
   "version": "3.9.6"
  }
 },
 "nbformat": 4,
 "nbformat_minor": 5
}
