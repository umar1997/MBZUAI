{
 "cells": [
  {
   "cell_type": "code",
   "execution_count": 1,
   "id": "da8ac5cc",
   "metadata": {},
   "outputs": [],
   "source": [
    "import gensim\n",
    "from gensim.utils import simple_preprocess\n",
    "from gensim import corpora"
   ]
  },
  {
   "cell_type": "code",
   "execution_count": 2,
   "id": "7d6cd159",
   "metadata": {},
   "outputs": [
    {
     "name": "stdout",
     "output_type": "stream",
     "text": [
      "[['don', 'know', 'what', 'tomorrow', 'brings'], ['can', 'know', 'can', 'you', 'know'], ['do', 'not', 'like', 'darkness']]\n"
     ]
    }
   ],
   "source": [
    "# List with 2 sentences\n",
    "my_docs = [\"I don't know what tomorrow brings?\",\n",
    "           \"Can I know? can you know?\", \n",
    "          \" I do not like darkness\"]\n",
    "\n",
    "# Tokenize the docs using Gensim’s 'simple_preprocess'. \n",
    "# Break it into words, also removing stop words (the 'I')\n",
    "tokenized_list = [simple_preprocess(doc) for doc in my_docs]\n",
    "print(tokenized_list)"
   ]
  },
  {
   "cell_type": "code",
   "execution_count": 3,
   "id": "86f13d5e",
   "metadata": {},
   "outputs": [
    {
     "data": {
      "text/plain": [
       "<gensim.corpora.dictionary.Dictionary at 0x2110911b940>"
      ]
     },
     "execution_count": 3,
     "metadata": {},
     "output_type": "execute_result"
    }
   ],
   "source": [
    "# Create a Dictionary object to be used in my function\n",
    "mydict = corpora.Dictionary()\n",
    "mydict"
   ]
  },
  {
   "cell_type": "code",
   "execution_count": 8,
   "id": "64adeb69",
   "metadata": {},
   "outputs": [
    {
     "name": "stdout",
     "output_type": "stream",
     "text": [
      "Dictionary(11 unique tokens: ['brings', 'don', 'know', 'tomorrow', 'what']...)\n"
     ]
    }
   ],
   "source": [
    "# Create my Corpus for the tokens available in list defined earlier\n",
    "mycorpus = [mydict.doc2bow(doc, allow_update=True) for doc in tokenized_list]\n",
    "\n",
    "#anothere interesting Gensim function is 'BoWCorpus', check it out with a toy example\n",
    "\n",
    "#print the token with its corresponding id\n",
    "print(mydict) "
   ]
  },
  {
   "cell_type": "code",
   "execution_count": 9,
   "id": "81ff66c3",
   "metadata": {},
   "outputs": [
    {
     "name": "stdout",
     "output_type": "stream",
     "text": [
      "{'brings': 0, 'don': 1, 'know': 2, 'tomorrow': 3, 'what': 4, 'can': 5, 'you': 6, 'darkness': 7, 'do': 8, 'like': 9, 'not': 10}\n"
     ]
    }
   ],
   "source": [
    "# Token to Id map\n",
    "print(mydict.token2id)"
   ]
  },
  {
   "cell_type": "code",
   "execution_count": 10,
   "id": "c3babcf4",
   "metadata": {},
   "outputs": [
    {
     "name": "stdout",
     "output_type": "stream",
     "text": [
      "[[(0, 1), (1, 1), (2, 1), (3, 1), (4, 1)], [(2, 2), (5, 2), (6, 1)], [(7, 1), (8, 1), (9, 1), (10, 1)]]\n"
     ]
    }
   ],
   "source": [
    "#print the word to id for every doc in human readable format\n",
    "print(mycorpus)"
   ]
  },
  {
   "cell_type": "code",
   "execution_count": 11,
   "id": "f26c6735",
   "metadata": {},
   "outputs": [
    {
     "name": "stdout",
     "output_type": "stream",
     "text": [
      "[[('brings', 1), ('don', 1), ('know', 1), ('tomorrow', 1), ('what', 1)], [('know', 2), ('can', 2), ('you', 1)], [('darkness', 1), ('do', 1), ('like', 1), ('not', 1)]]\n"
     ]
    }
   ],
   "source": [
    "word_counts = [[(mydict[id], count) for id, count in line] for line in mycorpus]\n",
    "print(word_counts)"
   ]
  },
  {
   "cell_type": "code",
   "execution_count": 12,
   "id": "0be8803f",
   "metadata": {},
   "outputs": [
    {
     "name": "stdout",
     "output_type": "stream",
     "text": [
      "SAVED Dictionary & CORPUS\n"
     ]
    }
   ],
   "source": [
    "# Save the Dict and Corpus\n",
    "mydict.save('mydict.dict')  # save dict to disk\n",
    "corpora.MmCorpus.serialize('bow_corpus.mm', mycorpus)  # save corpus to disk\n",
    "print(\"SAVED Dictionary & CORPUS\")"
   ]
  },
  {
   "cell_type": "code",
   "execution_count": 13,
   "id": "556ea426",
   "metadata": {},
   "outputs": [
    {
     "name": "stdout",
     "output_type": "stream",
     "text": [
      "loading them back & printing them\n",
      "[(0, 1.0), (1, 1.0), (2, 1.0), (3, 1.0), (4, 1.0)]\n",
      "[(2, 2.0), (5, 2.0), (6, 1.0)]\n",
      "[(7, 1.0), (8, 1.0), (9, 1.0), (10, 1.0)]\n"
     ]
    }
   ],
   "source": [
    "# Load them back for later use\n",
    "loaded_dict = corpora.Dictionary.load('mydict.dict')\n",
    "\n",
    "print(\"loading them back & printing them\")\n",
    "corpus = corpora.MmCorpus('bow_corpus.mm')\n",
    "\n",
    "#print corpus \n",
    "for line in corpus:\n",
    "    print(line)"
   ]
  }
 ],
 "metadata": {
  "kernelspec": {
   "display_name": "Python 3 (ipykernel)",
   "language": "python",
   "name": "python3"
  },
  "language_info": {
   "codemirror_mode": {
    "name": "ipython",
    "version": 3
   },
   "file_extension": ".py",
   "mimetype": "text/x-python",
   "name": "python",
   "nbconvert_exporter": "python",
   "pygments_lexer": "ipython3",
   "version": "3.9.6"
  }
 },
 "nbformat": 4,
 "nbformat_minor": 5
}
