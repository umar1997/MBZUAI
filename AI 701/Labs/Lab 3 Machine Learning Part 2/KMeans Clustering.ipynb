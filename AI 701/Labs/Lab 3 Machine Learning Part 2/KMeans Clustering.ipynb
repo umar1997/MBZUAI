{
 "cells": [
  {
   "cell_type": "markdown",
   "id": "41ebe900",
   "metadata": {},
   "source": [
    "## Task 2 K Means Clustering"
   ]
  },
  {
   "cell_type": "code",
   "execution_count": 1,
   "id": "10c2a9b7",
   "metadata": {},
   "outputs": [
    {
     "name": "stdout",
     "output_type": "stream",
     "text": [
      "data shape (250, 2)\n",
      "initial center  [[-0.82536192  0.65367423]\n",
      " [ 1.41451733 -0.44932467]\n",
      " [ 2.8278529  -1.01201554]]\n",
      "iteration 10\n",
      "[[-0.45150538  0.16733466]\n",
      " [ 0.94254383 -0.62905498]\n",
      " [ 1.50209148  0.54745453]]\n",
      "iteration 20\n",
      "[[-0.43983907  0.16050461]\n",
      " [ 0.96072271 -0.64988568]\n",
      " [ 1.49570393  0.53910492]]\n",
      "iteration 30\n",
      "[[-0.43983907  0.16050461]\n",
      " [ 0.96072271 -0.64988568]\n",
      " [ 1.49570393  0.53910492]]\n",
      "iteration 40\n",
      "[[-0.43983907  0.16050461]\n",
      " [ 0.96072271 -0.64988568]\n",
      " [ 1.49570393  0.53910492]]\n",
      "iteration 50\n",
      "[[-0.43983907  0.16050461]\n",
      " [ 0.96072271 -0.64988568]\n",
      " [ 1.49570393  0.53910492]]\n"
     ]
    },
    {
     "data": {
      "image/png": "[encoded data removed]",
      "text/plain": [
       "<Figure size 432x288 with 1 Axes>"
      ]
     },
     "metadata": {
      "needs_background": "light"
     },
     "output_type": "display_data"
    }
   ],
   "source": [
    "import numpy as np\n",
    "from matplotlib import pyplot as plt\n",
    "\n",
    "\n",
    "def initialize_centroids(points, k):\n",
    "    \"\"\"returns k centroids from the initial points\"\"\"\n",
    "    centroids = points.copy()\n",
    "    np.random.shuffle(centroids)\n",
    "    return centroids[:k]\n",
    "\n",
    "\n",
    "def closest_centroid(points, centroids):\n",
    "    \"\"\"returns an array containing the index to the nearest centroid for each point\"\"\"\n",
    "    distances = np.sqrt(((points - centroids[:, np.newaxis]) ** 2).sum(axis=2))\n",
    "    return np.argmin(distances, axis=0)\n",
    "\n",
    "\n",
    "def move_centroids(points, closest, centroids):\n",
    "    \"\"\"returns the new centroids assigned from the points closest to them\"\"\"\n",
    "    return np.array([points[closest == k].mean(axis=0) for k in range(centroids.shape[0])])\n",
    "\n",
    "\n",
    "def main_km():\n",
    "    points = np.vstack(((np.random.randn(150, 2) * 0.75 + np.array([1, 0])),\n",
    "                        (np.random.randn(50, 2) * 0.25 + np.array([-0.5, 0.5])),\n",
    "                        (np.random.randn(50, 2) * 0.5 + np.array([-0.5, -0.5]))))\n",
    "\n",
    "    print(r'data shape', points.shape)\n",
    "    c = initialize_centroids(points, 3)\n",
    "    print(r'initial center ', c)\n",
    "    for i in range(50):\n",
    "        closest_centroid(points, c)\n",
    "        c = move_centroids(points, closest_centroid(points, c), c)\n",
    "        if (i+1) % 10 == 0:\n",
    "            print(\"iteration %d\" % (i+1))\n",
    "            print(c)\n",
    "\n",
    "    plt.scatter(points[:, 0], points[:, 1])\n",
    "    plt.scatter(c[:, 0], c[:, 1], marker='^')\n",
    "    plt.show()\n",
    "\n",
    "\n",
    "if __name__ == '__main__':\n",
    "    main_km()"
   ]
  },
  {
   "cell_type": "markdown",
   "id": "888a1b62",
   "metadata": {},
   "source": [
    "#### T2-Part A: Understanding K-Means Clustering Algorithm \n",
    "In this exercise, you will be manually running k-means algorithm on a toy dataset.  \n",
    "Consider that you are given a 8 data samples as: R1 (185, 72), R2 (170,56), R3 (168,60), R4 (179,68), R5 (182,72), \n",
    "R6 (188,77), R7 (180,71), and R8 (180,70) and two initial clusters as C1 (185,72) and C2 (170,56).   \n",
    "Q 1: Assign each of data sample (e.g., data rows) to one of the two clusters.   \n",
    "Q 2: Estimate the cluster centroids after each row assignment.  \n"
   ]
  },
  {
   "cell_type": "code",
   "execution_count": 11,
   "id": "0a981b4d",
   "metadata": {},
   "outputs": [
    {
     "data": {
      "text/plain": [
       "([185, 170, 168, 179, 182, 188, 180, 180], [72, 56, 60, 68, 72, 77, 71, 70])"
      ]
     },
     "execution_count": 11,
     "metadata": {},
     "output_type": "execute_result"
    }
   ],
   "source": [
    "points = (185, 72),(170,56),(168,60),(179,68),(182,72),(188,77),(180,71),(180,70)\n",
    "x1, x2 = zip(*points)\n",
    "x1 = list(x1)\n",
    "x2 = list(x2)\n",
    "x1, x2"
   ]
  },
  {
   "cell_type": "code",
   "execution_count": 15,
   "id": "c069fa17",
   "metadata": {},
   "outputs": [],
   "source": [
    "centers = [[185,72], [170,56]]"
   ]
  },
  {
   "cell_type": "code",
   "execution_count": 25,
   "id": "19fb7526",
   "metadata": {},
   "outputs": [],
   "source": [
    "def assign_members(x1, x2, centers):\n",
    "    compare_to_first_center = np.sqrt(np.square(np.array(x1) - centers[0][0]) + np.square(np.array(x2) - centers[0][1]))\n",
    "    compare_to_second_center = np.sqrt(np.square(np.array(x1) - centers[1][0]) + np.square(np.array(x2) - centers[1][1]))\n",
    "#     print(compare_to_first_center, compare_to_second_center)\n",
    "    class_of_points = compare_to_first_center > compare_to_second_center\n",
    "    return class_of_points"
   ]
  },
  {
   "cell_type": "code",
   "execution_count": 27,
   "id": "4757e5b8",
   "metadata": {},
   "outputs": [
    {
     "data": {
      "text/plain": [
       "array(['C1', 'C2', 'C2', 'C1', 'C1', 'C1', 'C1', 'C1'], dtype='<U2')"
      ]
     },
     "execution_count": 27,
     "metadata": {},
     "output_type": "execute_result"
    }
   ],
   "source": [
    "assignedMembers = assign_members(x1, x2, centers)\n",
    "np.where(assignedMembers, 'C2', 'C1')"
   ]
  },
  {
   "cell_type": "code",
   "execution_count": 22,
   "id": "fb419c24",
   "metadata": {},
   "outputs": [],
   "source": [
    "def update_centers(x1, x2, class_of_points):\n",
    "    center1 = [np.mean(np.array(x1)[~class_of_points]), np.mean(np.array(x2)[~class_of_points])]\n",
    "    center2 = [np.mean(np.array(x1)[class_of_points]), np.mean(np.array(x2)[class_of_points])]\n",
    "    return [center1, center2]"
   ]
  },
  {
   "cell_type": "code",
   "execution_count": 23,
   "id": "e5fe8054",
   "metadata": {},
   "outputs": [
    {
     "name": "stdout",
     "output_type": "stream",
     "text": [
      "[ 2.68741925 19.93879524 18.4812217   4.95535625  0.47140452  7.78174502\n",
      "  2.4267033   2.86744176] [21.26029163  2.23606798  2.23606798 14.14213562 19.10497317 26.87005769\n",
      " 17.02938637 16.2788206 ]\n",
      "[False  True  True False False False False False]\n",
      "[[182.33333333333334, 71.66666666666667], [169.0, 58.0]]\n",
      "[ 2.68741925 19.93879524 18.4812217   4.95535625  0.47140452  7.78174502\n",
      "  2.4267033   2.86744176] [21.26029163  2.23606798  2.23606798 14.14213562 19.10497317 26.87005769\n",
      " 17.02938637 16.2788206 ]\n",
      "[False  True  True False False False False False]\n",
      "[[182.33333333333334, 71.66666666666667], [169.0, 58.0]]\n",
      "[ 2.68741925 19.93879524 18.4812217   4.95535625  0.47140452  7.78174502\n",
      "  2.4267033   2.86744176] [21.26029163  2.23606798  2.23606798 14.14213562 19.10497317 26.87005769\n",
      " 17.02938637 16.2788206 ]\n",
      "[False  True  True False False False False False]\n",
      "[[182.33333333333334, 71.66666666666667], [169.0, 58.0]]\n",
      "[ 2.68741925 19.93879524 18.4812217   4.95535625  0.47140452  7.78174502\n",
      "  2.4267033   2.86744176] [21.26029163  2.23606798  2.23606798 14.14213562 19.10497317 26.87005769\n",
      " 17.02938637 16.2788206 ]\n",
      "[False  True  True False False False False False]\n",
      "[[182.33333333333334, 71.66666666666667], [169.0, 58.0]]\n"
     ]
    }
   ],
   "source": [
    "number_of_iterations = 4\n",
    "for i in range(number_of_iterations):\n",
    "    class_of_points = assign_members(x1, x2, centers)\n",
    "    print(class_of_points)\n",
    "    centers = update_centers(x1, x2, class_of_points)\n",
    "    print(centers)"
   ]
  },
  {
   "cell_type": "markdown",
   "id": "067769fa",
   "metadata": {},
   "source": [
    "### T2-Part B: Implementing K-Means Clustering Algorithm \n",
    "Write a code for k-means clustering algorithm in the provided file. Initialize random points, and  \n",
    "then write three major functions for KMeans clustering including initializing random centroids,   \n",
    "assign each data sample to initialized centroids, and then update centroids.  \n",
    "#### Step 1: Initialize Random Points   \n",
    "import numpy as np  \n",
    "points = np.vstack(((np.random.randn(150, 2) * 0.75 + np.array([1, 0])),  \n",
    " (np.random.randn(50, 2) * 0.25 + np.array([-0.5, 0.5])),  \n",
    " (np.random.randn(50, 2) * 0.5 + np.array([-0.5, -0.5]))))  \n",
    "#### Step 2: Initializing random centroids   \n",
    "Write your code in the provided file.   \n",
    "#### Step 3: Assign each data sample to initialized centroids   \n",
    "Write your code in the provided file.   \n",
    "#### Step 4: Update centroids   \n",
    "Write your code in the provided file.  \n",
    "#### Step 5: show the points and the learned centroids after 50 iteration.  \n",
    "plt.scatter(points[:, 0], points[:, 1])  \n",
    "plt.scatter(c[:, 0], c[:, 1], marker='^')  \n",
    "plt.show()  "
   ]
  },
  {
   "cell_type": "code",
   "execution_count": 29,
   "id": "0afbb5f3",
   "metadata": {},
   "outputs": [],
   "source": [
    "import numpy as np\n",
    "points = np.vstack((\n",
    "    (np.random.randn(150, 2) * 0.75 + np.array([1, 0])),\n",
    "    (np.random.randn(50, 2) * 0.25 + np.array([-0.5, 0.5])),\n",
    "    (np.random.randn(50, 2) * 0.5 + np.array([-0.5, -0.5]))\n",
    "))"
   ]
  },
  {
   "cell_type": "code",
   "execution_count": 30,
   "id": "d7b89e6e",
   "metadata": {},
   "outputs": [
    {
     "data": {
      "text/plain": [
       "array([[ 9.22979471e-01,  3.94892480e-01],\n",
       "       [ 6.37317114e-01, -4.10534316e-01],\n",
       "       [ 3.01818348e-02, -8.90736197e-01],\n",
       "       [ 2.63908391e-01, -1.10157466e+00],\n",
       "       [ 1.32871211e+00, -2.42403010e-01],\n",
       "       [ 1.55614552e+00, -1.73353244e+00],\n",
       "       [ 8.25841969e-01,  2.55175848e-02],\n",
       "       [ 3.10552357e-01, -6.61918758e-01],\n",
       "       [ 1.02128619e+00,  1.54678310e+00],\n",
       "       [ 8.32765235e-02, -3.30162414e-01],\n",
       "       [ 9.79063109e-02,  1.06180244e+00],\n",
       "       [ 2.43675530e+00,  1.61072499e-02],\n",
       "       [ 6.14171291e-01, -9.12367501e-01],\n",
       "       [ 1.50787099e+00,  7.29899629e-01],\n",
       "       [ 1.53410363e+00,  2.65454964e-01],\n",
       "       [ 2.65009963e-01, -6.14921302e-01],\n",
       "       [ 2.14498921e+00,  3.57956771e-01],\n",
       "       [ 2.46484446e+00, -9.18076337e-01],\n",
       "       [ 1.45210687e+00, -8.23324739e-01],\n",
       "       [ 1.55552635e+00, -7.21703251e-01],\n",
       "       [ 1.61225887e+00,  4.83454878e-03],\n",
       "       [ 6.18716013e-01,  2.14379704e-01],\n",
       "       [ 1.10207831e+00, -1.08066766e+00],\n",
       "       [ 2.85620998e+00,  9.18534843e-01],\n",
       "       [ 6.83444803e-01,  6.43303494e-01],\n",
       "       [ 1.52553730e-01, -8.47801849e-01],\n",
       "       [ 1.57485243e+00,  4.90909980e-02],\n",
       "       [ 1.08754652e+00,  2.72399693e-01],\n",
       "       [ 1.09326743e+00, -4.05468272e-01],\n",
       "       [ 1.21786538e+00,  3.39588537e-01],\n",
       "       [ 3.69571518e-01,  8.18046608e-02],\n",
       "       [-1.03515031e-01, -8.64269107e-01],\n",
       "       [ 1.41669158e+00, -2.20752254e-01],\n",
       "       [ 1.84141605e+00, -7.77978072e-02],\n",
       "       [ 3.45925360e-01, -4.89941325e-01],\n",
       "       [ 5.39887892e-01,  1.01764962e-01],\n",
       "       [ 3.55233571e-01, -3.68673872e-01],\n",
       "       [ 7.52488019e-01,  8.66485834e-01],\n",
       "       [ 1.22831851e+00, -1.57912134e+00],\n",
       "       [ 7.84227499e-01,  2.40912991e-01],\n",
       "       [-2.89320976e-01,  1.03169646e+00],\n",
       "       [ 2.05397570e+00,  7.17269428e-01],\n",
       "       [ 4.77940322e-01,  1.10179188e+00],\n",
       "       [ 1.43738354e+00,  8.01001425e-02],\n",
       "       [ 3.36681723e-01,  2.75498765e-01],\n",
       "       [ 2.20108105e+00,  5.20892699e-01],\n",
       "       [ 4.76055058e-01,  1.73300850e+00],\n",
       "       [ 1.90274517e+00,  8.44752305e-01],\n",
       "       [ 7.89095732e-01,  1.13242797e+00],\n",
       "       [ 9.46350638e-01,  6.21070632e-01],\n",
       "       [ 1.85257273e+00, -2.21562170e-03],\n",
       "       [ 2.17118895e-01,  9.24201934e-01],\n",
       "       [ 7.83217480e-01,  5.64354808e-01],\n",
       "       [ 4.97147232e-01, -2.25607460e-01],\n",
       "       [ 3.27997258e-01,  1.78252403e+00],\n",
       "       [ 6.40632027e-01, -6.45904875e-01],\n",
       "       [ 1.37514582e-02, -9.92356516e-01],\n",
       "       [ 2.77554852e+00, -4.90968799e-01],\n",
       "       [ 1.03579216e+00, -7.42672273e-02],\n",
       "       [ 1.25969772e+00, -5.81458823e-01],\n",
       "       [ 1.04991125e+00, -1.23743917e+00],\n",
       "       [ 1.95542716e+00,  5.31213879e-02],\n",
       "       [ 1.43413013e+00, -1.66600434e+00],\n",
       "       [-1.64916770e-01, -1.13253876e+00],\n",
       "       [ 1.10133391e+00, -8.18041090e-02],\n",
       "       [ 1.53725651e+00,  5.67929768e-02],\n",
       "       [ 1.27371864e+00,  3.17452944e-03],\n",
       "       [ 9.32130249e-01,  9.39403492e-01],\n",
       "       [ 8.81590770e-01,  6.28631487e-01],\n",
       "       [ 7.63094847e-01,  1.05753509e+00],\n",
       "       [ 9.23570016e-01, -1.13501397e+00],\n",
       "       [ 7.92264535e-01,  3.90692230e-01],\n",
       "       [ 1.59033371e+00,  3.26944570e-01],\n",
       "       [ 1.44066164e+00,  4.00084103e-01],\n",
       "       [ 6.13304135e-01, -1.66285916e-01],\n",
       "       [ 1.16823905e+00, -5.86175494e-01],\n",
       "       [ 1.65307214e+00, -1.06698657e+00],\n",
       "       [ 7.47681050e-01,  3.35308411e-01],\n",
       "       [ 1.08100212e+00,  1.02522286e+00],\n",
       "       [ 1.51743209e+00,  4.11585461e-01],\n",
       "       [ 1.30717982e+00, -4.91428945e-02],\n",
       "       [ 1.43981386e+00, -1.99628781e-01],\n",
       "       [ 1.03520873e+00,  6.93852478e-01],\n",
       "       [ 1.10478798e+00,  1.05875379e+00],\n",
       "       [-7.24116682e-01, -1.59582029e-01],\n",
       "       [-8.03137722e-01, -3.04391264e-01],\n",
       "       [ 1.25129839e+00, -3.50012877e-01],\n",
       "       [ 2.12321784e+00, -8.67220714e-02],\n",
       "       [ 6.50331490e-01,  1.37001819e-01],\n",
       "       [ 2.07050147e+00, -3.32001733e-01],\n",
       "       [ 2.03541454e+00,  2.17742557e-01],\n",
       "       [ 7.84656331e-01,  2.80304617e-01],\n",
       "       [ 1.24342668e+00,  1.32881877e+00],\n",
       "       [ 1.00953061e+00,  4.45994898e-01],\n",
       "       [-1.13960729e-01,  1.05932273e+00],\n",
       "       [ 9.08251994e-01, -3.64437923e-01],\n",
       "       [-4.10228451e-02,  5.94502142e-01],\n",
       "       [ 1.36943013e+00, -1.21535734e-01],\n",
       "       [ 4.55353409e-01,  8.50760979e-01],\n",
       "       [ 8.56745897e-01,  1.98537621e-02],\n",
       "       [ 1.50190561e+00,  8.52834226e-01],\n",
       "       [ 1.23003393e+00, -3.24946431e-01],\n",
       "       [ 1.51389727e+00,  2.88286498e-01],\n",
       "       [ 5.09327277e-01, -2.48607988e-01],\n",
       "       [ 8.94667055e-01,  4.73563726e-01],\n",
       "       [ 1.52906726e+00,  2.75732387e-01],\n",
       "       [ 1.39976861e+00,  5.54900753e-01],\n",
       "       [ 2.03953556e+00, -5.23225946e-01],\n",
       "       [ 7.73688958e-01,  1.11008378e-01],\n",
       "       [ 7.72854189e-01,  8.73344662e-01],\n",
       "       [ 9.00450033e-01,  7.47244260e-01],\n",
       "       [ 1.08108156e+00,  6.87409301e-01],\n",
       "       [ 2.84027827e-01, -5.10816835e-01],\n",
       "       [ 7.46900034e-01,  8.96564191e-01],\n",
       "       [ 1.13048865e+00,  1.26118887e+00],\n",
       "       [ 2.34540033e+00,  3.71703058e-01],\n",
       "       [ 2.41451077e+00,  8.71654098e-01],\n",
       "       [ 1.13725804e+00, -1.77002617e-01],\n",
       "       [ 1.06480165e+00,  1.59397630e-01],\n",
       "       [ 1.30106930e+00, -5.35600520e-01],\n",
       "       [ 1.70923992e+00, -1.73687338e-01],\n",
       "       [ 4.10364592e-01,  5.41711160e-01],\n",
       "       [-5.49670212e-01, -5.31911462e-01],\n",
       "       [ 1.30478041e-01, -4.63283325e-01],\n",
       "       [ 1.34001288e+00,  5.89950423e-01],\n",
       "       [ 6.90098452e-01,  1.04099109e+00],\n",
       "       [ 2.08971460e+00,  6.43594711e-02],\n",
       "       [ 5.05562596e-01, -4.46309180e-01],\n",
       "       [-5.74209382e-01,  5.78213030e-01],\n",
       "       [ 3.93029113e-01,  7.36748353e-01],\n",
       "       [ 1.43165527e+00,  1.28875712e+00],\n",
       "       [ 1.04369253e+00, -7.41936104e-01],\n",
       "       [-3.45356296e-01,  5.23810461e-01],\n",
       "       [ 2.02013138e+00, -1.34133200e+00],\n",
       "       [ 2.75874489e-01, -4.52217857e-01],\n",
       "       [-1.29718932e-01,  9.66151293e-01],\n",
       "       [ 1.48595128e+00,  1.23558796e+00],\n",
       "       [-9.15840395e-02,  8.95605778e-01],\n",
       "       [ 1.36878754e+00, -2.30837842e-01],\n",
       "       [ 1.59243024e+00,  6.80946404e-01],\n",
       "       [ 1.13478983e+00, -1.29699103e+00],\n",
       "       [ 2.75684267e+00, -2.88844124e-01],\n",
       "       [ 6.59532479e-01, -1.48400754e+00],\n",
       "       [ 1.06826902e+00,  3.30418382e-01],\n",
       "       [ 4.09880960e-01, -4.15554967e-03],\n",
       "       [ 7.06763681e-01,  2.29924824e-01],\n",
       "       [ 1.54102892e+00,  2.16829183e-01],\n",
       "       [ 1.32712444e+00, -3.46269880e-01],\n",
       "       [ 1.53725263e+00, -1.36122749e+00],\n",
       "       [ 1.06038735e+00, -5.09860705e-01],\n",
       "       [-6.91706916e-01,  6.16356689e-01],\n",
       "       [-7.47146033e-01,  3.82772563e-01],\n",
       "       [-6.08195439e-01,  5.03080816e-01],\n",
       "       [-7.62595009e-01,  4.22836980e-01],\n",
       "       [-9.28670055e-01,  7.35041155e-01],\n",
       "       [-1.86446274e-01,  8.68970682e-02],\n",
       "       [-9.94274660e-01,  9.37986621e-02],\n",
       "       [-5.33629654e-01,  6.40370613e-01],\n",
       "       [-4.89352177e-01,  4.69788887e-01],\n",
       "       [-9.12548476e-01,  4.88690362e-01],\n",
       "       [-6.14740532e-01,  3.41044943e-01],\n",
       "       [-3.37577176e-01,  2.35547085e-01],\n",
       "       [-7.53874305e-01,  3.03897128e-01],\n",
       "       [-6.06159527e-01,  5.94022854e-01],\n",
       "       [-4.82672699e-01,  5.12958234e-01],\n",
       "       [-2.18057319e-01,  4.07153176e-01],\n",
       "       [-2.92765921e-01,  6.78407296e-01],\n",
       "       [-5.20491624e-01,  2.75651089e-01],\n",
       "       [-5.98261112e-01,  5.09087720e-01],\n",
       "       [-6.45395200e-01,  5.23361165e-01],\n",
       "       [-4.38844684e-01,  1.55745497e-01],\n",
       "       [-3.99490515e-01,  4.26654653e-01],\n",
       "       [-7.65069007e-01,  4.25674438e-01],\n",
       "       [-5.74463836e-02,  5.82169314e-01],\n",
       "       [-6.39414301e-01,  6.29742351e-01],\n",
       "       [-3.57402318e-01,  4.03277561e-01],\n",
       "       [-7.57603092e-01,  5.26996015e-01],\n",
       "       [-9.32798500e-01,  6.17804033e-01],\n",
       "       [-4.70840059e-01,  7.84024645e-01],\n",
       "       [-5.25637879e-01,  3.98607334e-01],\n",
       "       [-2.47318382e-01,  5.33325104e-01],\n",
       "       [-5.60114156e-01,  7.31839266e-01],\n",
       "       [-6.17143294e-01,  7.12390262e-01],\n",
       "       [-2.08420095e-01,  8.61316470e-01],\n",
       "       [-7.59147915e-01,  4.80233300e-02],\n",
       "       [-6.77298662e-01,  2.65504587e-01],\n",
       "       [-1.22123847e-01,  3.09106714e-01],\n",
       "       [-5.86673379e-01,  3.04310077e-01],\n",
       "       [-3.14790878e-01,  1.81760265e-01],\n",
       "       [-3.34646090e-01,  8.07877936e-01],\n",
       "       [-3.50725346e-01,  5.75382938e-01],\n",
       "       [-6.37677326e-01,  8.74580535e-01],\n",
       "       [-8.37429501e-01,  4.73180723e-01],\n",
       "       [-7.53122852e-01,  5.83008602e-01],\n",
       "       [-4.27268368e-01,  1.44449623e-01],\n",
       "       [-8.52709514e-01,  8.34458361e-01],\n",
       "       [ 1.04671014e-01,  3.90911122e-01],\n",
       "       [-5.99977408e-01,  4.39471016e-01],\n",
       "       [-5.42969831e-01, -3.24325843e-02],\n",
       "       [-3.74375934e-01,  4.79918262e-01],\n",
       "       [-1.10805006e+00, -7.73487688e-01],\n",
       "       [-4.87524451e-01, -8.01764529e-01],\n",
       "       [-5.76821735e-03, -2.48193501e-01],\n",
       "       [ 3.74452705e-01, -3.35203511e-01],\n",
       "       [-6.80936409e-01,  2.26690270e-01],\n",
       "       [-3.89321481e-01, -1.26725229e-01],\n",
       "       [-8.75040347e-01, -1.07647190e+00],\n",
       "       [-1.15125099e-01,  2.16390288e-01],\n",
       "       [ 2.65444328e-01,  6.03262329e-01],\n",
       "       [-9.76389152e-01, -4.69305847e-01],\n",
       "       [-4.17072464e-01, -6.61497011e-01],\n",
       "       [-7.44388015e-01, -1.37262749e+00],\n",
       "       [ 4.75686204e-03,  1.46307235e-01],\n",
       "       [-8.26617051e-01, -6.64624416e-01],\n",
       "       [-5.05264785e-01, -7.47041954e-01],\n",
       "       [-7.26888254e-01, -1.11952635e+00],\n",
       "       [-7.53623037e-02, -8.48747298e-01],\n",
       "       [-9.33986799e-01,  2.09778779e-01],\n",
       "       [-6.89739438e-01,  1.10419627e-01],\n",
       "       [-4.65261929e-01,  5.53141050e-02],\n",
       "       [-9.19977375e-01, -2.50990906e-01],\n",
       "       [-2.22696056e-01, -9.43643933e-02],\n",
       "       [-1.10936714e+00, -3.15780482e-01],\n",
       "       [-1.19983693e+00, -9.49223404e-01],\n",
       "       [-7.89937317e-01,  7.58809816e-02],\n",
       "       [-2.41655681e-01,  2.69193577e-01],\n",
       "       [-5.83855483e-01, -2.88216511e-01],\n",
       "       [-7.55438628e-01, -1.15486653e+00],\n",
       "       [-3.22798402e-01,  7.16793689e-02],\n",
       "       [-5.23769176e-02,  2.88531112e-01],\n",
       "       [-8.11323543e-02, -3.08532296e-01],\n",
       "       [ 8.33332779e-02, -2.80744640e-01],\n",
       "       [-9.19664849e-01,  3.52058072e-01],\n",
       "       [-2.25601763e+00, -5.56490016e-01],\n",
       "       [-2.10235602e-01, -1.05309608e+00],\n",
       "       [ 2.50174902e-01, -8.27906466e-01],\n",
       "       [-4.35399900e-01, -6.77131773e-01],\n",
       "       [-7.24482538e-01, -1.30961232e+00],\n",
       "       [-7.93179733e-02,  8.42499367e-01],\n",
       "       [-3.83720323e-01, -6.11905690e-01],\n",
       "       [-6.80193406e-01, -5.83302034e-01],\n",
       "       [-9.55650180e-01, -1.58201101e-01],\n",
       "       [-1.22317854e+00, -8.93245050e-02],\n",
       "       [-6.08487994e-01, -8.00327530e-01],\n",
       "       [ 4.49646901e-01,  5.54038805e-02],\n",
       "       [-3.11193842e-01,  6.22344540e-01],\n",
       "       [-1.03257654e-02, -8.16121883e-01],\n",
       "       [-1.24376696e+00, -6.77641569e-01],\n",
       "       [-1.75502191e-01, -1.04407919e+00],\n",
       "       [-9.21938394e-01, -4.78547464e-01]])"
      ]
     },
     "execution_count": 30,
     "metadata": {},
     "output_type": "execute_result"
    }
   ],
   "source": [
    "points"
   ]
  },
  {
   "cell_type": "code",
   "execution_count": 32,
   "id": "6888d1bf",
   "metadata": {},
   "outputs": [
    {
     "data": {
      "text/plain": [
       "array([[ 0.90045003,  0.74724426],\n",
       "       [-0.61474053,  0.34104494],\n",
       "       [-0.31119384,  0.62234454]])"
      ]
     },
     "execution_count": 32,
     "metadata": {},
     "output_type": "execute_result"
    }
   ],
   "source": [
    "def initialize_centroids(points, k):\n",
    "    \"\"\"returns k centroids from the initial points\"\"\"\n",
    "    centroids = points.copy()\n",
    "    np.random.shuffle(centroids)\n",
    "    return centroids[:k]\n",
    "k = 3\n",
    "centroids = initialize_centroids(points, k)\n",
    "centroids"
   ]
  },
  {
   "cell_type": "code",
   "execution_count": 46,
   "id": "bfd47a11",
   "metadata": {},
   "outputs": [
    {
     "data": {
      "text/plain": [
       "3"
      ]
     },
     "execution_count": 46,
     "metadata": {},
     "output_type": "execute_result"
    }
   ],
   "source": [
    "centroids.shape[0]"
   ]
  },
  {
   "cell_type": "code",
   "execution_count": 43,
   "id": "53869b8c",
   "metadata": {},
   "outputs": [
    {
     "data": {
      "text/plain": [
       "array([0, 0, 1, 1, 0, 0, 0, 1, 0, 1, 2, 0, 0, 0, 0, 1, 0, 0, 0, 0, 0, 0,\n",
       "       0, 0, 0, 1, 0, 0, 0, 0, 0, 1, 0, 0, 1, 0, 2, 0, 0, 0, 2, 0, 0, 0,\n",
       "       2, 0, 0, 0, 0, 0, 0, 2, 0, 0, 0, 0, 1, 0, 0, 0, 0, 0, 0, 1, 0, 0,\n",
       "       0, 0, 0, 0, 0, 0, 0, 0, 0, 0, 0, 0, 0, 0, 0, 0, 0, 0, 1, 1, 0, 0,\n",
       "       0, 0, 0, 0, 0, 0, 2, 0, 2, 0, 0, 0, 0, 0, 0, 0, 0, 0, 0, 0, 0, 0,\n",
       "       0, 0, 1, 0, 0, 0, 0, 0, 0, 0, 0, 0, 1, 1, 0, 0, 0, 0, 1, 0, 0, 0,\n",
       "       2, 0, 1, 2, 0, 2, 0, 0, 0, 0, 1, 0, 0, 0, 0, 0, 0, 0, 1, 1, 1, 1,\n",
       "       1, 1, 1, 2, 1, 1, 1, 1, 1, 1, 2, 2, 2, 1, 1, 1, 1, 2, 1, 2, 1, 2,\n",
       "       1, 1, 2, 1, 2, 2, 2, 2, 1, 1, 2, 1, 1, 2, 2, 2, 1, 1, 1, 1, 2, 1,\n",
       "       1, 2, 1, 1, 1, 2, 1, 1, 1, 2, 2, 1, 1, 1, 2, 1, 1, 1, 1, 1, 1, 1,\n",
       "       1, 1, 1, 1, 1, 2, 1, 1, 1, 2, 1, 1, 1, 1, 1, 1, 1, 1, 2, 1, 1, 1,\n",
       "       1, 1, 0, 2, 1, 1, 1, 1], dtype=int64)"
      ]
     },
     "execution_count": 43,
     "metadata": {},
     "output_type": "execute_result"
    }
   ],
   "source": [
    "def closest_centroid(points, centroids):\n",
    "    \"\"\"returns an array containing the index to the nearest centroid for each point\"\"\"\n",
    "    distances = np.sqrt(((points - centroids[:, np.newaxis]) ** 2).sum(axis=2))\n",
    "    return np.argmin(distances, axis=0)\n",
    "\n",
    "closest = closest_centroid(points, centroids)\n",
    "closest"
   ]
  },
  {
   "cell_type": "code",
   "execution_count": 47,
   "id": "420b959c",
   "metadata": {},
   "outputs": [],
   "source": [
    "def move_centroids(points, closest, centroids):\n",
    "    \"\"\"returns the new centroids assigned from the points closest to them\"\"\"\n",
    "    updatedCenters = [ points[closest == k].mean(axis=0) for k in range(centroids.shape[0])]\n",
    "    return np.array(updatedCenters)"
   ]
  },
  {
   "cell_type": "code",
   "execution_count": 49,
   "id": "bb3fecb7",
   "metadata": {},
   "outputs": [
    {
     "data": {
      "text/plain": [
       "array([[ 1.24145845,  0.12297355],\n",
       "       [-0.51890539, -0.21769932],\n",
       "       [-0.17553381,  0.56469187]])"
      ]
     },
     "execution_count": 49,
     "metadata": {},
     "output_type": "execute_result"
    }
   ],
   "source": [
    "c = move_centroids(points, closest, centroids)\n",
    "c"
   ]
  },
  {
   "cell_type": "code",
   "execution_count": 50,
   "id": "f62f0338",
   "metadata": {},
   "outputs": [
    {
     "data": {
      "image/png": "[encoded data removed]",
      "text/plain": [
       "<Figure size 432x288 with 1 Axes>"
      ]
     },
     "metadata": {
      "needs_background": "light"
     },
     "output_type": "display_data"
    }
   ],
   "source": [
    "plt.scatter(points[:, 0], points[:, 1])\n",
    "plt.scatter(c[:, 0], c[:, 1], marker='^')\n",
    "plt.show()"
   ]
  },
  {
   "cell_type": "code",
   "execution_count": null,
   "id": "02e01f43",
   "metadata": {},
   "outputs": [],
   "source": []
  },
  {
   "cell_type": "code",
   "execution_count": null,
   "id": "875233dc",
   "metadata": {},
   "outputs": [],
   "source": []
  },
  {
   "cell_type": "code",
   "execution_count": null,
   "id": "01509ab2",
   "metadata": {},
   "outputs": [],
   "source": []
  },
  {
   "cell_type": "code",
   "execution_count": null,
   "id": "316157a1",
   "metadata": {},
   "outputs": [],
   "source": []
  },
  {
   "cell_type": "code",
   "execution_count": null,
   "id": "c08da0c5",
   "metadata": {},
   "outputs": [],
   "source": []
  },
  {
   "cell_type": "code",
   "execution_count": null,
   "id": "838eae37",
   "metadata": {},
   "outputs": [],
   "source": []
  },
  {
   "cell_type": "code",
   "execution_count": null,
   "id": "5069d686",
   "metadata": {},
   "outputs": [],
   "source": []
  },
  {
   "cell_type": "code",
   "execution_count": null,
   "id": "fc6d8f82",
   "metadata": {},
   "outputs": [],
   "source": []
  },
  {
   "cell_type": "code",
   "execution_count": null,
   "id": "5dee1691",
   "metadata": {},
   "outputs": [],
   "source": []
  },
  {
   "cell_type": "code",
   "execution_count": null,
   "id": "85bd775e",
   "metadata": {},
   "outputs": [],
   "source": []
  },
  {
   "cell_type": "code",
   "execution_count": null,
   "id": "e8ca5405",
   "metadata": {},
   "outputs": [],
   "source": []
  },
  {
   "cell_type": "code",
   "execution_count": null,
   "id": "f278581f",
   "metadata": {},
   "outputs": [],
   "source": []
  },
  {
   "cell_type": "code",
   "execution_count": null,
   "id": "0360ab37",
   "metadata": {},
   "outputs": [],
   "source": []
  },
  {
   "cell_type": "code",
   "execution_count": null,
   "id": "8423a125",
   "metadata": {},
   "outputs": [],
   "source": []
  },
  {
   "cell_type": "code",
   "execution_count": 53,
   "id": "da0e1f00",
   "metadata": {},
   "outputs": [],
   "source": [
    "import numpy as np"
   ]
  },
  {
   "cell_type": "code",
   "execution_count": 79,
   "id": "297cdf84",
   "metadata": {},
   "outputs": [
    {
     "data": {
      "text/plain": [
       "([1, 1, 3, 2], [0, 2, 0, 2])"
      ]
     },
     "execution_count": 79,
     "metadata": {},
     "output_type": "execute_result"
    }
   ],
   "source": [
    "points = (1, 0),(1,2),(3,0),(2,2)\n",
    "x1, x2 = zip(*points)\n",
    "x1 = list(x1)\n",
    "x2 = list(x2)\n",
    "x1, x2"
   ]
  },
  {
   "cell_type": "code",
   "execution_count": 80,
   "id": "c079bf94",
   "metadata": {},
   "outputs": [],
   "source": [
    "centers = [[2,3], [2,-1]]"
   ]
  },
  {
   "cell_type": "code",
   "execution_count": 81,
   "id": "2ed7e00b",
   "metadata": {},
   "outputs": [],
   "source": [
    "def assign_members(x1, x2, centers):\n",
    "    print(np.square(np.array(x1) - centers[0][0]) + np.square(np.array(x2) - centers[0][1]))\n",
    "    print(np.square(np.array(x1) - centers[1][0]) + np.square(np.array(x2) - centers[1][1]))\n",
    "    compare_to_first_center = np.sqrt(np.square(np.array(x1) - centers[0][0]) + np.square(np.array(x2) - centers[0][1]))\n",
    "    compare_to_second_center = np.sqrt(np.square(np.array(x1) - centers[1][0]) + np.square(np.array(x2) - centers[1][1]))\n",
    "    print(compare_to_first_center, compare_to_second_center)\n",
    "    class_of_points = compare_to_first_center > compare_to_second_center\n",
    "    return class_of_points"
   ]
  },
  {
   "cell_type": "code",
   "execution_count": 82,
   "id": "92fa93b8",
   "metadata": {},
   "outputs": [],
   "source": [
    "def update_centers(x1, x2, class_of_points):\n",
    "    center1 = [np.mean(np.array(x1)[~class_of_points]), np.mean(np.array(x2)[~class_of_points])]\n",
    "    center2 = [np.mean(np.array(x1)[class_of_points]), np.mean(np.array(x2)[class_of_points])]\n",
    "    return [center1, center2]"
   ]
  },
  {
   "cell_type": "code",
   "execution_count": 83,
   "id": "6367d988",
   "metadata": {},
   "outputs": [
    {
     "name": "stdout",
     "output_type": "stream",
     "text": [
      "[10  2 10  1]\n",
      "[ 2 10  2  9]\n",
      "[3.16227766 1.41421356 3.16227766 1.        ] [1.41421356 3.16227766 1.41421356 3.        ]\n"
     ]
    },
    {
     "data": {
      "text/plain": [
       "array(['C2', 'C1', 'C2', 'C1'], dtype='<U2')"
      ]
     },
     "execution_count": 83,
     "metadata": {},
     "output_type": "execute_result"
    }
   ],
   "source": [
    "assignedMembers = assign_members(x1, x2, centers)\n",
    "np.where(assignedMembers, 'C2', 'C1')"
   ]
  },
  {
   "cell_type": "code",
   "execution_count": 84,
   "id": "d7013349",
   "metadata": {},
   "outputs": [
    {
     "data": {
      "text/plain": [
       "[[1.5, 2.0], [2.0, 0.0]]"
      ]
     },
     "execution_count": 84,
     "metadata": {},
     "output_type": "execute_result"
    }
   ],
   "source": [
    "centers = update_centers(x1, x2, assignedMembers)\n",
    "centers"
   ]
  },
  {
   "cell_type": "code",
   "execution_count": 85,
   "id": "fd0f697f",
   "metadata": {},
   "outputs": [
    {
     "name": "stdout",
     "output_type": "stream",
     "text": [
      "[4.25 0.25 6.25 0.25]\n",
      "[1. 5. 1. 4.]\n",
      "[2.06155281 0.5        2.5        0.5       ] [1.         2.23606798 1.         2.        ]\n"
     ]
    },
    {
     "data": {
      "text/plain": [
       "array(['C2', 'C1', 'C2', 'C1'], dtype='<U2')"
      ]
     },
     "execution_count": 85,
     "metadata": {},
     "output_type": "execute_result"
    }
   ],
   "source": [
    "assignedMembers = assign_members(x1, x2, centers)\n",
    "np.where(assignedMembers, 'C2', 'C1')"
   ]
  },
  {
   "cell_type": "code",
   "execution_count": 86,
   "id": "d504586a",
   "metadata": {},
   "outputs": [
    {
     "data": {
      "text/plain": [
       "[[1.5, 2.0], [2.0, 0.0]]"
      ]
     },
     "execution_count": 86,
     "metadata": {},
     "output_type": "execute_result"
    }
   ],
   "source": [
    "update_centers(x1, x2, assignedMembers)"
   ]
  },
  {
   "cell_type": "code",
   "execution_count": null,
   "id": "37e0fa3b",
   "metadata": {},
   "outputs": [],
   "source": []
  },
  {
   "cell_type": "code",
   "execution_count": null,
   "id": "fd94d18e",
   "metadata": {},
   "outputs": [],
   "source": []
  },
  {
   "cell_type": "code",
   "execution_count": null,
   "id": "d865d7f9",
   "metadata": {},
   "outputs": [],
   "source": []
  },
  {
   "cell_type": "code",
   "execution_count": 90,
   "id": "059bccb1",
   "metadata": {},
   "outputs": [],
   "source": [
    "centers = [[0,1], [3,2]]"
   ]
  },
  {
   "cell_type": "code",
   "execution_count": 91,
   "id": "53b019a0",
   "metadata": {},
   "outputs": [
    {
     "name": "stdout",
     "output_type": "stream",
     "text": [
      "[ 2  2 10  5]\n",
      "[8 4 4 1]\n",
      "[1.41421356 1.41421356 3.16227766 2.23606798] [2.82842712 2.         2.         1.        ]\n"
     ]
    },
    {
     "data": {
      "text/plain": [
       "array(['C1', 'C1', 'C2', 'C2'], dtype='<U2')"
      ]
     },
     "execution_count": 91,
     "metadata": {},
     "output_type": "execute_result"
    }
   ],
   "source": [
    "assignedMembers = assign_members(x1, x2, centers)\n",
    "np.where(assignedMembers, 'C2', 'C1')"
   ]
  },
  {
   "cell_type": "code",
   "execution_count": 92,
   "id": "a00926d8",
   "metadata": {},
   "outputs": [
    {
     "data": {
      "text/plain": [
       "[[1.0, 1.0], [2.5, 1.0]]"
      ]
     },
     "execution_count": 92,
     "metadata": {},
     "output_type": "execute_result"
    }
   ],
   "source": [
    "centers = update_centers(x1, x2, assignedMembers)\n",
    "centers"
   ]
  },
  {
   "cell_type": "code",
   "execution_count": 93,
   "id": "8a44b0f9",
   "metadata": {},
   "outputs": [
    {
     "name": "stdout",
     "output_type": "stream",
     "text": [
      "[1. 1. 5. 2.]\n",
      "[3.25 3.25 1.25 1.25]\n",
      "[1.         1.         2.23606798 1.41421356] [1.80277564 1.80277564 1.11803399 1.11803399]\n"
     ]
    },
    {
     "data": {
      "text/plain": [
       "array(['C1', 'C1', 'C2', 'C2'], dtype='<U2')"
      ]
     },
     "execution_count": 93,
     "metadata": {},
     "output_type": "execute_result"
    }
   ],
   "source": [
    "assignedMembers = assign_members(x1, x2, centers)\n",
    "np.where(assignedMembers, 'C2', 'C1')"
   ]
  },
  {
   "cell_type": "code",
   "execution_count": 94,
   "id": "9fea7d0f",
   "metadata": {},
   "outputs": [
    {
     "data": {
      "text/plain": [
       "[[1.0, 1.0], [2.5, 1.0]]"
      ]
     },
     "execution_count": 94,
     "metadata": {},
     "output_type": "execute_result"
    }
   ],
   "source": [
    "update_centers(x1, x2, assignedMembers)"
   ]
  }
 ],
 "metadata": {
  "kernelspec": {
   "display_name": "Python 3 (ipykernel)",
   "language": "python",
   "name": "python3"
  },
  "language_info": {
   "codemirror_mode": {
    "name": "ipython",
    "version": 3
   },
   "file_extension": ".py",
   "mimetype": "text/x-python",
   "name": "python",
   "nbconvert_exporter": "python",
   "pygments_lexer": "ipython3",
   "version": "3.9.6"
  }
 },
 "nbformat": 4,
 "nbformat_minor": 5
}
