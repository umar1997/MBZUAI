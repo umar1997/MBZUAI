{
 "cells": [
  {
   "cell_type": "code",
   "execution_count": 1,
   "id": "e61d45f3",
   "metadata": {},
   "outputs": [],
   "source": [
    "from gensim.test.utils import get_tmpfile\n",
    "from gensim.models import KeyedVectors\n",
    "from gensim.scripts.glove2word2vec import glove2word2vec"
   ]
  },
  {
   "cell_type": "code",
   "execution_count": 4,
   "id": "5c8f3699",
   "metadata": {
    "scrolled": true
   },
   "outputs": [
    {
     "name": "stderr",
     "output_type": "stream",
     "text": [
      "<ipython-input-4-75014431a584>:10: DeprecationWarning: Call to deprecated `glove2word2vec` (KeyedVectors.load_word2vec_format(.., binary=False, no_header=True) loads GLoVE text vectors.).\n",
      "  glove2word2vec(glove_file, word2vec_glove_file) # convert GloVe vectors into the word2vec format\n"
     ]
    },
    {
     "name": "stdout",
     "output_type": "stream",
     "text": [
      "queen: 0.7699\n",
      "australian\n",
      "terrible\n",
      "longest\n",
      "nixon\n",
      "cereal\n"
     ]
    }
   ],
   "source": [
    "glove_file = \"glove.6B.100d.txt\" # Downloaded from 'https://www.kaggle.com/danielwillgeorge/glove6b100dtxt' 347Mb\n",
    "# 400K vocab, 100 denotes vector size\n",
    "\n",
    "word2vec_glove_file = get_tmpfile(\"glove.6B.100d.word2vec.txt\") # Get the full path of a new file name in the system temporary directory\n",
    "\n",
    "glove2word2vec(glove_file, word2vec_glove_file) # convert GloVe vectors into the word2vec format\n",
    "# Both files are presented in text format and almost identical except that word2vec includes number of vectors and its dimension which is only difference regard to GloVe\n",
    "# We do this convertion because Gensim does not natively support GloVe format\n",
    "\n",
    "model = KeyedVectors.load_word2vec_format(word2vec_glove_file) # Load the created model into object 'model' \n",
    "\n",
    "result = model.most_similar(positive=['woman', 'king'], negative=['man'])\n",
    "print(\"{}: {:.4f}\".format(*result[0]))\n",
    "\n",
    "def analogy(x1, x2, y1):\n",
    "    result = model.most_similar(positive=[y1, x2], negative=[x1])\n",
    "    return result[0][0]\n",
    "\n",
    "print(analogy('japan', 'japanese', 'australia'))\n",
    "print(analogy('good', 'fantastic', 'bad'))\n",
    "print(analogy('tall', 'tallest', 'long'))\n",
    "\n",
    "print(analogy('obama', 'clinton', 'reagan')) #every other president, not following each other\n",
    "#between obama & clinton was george bush (son) & between clinton & reagan was george bush (father)\n",
    "#so it skipped carter right before reagan and picked nixon\n",
    "\n",
    "print(model.doesnt_match(\"breakfast cereal dinner lunch\".split()))\n",
    "\n",
    "\n",
    "        \n"
   ]
  },
  {
   "cell_type": "code",
   "execution_count": 1,
   "id": "f81a78c7",
   "metadata": {},
   "outputs": [],
   "source": [
    "print(analogy('japan', 'japanese', 'UAE'))"
   ]
  },
  {
   "cell_type": "code",
   "execution_count": 2,
   "id": "2f47a399",
   "metadata": {},
   "outputs": [],
   "source": [
    "print(analogy('japan', 'japanese', 'united arab emirates'))"
   ]
  },
  {
   "cell_type": "code",
   "execution_count": 3,
   "id": "6db0bd26",
   "metadata": {},
   "outputs": [],
   "source": [
    "print(analogy('japan', 'japanese', 'saudi arabia'))"
   ]
  },
  {
   "cell_type": "code",
   "execution_count": 8,
   "id": "52bf9911",
   "metadata": {},
   "outputs": [
    {
     "name": "stdout",
     "output_type": "stream",
     "text": [
      "tibetan\n"
     ]
    }
   ],
   "source": [
    "print(analogy('japan', 'japanese', 'tibet'))"
   ]
  },
  {
   "cell_type": "code",
   "execution_count": 9,
   "id": "f97cd3fb",
   "metadata": {},
   "outputs": [
    {
     "name": "stdout",
     "output_type": "stream",
     "text": [
      "taiwanese\n"
     ]
    }
   ],
   "source": [
    "print(analogy('japan', 'japanese', 'taiwan'))"
   ]
  },
  {
   "cell_type": "code",
   "execution_count": 10,
   "id": "43450a67",
   "metadata": {},
   "outputs": [
    {
     "name": "stdout",
     "output_type": "stream",
     "text": [
      "lebanese\n"
     ]
    }
   ],
   "source": [
    "print(analogy('japan', 'japanese', 'lebanon'))"
   ]
  },
  {
   "cell_type": "code",
   "execution_count": 11,
   "id": "ff3d7902",
   "metadata": {},
   "outputs": [
    {
     "name": "stdout",
     "output_type": "stream",
     "text": [
      "geagea\n"
     ]
    }
   ],
   "source": [
    "print(analogy('obama', 'clinton', 'aoun'))"
   ]
  },
  {
   "cell_type": "code",
   "execution_count": 4,
   "id": "eddbd26c",
   "metadata": {},
   "outputs": [],
   "source": [
    "print(analogy('obama', 'clinton', 'Bin Zayed'))"
   ]
  },
  {
   "cell_type": "code",
   "execution_count": 13,
   "id": "4dae933d",
   "metadata": {},
   "outputs": [
    {
     "name": "stdout",
     "output_type": "stream",
     "text": [
      "khalifa\n"
     ]
    }
   ],
   "source": [
    "print(analogy('obama', 'clinton', 'maktoum'))"
   ]
  },
  {
   "cell_type": "code",
   "execution_count": 14,
   "id": "c6a367c7",
   "metadata": {},
   "outputs": [
    {
     "name": "stdout",
     "output_type": "stream",
     "text": [
      "saddam\n"
     ]
    }
   ],
   "source": [
    "print(analogy('obama', 'clinton', 'hussein'))"
   ]
  },
  {
   "cell_type": "code",
   "execution_count": null,
   "id": "b7f2f92c",
   "metadata": {},
   "outputs": [],
   "source": []
  }
 ],
 "metadata": {
  "kernelspec": {
   "display_name": "Python 3 (ipykernel)",
   "language": "python",
   "name": "python3"
  },
  "language_info": {
   "codemirror_mode": {
    "name": "ipython",
    "version": 3
   },
   "file_extension": ".py",
   "mimetype": "text/x-python",
   "name": "python",
   "nbconvert_exporter": "python",
   "pygments_lexer": "ipython3",
   "version": "3.9.6"
  }
 },
 "nbformat": 4,
 "nbformat_minor": 5
}
